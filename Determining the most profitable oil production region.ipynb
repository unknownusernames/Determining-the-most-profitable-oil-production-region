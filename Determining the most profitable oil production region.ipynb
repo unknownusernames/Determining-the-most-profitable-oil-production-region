{
 "cells": [
  {
   "cell_type": "markdown",
   "metadata": {},
   "source": [
    "# Выбор локации для скважины"
   ]
  },
  {
   "cell_type": "markdown",
   "metadata": {},
   "source": [
    "Допустим, вы работаете в добывающей компании «ГлавРосГосНефть». Нужно решить, где бурить новую скважину.\n",
    "\n",
    "Вам предоставлены пробы нефти в трёх регионах: в каждом 10 000 месторождений, где измерили качество нефти и объём её запасов. Постройте модель машинного обучения, которая поможет определить регион, где добыча принесёт наибольшую прибыль. Проанализируйте возможную прибыль и риски техникой *Bootstrap.*\n",
    "\n",
    "Шаги для выбора локации:\n",
    "\n",
    "- В избранном регионе ищут месторождения, для каждого определяют значения признаков;\n",
    "- Строят модель и оценивают объём запасов;\n",
    "- Выбирают месторождения с самым высокими оценками значений. Количество месторождений зависит от бюджета компании и стоимости разработки одной скважины;\n",
    "- Прибыль равна суммарной прибыли отобранных месторождений."
   ]
  },
  {
   "cell_type": "markdown",
   "metadata": {},
   "source": [
    "## Загрузка и подготовка данных"
   ]
  },
  {
   "cell_type": "markdown",
   "metadata": {},
   "source": [
    "Импортируем нужные нам библиотеки."
   ]
  },
  {
   "cell_type": "code",
   "execution_count": 1,
   "metadata": {},
   "outputs": [],
   "source": [
    "import pandas as pd\n",
    "\n",
    "from numpy.random import RandomState\n",
    "\n",
    "from sklearn.tree import DecisionTreeRegressor\n",
    "from sklearn.ensemble import RandomForestRegressor\n",
    "from sklearn.linear_model import LinearRegression\n",
    "\n",
    "from sklearn.model_selection import train_test_split\n",
    "from sklearn.preprocessing import StandardScaler\n",
    "\n",
    "from sklearn.metrics import mean_squared_error\n",
    "\n",
    "from scipy import stats as st\n",
    "from scipy.stats import t\n",
    "\n",
    "import matplotlib.pyplot as plt"
   ]
  },
  {
   "cell_type": "code",
   "execution_count": 2,
   "metadata": {},
   "outputs": [
    {
     "name": "stdout",
     "output_type": "stream",
     "text": [
      "               f0        f1        f2   product\n",
      "f0       1.000000 -0.471395 -0.002685  0.128417\n",
      "f1      -0.471395  1.000000  0.001413 -0.181143\n",
      "f2      -0.002685  0.001413  1.000000  0.486394\n",
      "product  0.128417 -0.181143  0.486394  1.000000\n",
      "               f0        f1        f2   product\n",
      "f0       1.000000  0.182248 -0.002000 -0.122869\n",
      "f1       0.182248  1.000000 -0.003678 -0.033908\n",
      "f2      -0.002000 -0.003678  1.000000  0.975605\n",
      "product -0.122869 -0.033908  0.975605  1.000000\n",
      "               f0        f1        f2   product\n",
      "f0       1.000000  0.002493  0.000053 -0.002464\n",
      "f1       0.002493  1.000000  0.000378 -0.001463\n",
      "f2       0.000053  0.000378  1.000000  0.448463\n",
      "product -0.002464 -0.001463  0.448463  1.000000\n"
     ]
    }
   ],
   "source": [
    "data_0 = pd.read_csv('/datasets/geo_data_0.csv')\n",
    "data_1 = pd.read_csv('/datasets/geo_data_1.csv')\n",
    "data_2 = pd.read_csv('/datasets/geo_data_2.csv')\n",
    "\n",
    "data_0 = data_0.drop(['id'], axis=1)\n",
    "data_1 = data_1.drop(['id'], axis=1)\n",
    "data_2 = data_2.drop(['id'], axis=1)\n",
    "\n",
    "print(data_0.corr(method='spearman'))\n",
    "print(data_1.corr(method='spearman'))\n",
    "print(data_2.corr(method='spearman'))"
   ]
  },
  {
   "cell_type": "markdown",
   "metadata": {},
   "source": [
    "Проверим количество пропущенных значений в данных"
   ]
  },
  {
   "cell_type": "code",
   "execution_count": 3,
   "metadata": {},
   "outputs": [
    {
     "name": "stdout",
     "output_type": "stream",
     "text": [
      "f0         0\n",
      "f1         0\n",
      "f2         0\n",
      "product    0\n",
      "dtype: int64 \n",
      " f0         0\n",
      "f1         0\n",
      "f2         0\n",
      "product    0\n",
      "dtype: int64 \n",
      " f0         0\n",
      "f1         0\n",
      "f2         0\n",
      "product    0\n",
      "dtype: int64\n"
     ]
    }
   ],
   "source": [
    "print(data_0.isna().sum(), '\\n', data_1.isna().sum(), '\\n', data_2.isna().sum())"
   ]
  },
  {
   "cell_type": "code",
   "execution_count": 4,
   "metadata": {
    "scrolled": false
   },
   "outputs": [
    {
     "name": "stdout",
     "output_type": "stream",
     "text": [
      "                  f0             f1             f2        product\n",
      "count  100000.000000  100000.000000  100000.000000  100000.000000\n",
      "mean        0.500419       0.250143       2.502647      92.500000\n",
      "std         0.871832       0.504433       3.248248      44.288691\n",
      "min        -1.408605      -0.848218     -12.088328       0.000000\n",
      "25%        -0.072580      -0.200881       0.287748      56.497507\n",
      "50%         0.502360       0.250252       2.515969      91.849972\n",
      "75%         1.073581       0.700646       4.715088     128.564089\n",
      "max         2.362331       1.343769      16.003790     185.364347 \n",
      "                   f0             f1             f2        product\n",
      "count  100000.000000  100000.000000  100000.000000  100000.000000\n",
      "mean        1.141296      -4.796579       2.494541      68.825000\n",
      "std         8.965932       5.119872       1.703572      45.944423\n",
      "min       -31.609576     -26.358598      -0.018144       0.000000\n",
      "25%        -6.298551      -8.267985       1.000021      26.953261\n",
      "50%         1.153055      -4.813172       2.011479      57.085625\n",
      "75%         8.621015      -1.332816       3.999904     107.813044\n",
      "max        29.421755      18.734063       5.019721     137.945408 \n",
      "                   f0             f1             f2        product\n",
      "count  100000.000000  100000.000000  100000.000000  100000.000000\n",
      "mean        0.002023      -0.002081       2.495128      95.000000\n",
      "std         1.732045       1.730417       3.473445      44.749921\n",
      "min        -8.760004      -7.084020     -11.970335       0.000000\n",
      "25%        -1.162288      -1.174820       0.130359      59.450441\n",
      "50%         0.009424      -0.009482       2.484236      94.925613\n",
      "75%         1.158535       1.163678       4.858794     130.595027\n",
      "max         7.238262       7.844801      16.739402     190.029838\n"
     ]
    }
   ],
   "source": [
    "print(data_0.describe(),'\\n', data_1.describe(),'\\n', data_2.describe())"
   ]
  },
  {
   "cell_type": "markdown",
   "metadata": {},
   "source": [
    "Разобьем данные каждого региона на обучающую и валидационные выборки в соотношении 75:25."
   ]
  },
  {
   "cell_type": "code",
   "execution_count": 5,
   "metadata": {},
   "outputs": [],
   "source": [
    "features_0 = data_0.drop(['product'], axis=1)\n",
    "target_0 = data_0['product']\n",
    "\n",
    "features_1 = data_1.drop(['product'], axis=1)\n",
    "target_1 = data_1['product']\n",
    "\n",
    "features_2 = data_2.drop(['product'], axis=1)\n",
    "target_2 = data_2['product']"
   ]
  },
  {
   "cell_type": "code",
   "execution_count": 6,
   "metadata": {},
   "outputs": [],
   "source": [
    "features_train_0, features_valid_0, target_train_0, target_valid_0 = (\n",
    "    train_test_split(features_0,\n",
    "                     target_0,\n",
    "                     test_size=.25,\n",
    "                     random_state=12345)\n",
    ")\n",
    "\n",
    "features_train_1, features_valid_1, target_train_1, target_valid_1 = (\n",
    "    train_test_split(features_1,\n",
    "                     target_1,\n",
    "                     test_size=.25,\n",
    "                     random_state=12345)\n",
    ")\n",
    "\n",
    "features_train_2, features_valid_2, target_train_2, target_valid_2 = (\n",
    "    train_test_split(features_2,\n",
    "                     target_2,\n",
    "                     test_size=.25,\n",
    "                     random_state=12345)\n",
    ")"
   ]
  },
  {
   "cell_type": "markdown",
   "metadata": {},
   "source": [
    "Проведем масштабирование данных методом StandardScaler."
   ]
  },
  {
   "cell_type": "code",
   "execution_count": 7,
   "metadata": {},
   "outputs": [
    {
     "name": "stdout",
     "output_type": "stream",
     "text": [
      "(75000, 3)\n",
      "(25000, 3)\n",
      "(75000, 3)\n",
      "(25000, 3)\n",
      "(75000, 3)\n",
      "(25000, 3)\n"
     ]
    }
   ],
   "source": [
    "scaler = StandardScaler(with_mean=False)\n",
    "features_train_0 = scaler.fit_transform(features_train_0)\n",
    "features_valid_0 = scaler.transform(features_valid_0)\n",
    "\n",
    "features_train_1 = scaler.fit_transform(features_train_1)\n",
    "features_valid_1 = scaler.transform(features_valid_1)\n",
    "\n",
    "features_train_2 = scaler.fit_transform(features_train_2)\n",
    "features_valid_2 = scaler.transform(features_valid_2)\n",
    "\n",
    "print(features_train_0.shape)\n",
    "print(features_valid_0.shape)\n",
    "\n",
    "print(features_train_1.shape)\n",
    "print(features_valid_1.shape)\n",
    "\n",
    "print(features_train_2.shape)\n",
    "print(features_valid_2.shape)"
   ]
  },
  {
   "cell_type": "markdown",
   "metadata": {},
   "source": [
    "Так как у нас нет категориальных признаков, прямое кодирование данных нам не понадобится, но так как пристутсвуют количественные признаки с разными разбросами значений, данные были промасштабированны методом StandardScaler."
   ]
  },
  {
   "cell_type": "markdown",
   "metadata": {},
   "source": [
    "После обработки и изучения исходных данных, можно заметить высокую положительную корреляцию у всех трех датасетов между целевым признаком product и признаком f2, так же можно отметить что датасеты оказались без пропущенных значений, потому было произведено лишь масштабирование данных методом StandardScaler."
   ]
  },
  {
   "cell_type": "markdown",
   "metadata": {},
   "source": [
    "## Обучение и проверка модели"
   ]
  },
  {
   "cell_type": "markdown",
   "metadata": {},
   "source": [
    "Обучим модели для каждого региона по отдельности."
   ]
  },
  {
   "cell_type": "markdown",
   "metadata": {},
   "source": [
    "### Регион 1."
   ]
  },
  {
   "cell_type": "markdown",
   "metadata": {},
   "source": [
    "Обучим модель LinearRegressor."
   ]
  },
  {
   "cell_type": "code",
   "execution_count": 8,
   "metadata": {},
   "outputs": [
    {
     "name": "stdout",
     "output_type": "stream",
     "text": [
      "Средний запас предсказанного сырья: 92.59256778438035\n",
      "RMSE модели: 37.5794217150813\n"
     ]
    }
   ],
   "source": [
    "model_LR_0 = LinearRegression()\n",
    "model_LR_0.fit(features_train_0, target_train_0)\n",
    "predicted_valid_0 = model_LR_0.predict(features_valid_0)\n",
    "\n",
    "print(f'Средний запас предсказанного сырья: {predicted_valid_0.mean()}\\n\\\n",
    "RMSE модели: {mean_squared_error(target_valid_0, predicted_valid_0) ** .5}')"
   ]
  },
  {
   "cell_type": "markdown",
   "metadata": {},
   "source": [
    "### Регион 2."
   ]
  },
  {
   "cell_type": "markdown",
   "metadata": {},
   "source": [
    "Обучим модель LinearRegressor."
   ]
  },
  {
   "cell_type": "code",
   "execution_count": 9,
   "metadata": {},
   "outputs": [
    {
     "name": "stdout",
     "output_type": "stream",
     "text": [
      "Средний запас предсказанного сырья: 68.72854689544602\n",
      "RMSE модели: 0.893099286775617\n"
     ]
    }
   ],
   "source": [
    "model_LR_1 = LinearRegression()\n",
    "model_LR_1.fit(features_train_1, target_train_1)\n",
    "predicted_valid_1 = model_LR_1.predict(features_valid_1)\n",
    "\n",
    "print(f'Средний запас предсказанного сырья: {predicted_valid_1.mean()}\\n\\\n",
    "RMSE модели: {mean_squared_error(target_valid_1, predicted_valid_1) ** .5}')"
   ]
  },
  {
   "cell_type": "markdown",
   "metadata": {},
   "source": [
    "### Регион 3."
   ]
  },
  {
   "cell_type": "markdown",
   "metadata": {},
   "source": [
    "Обучим модель LinearRegressor."
   ]
  },
  {
   "cell_type": "code",
   "execution_count": 18,
   "metadata": {},
   "outputs": [
    {
     "name": "stdout",
     "output_type": "stream",
     "text": [
      "CPU times: user 3 µs, sys: 1 µs, total: 4 µs\n",
      "Wall time: 5.48 µs\n",
      "Learning rate set to 0.080991\n",
      "0:\tlearn: 43.8723871\ttotal: 8.95ms\tremaining: 8.94s\n",
      "1:\tlearn: 43.1477505\ttotal: 17.9ms\tremaining: 8.94s\n",
      "2:\tlearn: 42.5058208\ttotal: 26.8ms\tremaining: 8.9s\n",
      "3:\tlearn: 41.9403960\ttotal: 35.6ms\tremaining: 8.86s\n",
      "4:\tlearn: 41.4251580\ttotal: 44ms\tremaining: 8.75s\n",
      "5:\tlearn: 40.9487480\ttotal: 52.4ms\tremaining: 8.68s\n",
      "6:\tlearn: 40.5925540\ttotal: 60.5ms\tremaining: 8.59s\n",
      "7:\tlearn: 40.2571614\ttotal: 68.3ms\tremaining: 8.47s\n",
      "8:\tlearn: 39.9359521\ttotal: 76.3ms\tremaining: 8.4s\n",
      "9:\tlearn: 39.6886507\ttotal: 84.3ms\tremaining: 8.35s\n",
      "10:\tlearn: 39.4638430\ttotal: 92.2ms\tremaining: 8.29s\n",
      "11:\tlearn: 39.2474091\ttotal: 100ms\tremaining: 8.24s\n",
      "12:\tlearn: 39.0687455\ttotal: 108ms\tremaining: 8.19s\n",
      "13:\tlearn: 38.8993734\ttotal: 116ms\tremaining: 8.13s\n",
      "14:\tlearn: 38.7526168\ttotal: 124ms\tremaining: 8.11s\n",
      "15:\tlearn: 38.6407326\ttotal: 132ms\tremaining: 8.1s\n",
      "16:\tlearn: 38.5375902\ttotal: 140ms\tremaining: 8.09s\n",
      "17:\tlearn: 38.4429433\ttotal: 149ms\tremaining: 8.11s\n",
      "18:\tlearn: 38.3607702\ttotal: 157ms\tremaining: 8.09s\n",
      "19:\tlearn: 38.2942072\ttotal: 165ms\tremaining: 8.07s\n",
      "20:\tlearn: 38.2264344\ttotal: 174ms\tremaining: 8.09s\n",
      "21:\tlearn: 38.1663364\ttotal: 182ms\tremaining: 8.1s\n",
      "22:\tlearn: 38.1090340\ttotal: 191ms\tremaining: 8.1s\n",
      "23:\tlearn: 38.0592933\ttotal: 199ms\tremaining: 8.11s\n",
      "24:\tlearn: 38.0245674\ttotal: 208ms\tremaining: 8.12s\n",
      "25:\tlearn: 37.9831418\ttotal: 217ms\tremaining: 8.13s\n",
      "26:\tlearn: 37.9499296\ttotal: 226ms\tremaining: 8.13s\n",
      "27:\tlearn: 37.9221477\ttotal: 234ms\tremaining: 8.13s\n",
      "28:\tlearn: 37.8928890\ttotal: 242ms\tremaining: 8.12s\n",
      "29:\tlearn: 37.8669066\ttotal: 250ms\tremaining: 8.1s\n",
      "30:\tlearn: 37.8442697\ttotal: 258ms\tremaining: 8.07s\n",
      "31:\tlearn: 37.8228971\ttotal: 266ms\tremaining: 8.06s\n",
      "32:\tlearn: 37.8036016\ttotal: 274ms\tremaining: 8.04s\n",
      "33:\tlearn: 37.7834538\ttotal: 282ms\tremaining: 8.02s\n",
      "34:\tlearn: 37.7705787\ttotal: 290ms\tremaining: 7.99s\n",
      "35:\tlearn: 37.7568708\ttotal: 298ms\tremaining: 7.97s\n",
      "36:\tlearn: 37.7427157\ttotal: 306ms\tremaining: 7.97s\n",
      "37:\tlearn: 37.7319537\ttotal: 314ms\tremaining: 7.95s\n",
      "38:\tlearn: 37.7142506\ttotal: 322ms\tremaining: 7.94s\n",
      "39:\tlearn: 37.6999248\ttotal: 332ms\tremaining: 7.96s\n",
      "40:\tlearn: 37.6913471\ttotal: 340ms\tremaining: 7.95s\n",
      "41:\tlearn: 37.6865827\ttotal: 349ms\tremaining: 7.95s\n",
      "42:\tlearn: 37.6774969\ttotal: 357ms\tremaining: 7.95s\n",
      "43:\tlearn: 37.6687432\ttotal: 366ms\tremaining: 7.95s\n",
      "44:\tlearn: 37.6600187\ttotal: 375ms\tremaining: 7.96s\n",
      "45:\tlearn: 37.6543149\ttotal: 383ms\tremaining: 7.95s\n",
      "46:\tlearn: 37.6496402\ttotal: 393ms\tremaining: 7.97s\n",
      "47:\tlearn: 37.6359494\ttotal: 401ms\tremaining: 7.96s\n",
      "48:\tlearn: 37.6282517\ttotal: 409ms\tremaining: 7.95s\n",
      "49:\tlearn: 37.6220542\ttotal: 418ms\tremaining: 7.95s\n",
      "50:\tlearn: 37.6185606\ttotal: 427ms\tremaining: 7.94s\n",
      "51:\tlearn: 37.6123746\ttotal: 436ms\tremaining: 7.95s\n",
      "52:\tlearn: 37.6026166\ttotal: 445ms\tremaining: 7.96s\n",
      "53:\tlearn: 37.5985576\ttotal: 454ms\tremaining: 7.96s\n",
      "54:\tlearn: 37.5937383\ttotal: 463ms\tremaining: 7.96s\n",
      "55:\tlearn: 37.5894632\ttotal: 471ms\tremaining: 7.95s\n",
      "56:\tlearn: 37.5825395\ttotal: 480ms\tremaining: 7.93s\n",
      "57:\tlearn: 37.5779406\ttotal: 488ms\tremaining: 7.93s\n",
      "58:\tlearn: 37.5751636\ttotal: 496ms\tremaining: 7.91s\n",
      "59:\tlearn: 37.5714919\ttotal: 504ms\tremaining: 7.9s\n",
      "60:\tlearn: 37.5691267\ttotal: 513ms\tremaining: 7.89s\n",
      "61:\tlearn: 37.5672575\ttotal: 522ms\tremaining: 7.89s\n",
      "62:\tlearn: 37.5650623\ttotal: 530ms\tremaining: 7.89s\n",
      "63:\tlearn: 37.5622905\ttotal: 539ms\tremaining: 7.88s\n",
      "64:\tlearn: 37.5613276\ttotal: 548ms\tremaining: 7.88s\n",
      "65:\tlearn: 37.5601072\ttotal: 556ms\tremaining: 7.87s\n",
      "66:\tlearn: 37.5582068\ttotal: 565ms\tremaining: 7.86s\n",
      "67:\tlearn: 37.5560770\ttotal: 573ms\tremaining: 7.85s\n",
      "68:\tlearn: 37.5548827\ttotal: 582ms\tremaining: 7.85s\n",
      "69:\tlearn: 37.5525810\ttotal: 591ms\tremaining: 7.85s\n",
      "70:\tlearn: 37.5478569\ttotal: 601ms\tremaining: 7.86s\n",
      "71:\tlearn: 37.5458086\ttotal: 611ms\tremaining: 7.87s\n",
      "72:\tlearn: 37.5441646\ttotal: 620ms\tremaining: 7.88s\n",
      "73:\tlearn: 37.5409126\ttotal: 629ms\tremaining: 7.87s\n",
      "74:\tlearn: 37.5398597\ttotal: 638ms\tremaining: 7.87s\n",
      "75:\tlearn: 37.5386584\ttotal: 646ms\tremaining: 7.86s\n",
      "76:\tlearn: 37.5370010\ttotal: 655ms\tremaining: 7.85s\n",
      "77:\tlearn: 37.5305671\ttotal: 664ms\tremaining: 7.84s\n",
      "78:\tlearn: 37.5295883\ttotal: 672ms\tremaining: 7.83s\n",
      "79:\tlearn: 37.5264107\ttotal: 680ms\tremaining: 7.82s\n",
      "80:\tlearn: 37.5218044\ttotal: 688ms\tremaining: 7.8s\n",
      "81:\tlearn: 37.5212292\ttotal: 697ms\tremaining: 7.8s\n",
      "82:\tlearn: 37.5188067\ttotal: 705ms\tremaining: 7.79s\n",
      "83:\tlearn: 37.5170738\ttotal: 714ms\tremaining: 7.79s\n",
      "84:\tlearn: 37.5166893\ttotal: 723ms\tremaining: 7.78s\n",
      "85:\tlearn: 37.5156102\ttotal: 731ms\tremaining: 7.76s\n",
      "86:\tlearn: 37.5121404\ttotal: 739ms\tremaining: 7.75s\n",
      "87:\tlearn: 37.5111962\ttotal: 747ms\tremaining: 7.74s\n",
      "88:\tlearn: 37.5101936\ttotal: 756ms\tremaining: 7.74s\n",
      "89:\tlearn: 37.5065168\ttotal: 764ms\tremaining: 7.73s\n",
      "90:\tlearn: 37.5056110\ttotal: 774ms\tremaining: 7.73s\n",
      "91:\tlearn: 37.5045205\ttotal: 783ms\tremaining: 7.72s\n",
      "92:\tlearn: 37.5035643\ttotal: 791ms\tremaining: 7.72s\n",
      "93:\tlearn: 37.5014653\ttotal: 799ms\tremaining: 7.71s\n",
      "94:\tlearn: 37.5002337\ttotal: 808ms\tremaining: 7.7s\n",
      "95:\tlearn: 37.4980701\ttotal: 816ms\tremaining: 7.68s\n",
      "96:\tlearn: 37.4968784\ttotal: 824ms\tremaining: 7.67s\n",
      "97:\tlearn: 37.4947706\ttotal: 833ms\tremaining: 7.66s\n",
      "98:\tlearn: 37.4917153\ttotal: 841ms\tremaining: 7.66s\n",
      "99:\tlearn: 37.4907445\ttotal: 850ms\tremaining: 7.65s\n",
      "100:\tlearn: 37.4896065\ttotal: 858ms\tremaining: 7.64s\n",
      "101:\tlearn: 37.4885778\ttotal: 867ms\tremaining: 7.63s\n",
      "102:\tlearn: 37.4855167\ttotal: 876ms\tremaining: 7.63s\n",
      "103:\tlearn: 37.4840775\ttotal: 885ms\tremaining: 7.62s\n",
      "104:\tlearn: 37.4817099\ttotal: 896ms\tremaining: 7.64s\n",
      "105:\tlearn: 37.4809398\ttotal: 906ms\tremaining: 7.64s\n",
      "106:\tlearn: 37.4783798\ttotal: 915ms\tremaining: 7.64s\n",
      "107:\tlearn: 37.4764948\ttotal: 924ms\tremaining: 7.63s\n",
      "108:\tlearn: 37.4739644\ttotal: 933ms\tremaining: 7.62s\n",
      "109:\tlearn: 37.4734927\ttotal: 941ms\tremaining: 7.61s\n",
      "110:\tlearn: 37.4724881\ttotal: 950ms\tremaining: 7.61s\n",
      "111:\tlearn: 37.4717201\ttotal: 958ms\tremaining: 7.6s\n",
      "112:\tlearn: 37.4684631\ttotal: 968ms\tremaining: 7.6s\n",
      "113:\tlearn: 37.4658305\ttotal: 977ms\tremaining: 7.59s\n",
      "114:\tlearn: 37.4644078\ttotal: 986ms\tremaining: 7.58s\n",
      "115:\tlearn: 37.4632446\ttotal: 994ms\tremaining: 7.58s\n",
      "116:\tlearn: 37.4609082\ttotal: 1s\tremaining: 7.57s\n",
      "117:\tlearn: 37.4595474\ttotal: 1.01s\tremaining: 7.56s\n",
      "118:\tlearn: 37.4583681\ttotal: 1.02s\tremaining: 7.56s\n",
      "119:\tlearn: 37.4568241\ttotal: 1.03s\tremaining: 7.55s\n",
      "120:\tlearn: 37.4541527\ttotal: 1.04s\tremaining: 7.54s\n",
      "121:\tlearn: 37.4515102\ttotal: 1.05s\tremaining: 7.53s\n",
      "122:\tlearn: 37.4486728\ttotal: 1.05s\tremaining: 7.52s\n",
      "123:\tlearn: 37.4481346\ttotal: 1.06s\tremaining: 7.51s\n",
      "124:\tlearn: 37.4472363\ttotal: 1.07s\tremaining: 7.5s\n",
      "125:\tlearn: 37.4465850\ttotal: 1.08s\tremaining: 7.49s\n",
      "126:\tlearn: 37.4450784\ttotal: 1.09s\tremaining: 7.49s\n",
      "127:\tlearn: 37.4440989\ttotal: 1.1s\tremaining: 7.48s\n",
      "128:\tlearn: 37.4433119\ttotal: 1.11s\tremaining: 7.48s\n",
      "129:\tlearn: 37.4426794\ttotal: 1.11s\tremaining: 7.47s\n",
      "130:\tlearn: 37.4406997\ttotal: 1.12s\tremaining: 7.46s\n",
      "131:\tlearn: 37.4394354\ttotal: 1.13s\tremaining: 7.45s\n",
      "132:\tlearn: 37.4386115\ttotal: 1.14s\tremaining: 7.45s\n",
      "133:\tlearn: 37.4374867\ttotal: 1.15s\tremaining: 7.44s\n",
      "134:\tlearn: 37.4368230\ttotal: 1.16s\tremaining: 7.44s\n",
      "135:\tlearn: 37.4363439\ttotal: 1.17s\tremaining: 7.43s\n",
      "136:\tlearn: 37.4342342\ttotal: 1.18s\tremaining: 7.42s\n",
      "137:\tlearn: 37.4324570\ttotal: 1.19s\tremaining: 7.41s\n",
      "138:\tlearn: 37.4297828\ttotal: 1.2s\tremaining: 7.4s\n",
      "139:\tlearn: 37.4290378\ttotal: 1.2s\tremaining: 7.39s\n",
      "140:\tlearn: 37.4279557\ttotal: 1.21s\tremaining: 7.38s\n",
      "141:\tlearn: 37.4269739\ttotal: 1.22s\tremaining: 7.37s\n",
      "142:\tlearn: 37.4241516\ttotal: 1.23s\tremaining: 7.36s\n",
      "143:\tlearn: 37.4234742\ttotal: 1.24s\tremaining: 7.34s\n",
      "144:\tlearn: 37.4222509\ttotal: 1.24s\tremaining: 7.33s\n",
      "145:\tlearn: 37.4200717\ttotal: 1.25s\tremaining: 7.32s\n",
      "146:\tlearn: 37.4194208\ttotal: 1.26s\tremaining: 7.32s\n",
      "147:\tlearn: 37.4183647\ttotal: 1.27s\tremaining: 7.32s\n",
      "148:\tlearn: 37.4166277\ttotal: 1.28s\tremaining: 7.32s\n",
      "149:\tlearn: 37.4154290\ttotal: 1.29s\tremaining: 7.33s\n",
      "150:\tlearn: 37.4131327\ttotal: 1.3s\tremaining: 7.33s\n",
      "151:\tlearn: 37.4111925\ttotal: 1.31s\tremaining: 7.33s\n",
      "152:\tlearn: 37.4095902\ttotal: 1.33s\tremaining: 7.35s\n",
      "153:\tlearn: 37.4084351\ttotal: 1.34s\tremaining: 7.35s\n",
      "154:\tlearn: 37.4073161\ttotal: 1.35s\tremaining: 7.35s\n",
      "155:\tlearn: 37.4065827\ttotal: 1.36s\tremaining: 7.35s\n",
      "156:\tlearn: 37.4047043\ttotal: 1.37s\tremaining: 7.35s\n",
      "157:\tlearn: 37.4031144\ttotal: 1.38s\tremaining: 7.35s\n",
      "158:\tlearn: 37.4017961\ttotal: 1.39s\tremaining: 7.35s\n",
      "159:\tlearn: 37.4012250\ttotal: 1.4s\tremaining: 7.35s\n",
      "160:\tlearn: 37.4004814\ttotal: 1.41s\tremaining: 7.34s\n",
      "161:\tlearn: 37.3996439\ttotal: 1.42s\tremaining: 7.33s\n",
      "162:\tlearn: 37.3985485\ttotal: 1.43s\tremaining: 7.32s\n",
      "163:\tlearn: 37.3971189\ttotal: 1.43s\tremaining: 7.31s\n",
      "164:\tlearn: 37.3958307\ttotal: 1.44s\tremaining: 7.29s\n",
      "165:\tlearn: 37.3945663\ttotal: 1.45s\tremaining: 7.28s\n",
      "166:\tlearn: 37.3934102\ttotal: 1.46s\tremaining: 7.27s\n",
      "167:\tlearn: 37.3916388\ttotal: 1.47s\tremaining: 7.26s\n",
      "168:\tlearn: 37.3908598\ttotal: 1.47s\tremaining: 7.24s\n",
      "169:\tlearn: 37.3894367\ttotal: 1.48s\tremaining: 7.23s\n",
      "170:\tlearn: 37.3879730\ttotal: 1.49s\tremaining: 7.22s\n",
      "171:\tlearn: 37.3865550\ttotal: 1.5s\tremaining: 7.21s\n",
      "172:\tlearn: 37.3846377\ttotal: 1.5s\tremaining: 7.2s\n",
      "173:\tlearn: 37.3829908\ttotal: 1.51s\tremaining: 7.18s\n",
      "174:\tlearn: 37.3818038\ttotal: 1.52s\tremaining: 7.17s\n",
      "175:\tlearn: 37.3800151\ttotal: 1.53s\tremaining: 7.16s\n",
      "176:\tlearn: 37.3792722\ttotal: 1.54s\tremaining: 7.15s\n",
      "177:\tlearn: 37.3779262\ttotal: 1.54s\tremaining: 7.13s\n",
      "178:\tlearn: 37.3766947\ttotal: 1.55s\tremaining: 7.13s\n",
      "179:\tlearn: 37.3738480\ttotal: 1.56s\tremaining: 7.13s\n",
      "180:\tlearn: 37.3712874\ttotal: 1.57s\tremaining: 7.12s\n",
      "181:\tlearn: 37.3696501\ttotal: 1.58s\tremaining: 7.11s\n",
      "182:\tlearn: 37.3683715\ttotal: 1.59s\tremaining: 7.1s\n",
      "183:\tlearn: 37.3655399\ttotal: 1.6s\tremaining: 7.09s\n",
      "184:\tlearn: 37.3643163\ttotal: 1.61s\tremaining: 7.09s\n",
      "185:\tlearn: 37.3633664\ttotal: 1.62s\tremaining: 7.08s\n",
      "186:\tlearn: 37.3619689\ttotal: 1.63s\tremaining: 7.07s\n",
      "187:\tlearn: 37.3609629\ttotal: 1.63s\tremaining: 7.06s\n",
      "188:\tlearn: 37.3597185\ttotal: 1.64s\tremaining: 7.05s\n",
      "189:\tlearn: 37.3584045\ttotal: 1.65s\tremaining: 7.04s\n",
      "190:\tlearn: 37.3566132\ttotal: 1.66s\tremaining: 7.03s\n",
      "191:\tlearn: 37.3558632\ttotal: 1.67s\tremaining: 7.02s\n",
      "192:\tlearn: 37.3542960\ttotal: 1.68s\tremaining: 7s\n",
      "193:\tlearn: 37.3535966\ttotal: 1.68s\tremaining: 6.99s\n",
      "194:\tlearn: 37.3496726\ttotal: 1.69s\tremaining: 6.98s\n",
      "195:\tlearn: 37.3481203\ttotal: 1.7s\tremaining: 6.97s\n",
      "196:\tlearn: 37.3465432\ttotal: 1.71s\tremaining: 6.96s\n",
      "197:\tlearn: 37.3451096\ttotal: 1.71s\tremaining: 6.95s\n",
      "198:\tlearn: 37.3441588\ttotal: 1.72s\tremaining: 6.93s\n",
      "199:\tlearn: 37.3429340\ttotal: 1.73s\tremaining: 6.92s\n",
      "200:\tlearn: 37.3408644\ttotal: 1.74s\tremaining: 6.91s\n",
      "201:\tlearn: 37.3397481\ttotal: 1.75s\tremaining: 6.91s\n",
      "202:\tlearn: 37.3386291\ttotal: 1.76s\tremaining: 6.9s\n",
      "203:\tlearn: 37.3378736\ttotal: 1.77s\tremaining: 6.9s\n",
      "204:\tlearn: 37.3348825\ttotal: 1.78s\tremaining: 6.89s\n",
      "205:\tlearn: 37.3327260\ttotal: 1.79s\tremaining: 6.88s\n",
      "206:\tlearn: 37.3312602\ttotal: 1.79s\tremaining: 6.88s\n",
      "207:\tlearn: 37.3293583\ttotal: 1.8s\tremaining: 6.87s\n",
      "208:\tlearn: 37.3280112\ttotal: 1.81s\tremaining: 6.87s\n",
      "209:\tlearn: 37.3262260\ttotal: 1.83s\tremaining: 6.88s\n",
      "210:\tlearn: 37.3253269\ttotal: 1.84s\tremaining: 6.88s\n",
      "211:\tlearn: 37.3243531\ttotal: 1.85s\tremaining: 6.88s\n",
      "212:\tlearn: 37.3232847\ttotal: 1.86s\tremaining: 6.88s\n",
      "213:\tlearn: 37.3222772\ttotal: 1.87s\tremaining: 6.87s\n",
      "214:\tlearn: 37.3206306\ttotal: 1.88s\tremaining: 6.87s\n",
      "215:\tlearn: 37.3198099\ttotal: 1.89s\tremaining: 6.86s\n",
      "216:\tlearn: 37.3183979\ttotal: 1.9s\tremaining: 6.85s\n",
      "217:\tlearn: 37.3174463\ttotal: 1.91s\tremaining: 6.84s\n",
      "218:\tlearn: 37.3165452\ttotal: 1.92s\tremaining: 6.84s\n",
      "219:\tlearn: 37.3157246\ttotal: 1.93s\tremaining: 6.83s\n",
      "220:\tlearn: 37.3144486\ttotal: 1.93s\tremaining: 6.82s\n",
      "221:\tlearn: 37.3133783\ttotal: 1.94s\tremaining: 6.81s\n",
      "222:\tlearn: 37.3125235\ttotal: 1.95s\tremaining: 6.8s\n",
      "223:\tlearn: 37.3114310\ttotal: 1.96s\tremaining: 6.79s\n",
      "224:\tlearn: 37.3101128\ttotal: 1.97s\tremaining: 6.78s\n",
      "225:\tlearn: 37.3092306\ttotal: 1.98s\tremaining: 6.76s\n",
      "226:\tlearn: 37.3065298\ttotal: 1.98s\tremaining: 6.75s\n",
      "227:\tlearn: 37.3055443\ttotal: 1.99s\tremaining: 6.75s\n",
      "228:\tlearn: 37.3043521\ttotal: 2s\tremaining: 6.74s\n",
      "229:\tlearn: 37.3026188\ttotal: 2.01s\tremaining: 6.73s\n",
      "230:\tlearn: 37.3015569\ttotal: 2.02s\tremaining: 6.72s\n",
      "231:\tlearn: 37.2996917\ttotal: 2.03s\tremaining: 6.71s\n",
      "232:\tlearn: 37.2970058\ttotal: 2.03s\tremaining: 6.7s\n",
      "233:\tlearn: 37.2959789\ttotal: 2.04s\tremaining: 6.68s\n",
      "234:\tlearn: 37.2953124\ttotal: 2.05s\tremaining: 6.67s\n",
      "235:\tlearn: 37.2943591\ttotal: 2.06s\tremaining: 6.66s\n",
      "236:\tlearn: 37.2935506\ttotal: 2.06s\tremaining: 6.65s\n",
      "237:\tlearn: 37.2926027\ttotal: 2.07s\tremaining: 6.64s\n",
      "238:\tlearn: 37.2904842\ttotal: 2.08s\tremaining: 6.63s\n",
      "239:\tlearn: 37.2898797\ttotal: 2.09s\tremaining: 6.62s\n",
      "240:\tlearn: 37.2893703\ttotal: 2.1s\tremaining: 6.61s\n",
      "241:\tlearn: 37.2878842\ttotal: 2.1s\tremaining: 6.59s\n",
      "242:\tlearn: 37.2872026\ttotal: 2.11s\tremaining: 6.58s\n",
      "243:\tlearn: 37.2856428\ttotal: 2.12s\tremaining: 6.57s\n",
      "244:\tlearn: 37.2844314\ttotal: 2.13s\tremaining: 6.56s\n",
      "245:\tlearn: 37.2833192\ttotal: 2.14s\tremaining: 6.55s\n",
      "246:\tlearn: 37.2806329\ttotal: 2.15s\tremaining: 6.55s\n",
      "247:\tlearn: 37.2794924\ttotal: 2.15s\tremaining: 6.54s\n",
      "248:\tlearn: 37.2784231\ttotal: 2.16s\tremaining: 6.52s\n",
      "249:\tlearn: 37.2769585\ttotal: 2.17s\tremaining: 6.51s\n",
      "250:\tlearn: 37.2758273\ttotal: 2.18s\tremaining: 6.5s\n",
      "251:\tlearn: 37.2739056\ttotal: 2.19s\tremaining: 6.49s\n",
      "252:\tlearn: 37.2732335\ttotal: 2.19s\tremaining: 6.48s\n",
      "253:\tlearn: 37.2726604\ttotal: 2.2s\tremaining: 6.47s\n",
      "254:\tlearn: 37.2709906\ttotal: 2.21s\tremaining: 6.46s\n",
      "255:\tlearn: 37.2699847\ttotal: 2.22s\tremaining: 6.45s\n",
      "256:\tlearn: 37.2682891\ttotal: 2.23s\tremaining: 6.44s\n",
      "257:\tlearn: 37.2664129\ttotal: 2.24s\tremaining: 6.43s\n",
      "258:\tlearn: 37.2653608\ttotal: 2.24s\tremaining: 6.42s\n",
      "259:\tlearn: 37.2641512\ttotal: 2.25s\tremaining: 6.41s\n",
      "260:\tlearn: 37.2633325\ttotal: 2.26s\tremaining: 6.4s\n",
      "261:\tlearn: 37.2623843\ttotal: 2.27s\tremaining: 6.39s\n",
      "262:\tlearn: 37.2613997\ttotal: 2.28s\tremaining: 6.38s\n",
      "263:\tlearn: 37.2602389\ttotal: 2.29s\tremaining: 6.37s\n",
      "264:\tlearn: 37.2593379\ttotal: 2.29s\tremaining: 6.36s\n",
      "265:\tlearn: 37.2577074\ttotal: 2.3s\tremaining: 6.36s\n",
      "266:\tlearn: 37.2555288\ttotal: 2.31s\tremaining: 6.35s\n",
      "267:\tlearn: 37.2550666\ttotal: 2.32s\tremaining: 6.34s\n",
      "268:\tlearn: 37.2540878\ttotal: 2.33s\tremaining: 6.33s\n",
      "269:\tlearn: 37.2526671\ttotal: 2.34s\tremaining: 6.32s\n",
      "270:\tlearn: 37.2507843\ttotal: 2.34s\tremaining: 6.3s\n",
      "271:\tlearn: 37.2498763\ttotal: 2.35s\tremaining: 6.29s\n",
      "272:\tlearn: 37.2468423\ttotal: 2.36s\tremaining: 6.28s\n",
      "273:\tlearn: 37.2448310\ttotal: 2.37s\tremaining: 6.27s\n",
      "274:\tlearn: 37.2434766\ttotal: 2.38s\tremaining: 6.26s\n",
      "275:\tlearn: 37.2424892\ttotal: 2.38s\tremaining: 6.25s\n",
      "276:\tlearn: 37.2415548\ttotal: 2.39s\tremaining: 6.24s\n",
      "277:\tlearn: 37.2396705\ttotal: 2.4s\tremaining: 6.24s\n",
      "278:\tlearn: 37.2378551\ttotal: 2.41s\tremaining: 6.23s\n",
      "279:\tlearn: 37.2363907\ttotal: 2.42s\tremaining: 6.22s\n",
      "280:\tlearn: 37.2353407\ttotal: 2.43s\tremaining: 6.21s\n",
      "281:\tlearn: 37.2346794\ttotal: 2.43s\tremaining: 6.2s\n",
      "282:\tlearn: 37.2329154\ttotal: 2.44s\tremaining: 6.19s\n",
      "283:\tlearn: 37.2321293\ttotal: 2.45s\tremaining: 6.18s\n",
      "284:\tlearn: 37.2313532\ttotal: 2.46s\tremaining: 6.17s\n",
      "285:\tlearn: 37.2302162\ttotal: 2.47s\tremaining: 6.16s\n",
      "286:\tlearn: 37.2292613\ttotal: 2.48s\tremaining: 6.15s\n",
      "287:\tlearn: 37.2274831\ttotal: 2.48s\tremaining: 6.14s\n",
      "288:\tlearn: 37.2267954\ttotal: 2.49s\tremaining: 6.13s\n",
      "289:\tlearn: 37.2256979\ttotal: 2.5s\tremaining: 6.13s\n",
      "290:\tlearn: 37.2243786\ttotal: 2.51s\tremaining: 6.12s\n",
      "291:\tlearn: 37.2233471\ttotal: 2.52s\tremaining: 6.11s\n",
      "292:\tlearn: 37.2218258\ttotal: 2.53s\tremaining: 6.1s\n",
      "293:\tlearn: 37.2203780\ttotal: 2.54s\tremaining: 6.09s\n",
      "294:\tlearn: 37.2190990\ttotal: 2.54s\tremaining: 6.08s\n",
      "295:\tlearn: 37.2179553\ttotal: 2.55s\tremaining: 6.07s\n",
      "296:\tlearn: 37.2159747\ttotal: 2.56s\tremaining: 6.06s\n",
      "297:\tlearn: 37.2139138\ttotal: 2.57s\tremaining: 6.05s\n",
      "298:\tlearn: 37.2126659\ttotal: 2.58s\tremaining: 6.04s\n",
      "299:\tlearn: 37.2113285\ttotal: 2.58s\tremaining: 6.03s\n",
      "300:\tlearn: 37.2105662\ttotal: 2.59s\tremaining: 6.03s\n",
      "301:\tlearn: 37.2093246\ttotal: 2.6s\tremaining: 6.02s\n",
      "302:\tlearn: 37.2078023\ttotal: 2.61s\tremaining: 6.01s\n",
      "303:\tlearn: 37.2062923\ttotal: 2.62s\tremaining: 6s\n",
      "304:\tlearn: 37.2045660\ttotal: 2.63s\tremaining: 5.99s\n",
      "305:\tlearn: 37.2034673\ttotal: 2.64s\tremaining: 5.98s\n",
      "306:\tlearn: 37.2022767\ttotal: 2.65s\tremaining: 5.97s\n",
      "307:\tlearn: 37.2011603\ttotal: 2.65s\tremaining: 5.96s\n",
      "308:\tlearn: 37.1997865\ttotal: 2.66s\tremaining: 5.95s\n",
      "309:\tlearn: 37.1989980\ttotal: 2.67s\tremaining: 5.95s\n",
      "310:\tlearn: 37.1973418\ttotal: 2.68s\tremaining: 5.94s\n",
      "311:\tlearn: 37.1962240\ttotal: 2.69s\tremaining: 5.93s\n",
      "312:\tlearn: 37.1950545\ttotal: 2.7s\tremaining: 5.92s\n",
      "313:\tlearn: 37.1938430\ttotal: 2.71s\tremaining: 5.91s\n",
      "314:\tlearn: 37.1927568\ttotal: 2.71s\tremaining: 5.9s\n",
      "315:\tlearn: 37.1920026\ttotal: 2.72s\tremaining: 5.9s\n",
      "316:\tlearn: 37.1897444\ttotal: 2.73s\tremaining: 5.89s\n",
      "317:\tlearn: 37.1891161\ttotal: 2.74s\tremaining: 5.88s\n",
      "318:\tlearn: 37.1876760\ttotal: 2.75s\tremaining: 5.87s\n",
      "319:\tlearn: 37.1867011\ttotal: 2.76s\tremaining: 5.87s\n",
      "320:\tlearn: 37.1851149\ttotal: 2.77s\tremaining: 5.86s\n",
      "321:\tlearn: 37.1846330\ttotal: 2.78s\tremaining: 5.85s\n",
      "322:\tlearn: 37.1835675\ttotal: 2.79s\tremaining: 5.84s\n",
      "323:\tlearn: 37.1827249\ttotal: 2.79s\tremaining: 5.83s\n",
      "324:\tlearn: 37.1809535\ttotal: 2.8s\tremaining: 5.83s\n",
      "325:\tlearn: 37.1802975\ttotal: 2.81s\tremaining: 5.82s\n",
      "326:\tlearn: 37.1795475\ttotal: 2.82s\tremaining: 5.81s\n",
      "327:\tlearn: 37.1785157\ttotal: 2.83s\tremaining: 5.8s\n",
      "328:\tlearn: 37.1772249\ttotal: 2.84s\tremaining: 5.79s\n",
      "329:\tlearn: 37.1758403\ttotal: 2.85s\tremaining: 5.78s\n",
      "330:\tlearn: 37.1748992\ttotal: 2.86s\tremaining: 5.78s\n",
      "331:\tlearn: 37.1738553\ttotal: 2.87s\tremaining: 5.77s\n",
      "332:\tlearn: 37.1723062\ttotal: 2.87s\tremaining: 5.76s\n",
      "333:\tlearn: 37.1711572\ttotal: 2.88s\tremaining: 5.75s\n",
      "334:\tlearn: 37.1702872\ttotal: 2.89s\tremaining: 5.74s\n",
      "335:\tlearn: 37.1696852\ttotal: 2.9s\tremaining: 5.73s\n",
      "336:\tlearn: 37.1684538\ttotal: 2.91s\tremaining: 5.72s\n",
      "337:\tlearn: 37.1668496\ttotal: 2.92s\tremaining: 5.71s\n",
      "338:\tlearn: 37.1656499\ttotal: 2.92s\tremaining: 5.7s\n",
      "339:\tlearn: 37.1642788\ttotal: 2.93s\tremaining: 5.69s\n",
      "340:\tlearn: 37.1636040\ttotal: 2.94s\tremaining: 5.68s\n",
      "341:\tlearn: 37.1618787\ttotal: 2.95s\tremaining: 5.67s\n",
      "342:\tlearn: 37.1607428\ttotal: 2.96s\tremaining: 5.66s\n",
      "343:\tlearn: 37.1598332\ttotal: 2.96s\tremaining: 5.65s\n",
      "344:\tlearn: 37.1588093\ttotal: 2.97s\tremaining: 5.64s\n",
      "345:\tlearn: 37.1566092\ttotal: 2.98s\tremaining: 5.63s\n",
      "346:\tlearn: 37.1554720\ttotal: 2.99s\tremaining: 5.62s\n",
      "347:\tlearn: 37.1539418\ttotal: 3s\tremaining: 5.61s\n",
      "348:\tlearn: 37.1526438\ttotal: 3s\tremaining: 5.6s\n",
      "349:\tlearn: 37.1513121\ttotal: 3.01s\tremaining: 5.59s\n",
      "350:\tlearn: 37.1501546\ttotal: 3.02s\tremaining: 5.58s\n",
      "351:\tlearn: 37.1491455\ttotal: 3.03s\tremaining: 5.57s\n",
      "352:\tlearn: 37.1473211\ttotal: 3.04s\tremaining: 5.57s\n",
      "353:\tlearn: 37.1455072\ttotal: 3.04s\tremaining: 5.56s\n",
      "354:\tlearn: 37.1445237\ttotal: 3.05s\tremaining: 5.55s\n",
      "355:\tlearn: 37.1433211\ttotal: 3.06s\tremaining: 5.54s\n",
      "356:\tlearn: 37.1421939\ttotal: 3.07s\tremaining: 5.53s\n",
      "357:\tlearn: 37.1407890\ttotal: 3.08s\tremaining: 5.52s\n",
      "358:\tlearn: 37.1401143\ttotal: 3.09s\tremaining: 5.51s\n",
      "359:\tlearn: 37.1391596\ttotal: 3.1s\tremaining: 5.5s\n",
      "360:\tlearn: 37.1380156\ttotal: 3.1s\tremaining: 5.49s\n",
      "361:\tlearn: 37.1359183\ttotal: 3.11s\tremaining: 5.48s\n",
      "362:\tlearn: 37.1351842\ttotal: 3.12s\tremaining: 5.47s\n",
      "363:\tlearn: 37.1343511\ttotal: 3.13s\tremaining: 5.46s\n",
      "364:\tlearn: 37.1333293\ttotal: 3.14s\tremaining: 5.46s\n",
      "365:\tlearn: 37.1325718\ttotal: 3.14s\tremaining: 5.45s\n",
      "366:\tlearn: 37.1301771\ttotal: 3.15s\tremaining: 5.44s\n",
      "367:\tlearn: 37.1289820\ttotal: 3.16s\tremaining: 5.43s\n",
      "368:\tlearn: 37.1279064\ttotal: 3.17s\tremaining: 5.42s\n",
      "369:\tlearn: 37.1264289\ttotal: 3.18s\tremaining: 5.41s\n",
      "370:\tlearn: 37.1250976\ttotal: 3.18s\tremaining: 5.4s\n",
      "371:\tlearn: 37.1242558\ttotal: 3.19s\tremaining: 5.39s\n",
      "372:\tlearn: 37.1228986\ttotal: 3.2s\tremaining: 5.38s\n",
      "373:\tlearn: 37.1219877\ttotal: 3.21s\tremaining: 5.37s\n",
      "374:\tlearn: 37.1208558\ttotal: 3.22s\tremaining: 5.36s\n",
      "375:\tlearn: 37.1196948\ttotal: 3.23s\tremaining: 5.35s\n",
      "376:\tlearn: 37.1187177\ttotal: 3.23s\tremaining: 5.34s\n",
      "377:\tlearn: 37.1180144\ttotal: 3.24s\tremaining: 5.33s\n",
      "378:\tlearn: 37.1173010\ttotal: 3.25s\tremaining: 5.32s\n",
      "379:\tlearn: 37.1162999\ttotal: 3.26s\tremaining: 5.32s\n",
      "380:\tlearn: 37.1155256\ttotal: 3.27s\tremaining: 5.3s\n",
      "381:\tlearn: 37.1149016\ttotal: 3.27s\tremaining: 5.3s\n",
      "382:\tlearn: 37.1127009\ttotal: 3.28s\tremaining: 5.29s\n",
      "383:\tlearn: 37.1102927\ttotal: 3.29s\tremaining: 5.28s\n",
      "384:\tlearn: 37.1093455\ttotal: 3.3s\tremaining: 5.27s\n",
      "385:\tlearn: 37.1081159\ttotal: 3.31s\tremaining: 5.26s\n",
      "386:\tlearn: 37.1070750\ttotal: 3.32s\tremaining: 5.25s\n",
      "387:\tlearn: 37.1057301\ttotal: 3.33s\tremaining: 5.24s\n",
      "388:\tlearn: 37.1044842\ttotal: 3.33s\tremaining: 5.24s\n",
      "389:\tlearn: 37.1033752\ttotal: 3.34s\tremaining: 5.23s\n",
      "390:\tlearn: 37.1024961\ttotal: 3.35s\tremaining: 5.22s\n",
      "391:\tlearn: 37.1009950\ttotal: 3.36s\tremaining: 5.21s\n",
      "392:\tlearn: 37.0998534\ttotal: 3.37s\tremaining: 5.2s\n",
      "393:\tlearn: 37.0993633\ttotal: 3.37s\tremaining: 5.19s\n",
      "394:\tlearn: 37.0975003\ttotal: 3.38s\tremaining: 5.18s\n",
      "395:\tlearn: 37.0963674\ttotal: 3.39s\tremaining: 5.17s\n",
      "396:\tlearn: 37.0955322\ttotal: 3.4s\tremaining: 5.16s\n",
      "397:\tlearn: 37.0940805\ttotal: 3.41s\tremaining: 5.15s\n",
      "398:\tlearn: 37.0930223\ttotal: 3.42s\tremaining: 5.14s\n",
      "399:\tlearn: 37.0923496\ttotal: 3.42s\tremaining: 5.13s\n",
      "400:\tlearn: 37.0913257\ttotal: 3.43s\tremaining: 5.13s\n",
      "401:\tlearn: 37.0906133\ttotal: 3.44s\tremaining: 5.12s\n",
      "402:\tlearn: 37.0890419\ttotal: 3.45s\tremaining: 5.11s\n",
      "403:\tlearn: 37.0883633\ttotal: 3.46s\tremaining: 5.1s\n",
      "404:\tlearn: 37.0875579\ttotal: 3.47s\tremaining: 5.09s\n",
      "405:\tlearn: 37.0863821\ttotal: 3.47s\tremaining: 5.08s\n",
      "406:\tlearn: 37.0853541\ttotal: 3.48s\tremaining: 5.08s\n",
      "407:\tlearn: 37.0843768\ttotal: 3.49s\tremaining: 5.07s\n",
      "408:\tlearn: 37.0832621\ttotal: 3.5s\tremaining: 5.06s\n",
      "409:\tlearn: 37.0826771\ttotal: 3.51s\tremaining: 5.05s\n",
      "410:\tlearn: 37.0813382\ttotal: 3.52s\tremaining: 5.04s\n",
      "411:\tlearn: 37.0799257\ttotal: 3.52s\tremaining: 5.03s\n",
      "412:\tlearn: 37.0783831\ttotal: 3.53s\tremaining: 5.02s\n",
      "413:\tlearn: 37.0769876\ttotal: 3.54s\tremaining: 5.01s\n",
      "414:\tlearn: 37.0757288\ttotal: 3.55s\tremaining: 5s\n",
      "415:\tlearn: 37.0740497\ttotal: 3.56s\tremaining: 5s\n",
      "416:\tlearn: 37.0728792\ttotal: 3.57s\tremaining: 4.99s\n",
      "417:\tlearn: 37.0712854\ttotal: 3.58s\tremaining: 4.98s\n",
      "418:\tlearn: 37.0703805\ttotal: 3.59s\tremaining: 4.98s\n",
      "419:\tlearn: 37.0695226\ttotal: 3.6s\tremaining: 4.97s\n",
      "420:\tlearn: 37.0687556\ttotal: 3.61s\tremaining: 4.96s\n",
      "421:\tlearn: 37.0679033\ttotal: 3.61s\tremaining: 4.95s\n",
      "422:\tlearn: 37.0662394\ttotal: 3.62s\tremaining: 4.94s\n",
      "423:\tlearn: 37.0653505\ttotal: 3.63s\tremaining: 4.93s\n",
      "424:\tlearn: 37.0640755\ttotal: 3.64s\tremaining: 4.92s\n",
      "425:\tlearn: 37.0625708\ttotal: 3.65s\tremaining: 4.91s\n",
      "426:\tlearn: 37.0616365\ttotal: 3.65s\tremaining: 4.9s\n",
      "427:\tlearn: 37.0600614\ttotal: 3.66s\tremaining: 4.89s\n",
      "428:\tlearn: 37.0589084\ttotal: 3.67s\tremaining: 4.89s\n",
      "429:\tlearn: 37.0579299\ttotal: 3.68s\tremaining: 4.88s\n",
      "430:\tlearn: 37.0572020\ttotal: 3.69s\tremaining: 4.87s\n",
      "431:\tlearn: 37.0564128\ttotal: 3.7s\tremaining: 4.86s\n",
      "432:\tlearn: 37.0553734\ttotal: 3.71s\tremaining: 4.85s\n",
      "433:\tlearn: 37.0545678\ttotal: 3.71s\tremaining: 4.84s\n",
      "434:\tlearn: 37.0533332\ttotal: 3.72s\tremaining: 4.83s\n",
      "435:\tlearn: 37.0523522\ttotal: 3.73s\tremaining: 4.83s\n",
      "436:\tlearn: 37.0515461\ttotal: 3.74s\tremaining: 4.82s\n",
      "437:\tlearn: 37.0497006\ttotal: 3.75s\tremaining: 4.81s\n",
      "438:\tlearn: 37.0485458\ttotal: 3.76s\tremaining: 4.8s\n",
      "439:\tlearn: 37.0470293\ttotal: 3.77s\tremaining: 4.8s\n",
      "440:\tlearn: 37.0460749\ttotal: 3.78s\tremaining: 4.79s\n",
      "441:\tlearn: 37.0452317\ttotal: 3.79s\tremaining: 4.78s\n",
      "442:\tlearn: 37.0443569\ttotal: 3.79s\tremaining: 4.77s\n",
      "443:\tlearn: 37.0433414\ttotal: 3.8s\tremaining: 4.76s\n",
      "444:\tlearn: 37.0415629\ttotal: 3.81s\tremaining: 4.75s\n",
      "445:\tlearn: 37.0401074\ttotal: 3.82s\tremaining: 4.75s\n",
      "446:\tlearn: 37.0391324\ttotal: 3.83s\tremaining: 4.74s\n",
      "447:\tlearn: 37.0379496\ttotal: 3.84s\tremaining: 4.73s\n",
      "448:\tlearn: 37.0366803\ttotal: 3.85s\tremaining: 4.72s\n",
      "449:\tlearn: 37.0358128\ttotal: 3.85s\tremaining: 4.71s\n",
      "450:\tlearn: 37.0347385\ttotal: 3.86s\tremaining: 4.7s\n",
      "451:\tlearn: 37.0336382\ttotal: 3.87s\tremaining: 4.69s\n",
      "452:\tlearn: 37.0330835\ttotal: 3.88s\tremaining: 4.68s\n",
      "453:\tlearn: 37.0324746\ttotal: 3.88s\tremaining: 4.67s\n",
      "454:\tlearn: 37.0312469\ttotal: 3.89s\tremaining: 4.66s\n",
      "455:\tlearn: 37.0303374\ttotal: 3.9s\tremaining: 4.65s\n",
      "456:\tlearn: 37.0289459\ttotal: 3.91s\tremaining: 4.64s\n",
      "457:\tlearn: 37.0285499\ttotal: 3.92s\tremaining: 4.63s\n",
      "458:\tlearn: 37.0277774\ttotal: 3.93s\tremaining: 4.63s\n",
      "459:\tlearn: 37.0272010\ttotal: 3.93s\tremaining: 4.62s\n",
      "460:\tlearn: 37.0258500\ttotal: 3.94s\tremaining: 4.61s\n",
      "461:\tlearn: 37.0247636\ttotal: 3.95s\tremaining: 4.6s\n",
      "462:\tlearn: 37.0238203\ttotal: 3.96s\tremaining: 4.59s\n",
      "463:\tlearn: 37.0221678\ttotal: 3.97s\tremaining: 4.58s\n",
      "464:\tlearn: 37.0199708\ttotal: 3.98s\tremaining: 4.58s\n",
      "465:\tlearn: 37.0193078\ttotal: 3.99s\tremaining: 4.57s\n",
      "466:\tlearn: 37.0183188\ttotal: 4s\tremaining: 4.56s\n",
      "467:\tlearn: 37.0172890\ttotal: 4.01s\tremaining: 4.55s\n",
      "468:\tlearn: 37.0163520\ttotal: 4.01s\tremaining: 4.55s\n",
      "469:\tlearn: 37.0154183\ttotal: 4.02s\tremaining: 4.54s\n",
      "470:\tlearn: 37.0144134\ttotal: 4.03s\tremaining: 4.53s\n",
      "471:\tlearn: 37.0130570\ttotal: 4.04s\tremaining: 4.52s\n",
      "472:\tlearn: 37.0121024\ttotal: 4.05s\tremaining: 4.51s\n",
      "473:\tlearn: 37.0114976\ttotal: 4.06s\tremaining: 4.5s\n",
      "474:\tlearn: 37.0104826\ttotal: 4.07s\tremaining: 4.5s\n",
      "475:\tlearn: 37.0094187\ttotal: 4.08s\tremaining: 4.49s\n",
      "476:\tlearn: 37.0083021\ttotal: 4.08s\tremaining: 4.48s\n",
      "477:\tlearn: 37.0070630\ttotal: 4.09s\tremaining: 4.47s\n",
      "478:\tlearn: 37.0060456\ttotal: 4.1s\tremaining: 4.46s\n",
      "479:\tlearn: 37.0046292\ttotal: 4.11s\tremaining: 4.45s\n",
      "480:\tlearn: 37.0036556\ttotal: 4.12s\tremaining: 4.45s\n",
      "481:\tlearn: 37.0024878\ttotal: 4.13s\tremaining: 4.44s\n",
      "482:\tlearn: 37.0012474\ttotal: 4.14s\tremaining: 4.43s\n",
      "483:\tlearn: 37.0006262\ttotal: 4.14s\tremaining: 4.42s\n",
      "484:\tlearn: 36.9992533\ttotal: 4.15s\tremaining: 4.41s\n",
      "485:\tlearn: 36.9978157\ttotal: 4.16s\tremaining: 4.4s\n",
      "486:\tlearn: 36.9969272\ttotal: 4.17s\tremaining: 4.39s\n",
      "487:\tlearn: 36.9956264\ttotal: 4.18s\tremaining: 4.38s\n",
      "488:\tlearn: 36.9944039\ttotal: 4.19s\tremaining: 4.38s\n",
      "489:\tlearn: 36.9932925\ttotal: 4.2s\tremaining: 4.37s\n",
      "490:\tlearn: 36.9921677\ttotal: 4.21s\tremaining: 4.36s\n",
      "491:\tlearn: 36.9911397\ttotal: 4.21s\tremaining: 4.35s\n",
      "492:\tlearn: 36.9900699\ttotal: 4.22s\tremaining: 4.34s\n",
      "493:\tlearn: 36.9893373\ttotal: 4.23s\tremaining: 4.33s\n",
      "494:\tlearn: 36.9886853\ttotal: 4.24s\tremaining: 4.32s\n",
      "495:\tlearn: 36.9881368\ttotal: 4.25s\tremaining: 4.31s\n",
      "496:\tlearn: 36.9869092\ttotal: 4.25s\tremaining: 4.3s\n",
      "497:\tlearn: 36.9862524\ttotal: 4.26s\tremaining: 4.29s\n",
      "498:\tlearn: 36.9851241\ttotal: 4.27s\tremaining: 4.29s\n",
      "499:\tlearn: 36.9840293\ttotal: 4.28s\tremaining: 4.28s\n",
      "500:\tlearn: 36.9825576\ttotal: 4.29s\tremaining: 4.27s\n",
      "501:\tlearn: 36.9820191\ttotal: 4.29s\tremaining: 4.26s\n",
      "502:\tlearn: 36.9811669\ttotal: 4.3s\tremaining: 4.25s\n",
      "503:\tlearn: 36.9799637\ttotal: 4.31s\tremaining: 4.25s\n",
      "504:\tlearn: 36.9790049\ttotal: 4.32s\tremaining: 4.24s\n",
      "505:\tlearn: 36.9780179\ttotal: 4.33s\tremaining: 4.23s\n",
      "506:\tlearn: 36.9774373\ttotal: 4.34s\tremaining: 4.22s\n",
      "507:\tlearn: 36.9764810\ttotal: 4.35s\tremaining: 4.21s\n",
      "508:\tlearn: 36.9756896\ttotal: 4.36s\tremaining: 4.2s\n",
      "509:\tlearn: 36.9741798\ttotal: 4.37s\tremaining: 4.2s\n",
      "510:\tlearn: 36.9735183\ttotal: 4.38s\tremaining: 4.19s\n",
      "511:\tlearn: 36.9728316\ttotal: 4.39s\tremaining: 4.18s\n",
      "512:\tlearn: 36.9716355\ttotal: 4.39s\tremaining: 4.17s\n",
      "513:\tlearn: 36.9708546\ttotal: 4.4s\tremaining: 4.16s\n",
      "514:\tlearn: 36.9702074\ttotal: 4.41s\tremaining: 4.15s\n",
      "515:\tlearn: 36.9688325\ttotal: 4.42s\tremaining: 4.14s\n",
      "516:\tlearn: 36.9679998\ttotal: 4.43s\tremaining: 4.14s\n",
      "517:\tlearn: 36.9672634\ttotal: 4.44s\tremaining: 4.13s\n",
      "518:\tlearn: 36.9663760\ttotal: 4.45s\tremaining: 4.12s\n",
      "519:\tlearn: 36.9650117\ttotal: 4.45s\tremaining: 4.11s\n",
      "520:\tlearn: 36.9644701\ttotal: 4.46s\tremaining: 4.1s\n",
      "521:\tlearn: 36.9631786\ttotal: 4.47s\tremaining: 4.09s\n",
      "522:\tlearn: 36.9617254\ttotal: 4.48s\tremaining: 4.08s\n",
      "523:\tlearn: 36.9601103\ttotal: 4.49s\tremaining: 4.08s\n",
      "524:\tlearn: 36.9592595\ttotal: 4.5s\tremaining: 4.07s\n",
      "525:\tlearn: 36.9580687\ttotal: 4.5s\tremaining: 4.06s\n",
      "526:\tlearn: 36.9569416\ttotal: 4.51s\tremaining: 4.05s\n",
      "527:\tlearn: 36.9558893\ttotal: 4.52s\tremaining: 4.04s\n",
      "528:\tlearn: 36.9548376\ttotal: 4.53s\tremaining: 4.03s\n",
      "529:\tlearn: 36.9538348\ttotal: 4.54s\tremaining: 4.02s\n",
      "530:\tlearn: 36.9527967\ttotal: 4.55s\tremaining: 4.01s\n",
      "531:\tlearn: 36.9515593\ttotal: 4.55s\tremaining: 4.01s\n",
      "532:\tlearn: 36.9506070\ttotal: 4.56s\tremaining: 4s\n",
      "533:\tlearn: 36.9495484\ttotal: 4.57s\tremaining: 3.99s\n",
      "534:\tlearn: 36.9485352\ttotal: 4.58s\tremaining: 3.98s\n",
      "535:\tlearn: 36.9477185\ttotal: 4.59s\tremaining: 3.97s\n",
      "536:\tlearn: 36.9469011\ttotal: 4.59s\tremaining: 3.96s\n",
      "537:\tlearn: 36.9462144\ttotal: 4.61s\tremaining: 3.95s\n",
      "538:\tlearn: 36.9458685\ttotal: 4.61s\tremaining: 3.94s\n",
      "539:\tlearn: 36.9451000\ttotal: 4.62s\tremaining: 3.94s\n",
      "540:\tlearn: 36.9441431\ttotal: 4.63s\tremaining: 3.93s\n",
      "541:\tlearn: 36.9435200\ttotal: 4.64s\tremaining: 3.92s\n",
      "542:\tlearn: 36.9423699\ttotal: 4.65s\tremaining: 3.91s\n",
      "543:\tlearn: 36.9412106\ttotal: 4.66s\tremaining: 3.9s\n",
      "544:\tlearn: 36.9404849\ttotal: 4.67s\tremaining: 3.9s\n",
      "545:\tlearn: 36.9398190\ttotal: 4.68s\tremaining: 3.89s\n",
      "546:\tlearn: 36.9388174\ttotal: 4.69s\tremaining: 3.88s\n",
      "547:\tlearn: 36.9375692\ttotal: 4.7s\tremaining: 3.87s\n",
      "548:\tlearn: 36.9361793\ttotal: 4.7s\tremaining: 3.86s\n",
      "549:\tlearn: 36.9356232\ttotal: 4.71s\tremaining: 3.86s\n",
      "550:\tlearn: 36.9350670\ttotal: 4.72s\tremaining: 3.85s\n",
      "551:\tlearn: 36.9338313\ttotal: 4.73s\tremaining: 3.84s\n",
      "552:\tlearn: 36.9332390\ttotal: 4.74s\tremaining: 3.83s\n",
      "553:\tlearn: 36.9324924\ttotal: 4.75s\tremaining: 3.82s\n",
      "554:\tlearn: 36.9315017\ttotal: 4.76s\tremaining: 3.82s\n",
      "555:\tlearn: 36.9309539\ttotal: 4.77s\tremaining: 3.81s\n",
      "556:\tlearn: 36.9300594\ttotal: 4.78s\tremaining: 3.8s\n",
      "557:\tlearn: 36.9287634\ttotal: 4.78s\tremaining: 3.79s\n",
      "558:\tlearn: 36.9281687\ttotal: 4.79s\tremaining: 3.78s\n",
      "559:\tlearn: 36.9266051\ttotal: 4.8s\tremaining: 3.77s\n",
      "560:\tlearn: 36.9254707\ttotal: 4.81s\tremaining: 3.76s\n",
      "561:\tlearn: 36.9246669\ttotal: 4.82s\tremaining: 3.75s\n",
      "562:\tlearn: 36.9232159\ttotal: 4.82s\tremaining: 3.74s\n",
      "563:\tlearn: 36.9218420\ttotal: 4.83s\tremaining: 3.74s\n",
      "564:\tlearn: 36.9212126\ttotal: 4.84s\tremaining: 3.73s\n",
      "565:\tlearn: 36.9205265\ttotal: 4.85s\tremaining: 3.72s\n",
      "566:\tlearn: 36.9192166\ttotal: 4.86s\tremaining: 3.71s\n",
      "567:\tlearn: 36.9182249\ttotal: 4.87s\tremaining: 3.7s\n",
      "568:\tlearn: 36.9171154\ttotal: 4.87s\tremaining: 3.69s\n",
      "569:\tlearn: 36.9163706\ttotal: 4.88s\tremaining: 3.68s\n",
      "570:\tlearn: 36.9156882\ttotal: 4.89s\tremaining: 3.67s\n",
      "571:\tlearn: 36.9150899\ttotal: 4.9s\tremaining: 3.67s\n",
      "572:\tlearn: 36.9144691\ttotal: 4.91s\tremaining: 3.66s\n",
      "573:\tlearn: 36.9142474\ttotal: 4.91s\tremaining: 3.65s\n",
      "574:\tlearn: 36.9132222\ttotal: 4.92s\tremaining: 3.64s\n",
      "575:\tlearn: 36.9127591\ttotal: 4.93s\tremaining: 3.63s\n",
      "576:\tlearn: 36.9115054\ttotal: 4.94s\tremaining: 3.62s\n",
      "577:\tlearn: 36.9108129\ttotal: 4.95s\tremaining: 3.61s\n",
      "578:\tlearn: 36.9098064\ttotal: 4.96s\tremaining: 3.6s\n",
      "579:\tlearn: 36.9085505\ttotal: 4.96s\tremaining: 3.59s\n",
      "580:\tlearn: 36.9067788\ttotal: 4.97s\tremaining: 3.58s\n",
      "581:\tlearn: 36.9055493\ttotal: 4.98s\tremaining: 3.58s\n",
      "582:\tlearn: 36.9049076\ttotal: 4.99s\tremaining: 3.57s\n",
      "583:\tlearn: 36.9036693\ttotal: 5s\tremaining: 3.56s\n",
      "584:\tlearn: 36.9024807\ttotal: 5s\tremaining: 3.55s\n",
      "585:\tlearn: 36.9020963\ttotal: 5.01s\tremaining: 3.54s\n",
      "586:\tlearn: 36.9011109\ttotal: 5.02s\tremaining: 3.53s\n",
      "587:\tlearn: 36.8995876\ttotal: 5.03s\tremaining: 3.52s\n",
      "588:\tlearn: 36.8989599\ttotal: 5.04s\tremaining: 3.51s\n",
      "589:\tlearn: 36.8981220\ttotal: 5.04s\tremaining: 3.5s\n",
      "590:\tlearn: 36.8970354\ttotal: 5.05s\tremaining: 3.5s\n",
      "591:\tlearn: 36.8966166\ttotal: 5.06s\tremaining: 3.49s\n",
      "592:\tlearn: 36.8955496\ttotal: 5.07s\tremaining: 3.48s\n",
      "593:\tlearn: 36.8947238\ttotal: 5.08s\tremaining: 3.47s\n",
      "594:\tlearn: 36.8939434\ttotal: 5.09s\tremaining: 3.46s\n",
      "595:\tlearn: 36.8932148\ttotal: 5.09s\tremaining: 3.45s\n",
      "596:\tlearn: 36.8920011\ttotal: 5.1s\tremaining: 3.44s\n",
      "597:\tlearn: 36.8908019\ttotal: 5.11s\tremaining: 3.44s\n",
      "598:\tlearn: 36.8897608\ttotal: 5.12s\tremaining: 3.43s\n",
      "599:\tlearn: 36.8892108\ttotal: 5.13s\tremaining: 3.42s\n",
      "600:\tlearn: 36.8878197\ttotal: 5.14s\tremaining: 3.41s\n",
      "601:\tlearn: 36.8874545\ttotal: 5.15s\tremaining: 3.4s\n",
      "602:\tlearn: 36.8863212\ttotal: 5.15s\tremaining: 3.39s\n",
      "603:\tlearn: 36.8857322\ttotal: 5.16s\tremaining: 3.38s\n",
      "604:\tlearn: 36.8843924\ttotal: 5.17s\tremaining: 3.38s\n",
      "605:\tlearn: 36.8828829\ttotal: 5.18s\tremaining: 3.37s\n",
      "606:\tlearn: 36.8818890\ttotal: 5.19s\tremaining: 3.36s\n",
      "607:\tlearn: 36.8814728\ttotal: 5.2s\tremaining: 3.35s\n",
      "608:\tlearn: 36.8803830\ttotal: 5.21s\tremaining: 3.34s\n",
      "609:\tlearn: 36.8792371\ttotal: 5.21s\tremaining: 3.33s\n",
      "610:\tlearn: 36.8782498\ttotal: 5.22s\tremaining: 3.33s\n",
      "611:\tlearn: 36.8771700\ttotal: 5.23s\tremaining: 3.32s\n",
      "612:\tlearn: 36.8757332\ttotal: 5.24s\tremaining: 3.31s\n",
      "613:\tlearn: 36.8745063\ttotal: 5.25s\tremaining: 3.3s\n",
      "614:\tlearn: 36.8736992\ttotal: 5.26s\tremaining: 3.29s\n",
      "615:\tlearn: 36.8727452\ttotal: 5.27s\tremaining: 3.28s\n",
      "616:\tlearn: 36.8718036\ttotal: 5.28s\tremaining: 3.27s\n",
      "617:\tlearn: 36.8709803\ttotal: 5.29s\tremaining: 3.27s\n",
      "618:\tlearn: 36.8693367\ttotal: 5.29s\tremaining: 3.26s\n",
      "619:\tlearn: 36.8686821\ttotal: 5.3s\tremaining: 3.25s\n",
      "620:\tlearn: 36.8676501\ttotal: 5.31s\tremaining: 3.24s\n",
      "621:\tlearn: 36.8666353\ttotal: 5.32s\tremaining: 3.23s\n",
      "622:\tlearn: 36.8655676\ttotal: 5.33s\tremaining: 3.23s\n",
      "623:\tlearn: 36.8644837\ttotal: 5.34s\tremaining: 3.22s\n",
      "624:\tlearn: 36.8629513\ttotal: 5.35s\tremaining: 3.21s\n",
      "625:\tlearn: 36.8621424\ttotal: 5.35s\tremaining: 3.2s\n",
      "626:\tlearn: 36.8606561\ttotal: 5.36s\tremaining: 3.19s\n",
      "627:\tlearn: 36.8599195\ttotal: 5.37s\tremaining: 3.18s\n",
      "628:\tlearn: 36.8589853\ttotal: 5.38s\tremaining: 3.17s\n",
      "629:\tlearn: 36.8581402\ttotal: 5.39s\tremaining: 3.16s\n",
      "630:\tlearn: 36.8575568\ttotal: 5.4s\tremaining: 3.15s\n",
      "631:\tlearn: 36.8564685\ttotal: 5.41s\tremaining: 3.15s\n",
      "632:\tlearn: 36.8553885\ttotal: 5.41s\tremaining: 3.14s\n",
      "633:\tlearn: 36.8548139\ttotal: 5.42s\tremaining: 3.13s\n",
      "634:\tlearn: 36.8542035\ttotal: 5.43s\tremaining: 3.12s\n",
      "635:\tlearn: 36.8531213\ttotal: 5.44s\tremaining: 3.11s\n",
      "636:\tlearn: 36.8521799\ttotal: 5.45s\tremaining: 3.1s\n",
      "637:\tlearn: 36.8512361\ttotal: 5.46s\tremaining: 3.1s\n",
      "638:\tlearn: 36.8505258\ttotal: 5.46s\tremaining: 3.09s\n",
      "639:\tlearn: 36.8492742\ttotal: 5.47s\tremaining: 3.08s\n",
      "640:\tlearn: 36.8482036\ttotal: 5.48s\tremaining: 3.07s\n",
      "641:\tlearn: 36.8470110\ttotal: 5.49s\tremaining: 3.06s\n",
      "642:\tlearn: 36.8460206\ttotal: 5.5s\tremaining: 3.05s\n",
      "643:\tlearn: 36.8447721\ttotal: 5.51s\tremaining: 3.04s\n",
      "644:\tlearn: 36.8433469\ttotal: 5.51s\tremaining: 3.04s\n",
      "645:\tlearn: 36.8421648\ttotal: 5.52s\tremaining: 3.03s\n",
      "646:\tlearn: 36.8411878\ttotal: 5.53s\tremaining: 3.02s\n",
      "647:\tlearn: 36.8405146\ttotal: 5.54s\tremaining: 3.01s\n",
      "648:\tlearn: 36.8398084\ttotal: 5.55s\tremaining: 3s\n",
      "649:\tlearn: 36.8388087\ttotal: 5.56s\tremaining: 2.99s\n",
      "650:\tlearn: 36.8372378\ttotal: 5.57s\tremaining: 2.98s\n",
      "651:\tlearn: 36.8357427\ttotal: 5.58s\tremaining: 2.98s\n",
      "652:\tlearn: 36.8349075\ttotal: 5.58s\tremaining: 2.97s\n",
      "653:\tlearn: 36.8339730\ttotal: 5.59s\tremaining: 2.96s\n",
      "654:\tlearn: 36.8331802\ttotal: 5.6s\tremaining: 2.95s\n",
      "655:\tlearn: 36.8323526\ttotal: 5.61s\tremaining: 2.94s\n",
      "656:\tlearn: 36.8310807\ttotal: 5.62s\tremaining: 2.93s\n",
      "657:\tlearn: 36.8301497\ttotal: 5.63s\tremaining: 2.92s\n",
      "658:\tlearn: 36.8289873\ttotal: 5.64s\tremaining: 2.92s\n",
      "659:\tlearn: 36.8272239\ttotal: 5.64s\tremaining: 2.91s\n",
      "660:\tlearn: 36.8262935\ttotal: 5.65s\tremaining: 2.9s\n",
      "661:\tlearn: 36.8258063\ttotal: 5.66s\tremaining: 2.89s\n",
      "662:\tlearn: 36.8253833\ttotal: 5.67s\tremaining: 2.88s\n",
      "663:\tlearn: 36.8245528\ttotal: 5.68s\tremaining: 2.87s\n",
      "664:\tlearn: 36.8233802\ttotal: 5.69s\tremaining: 2.87s\n",
      "665:\tlearn: 36.8223381\ttotal: 5.7s\tremaining: 2.86s\n",
      "666:\tlearn: 36.8212379\ttotal: 5.71s\tremaining: 2.85s\n",
      "667:\tlearn: 36.8201329\ttotal: 5.71s\tremaining: 2.84s\n",
      "668:\tlearn: 36.8188456\ttotal: 5.72s\tremaining: 2.83s\n",
      "669:\tlearn: 36.8180843\ttotal: 5.73s\tremaining: 2.82s\n",
      "670:\tlearn: 36.8176103\ttotal: 5.74s\tremaining: 2.81s\n",
      "671:\tlearn: 36.8159178\ttotal: 5.75s\tremaining: 2.81s\n",
      "672:\tlearn: 36.8149697\ttotal: 5.75s\tremaining: 2.8s\n",
      "673:\tlearn: 36.8142461\ttotal: 5.76s\tremaining: 2.79s\n",
      "674:\tlearn: 36.8135808\ttotal: 5.77s\tremaining: 2.78s\n",
      "675:\tlearn: 36.8128265\ttotal: 5.78s\tremaining: 2.77s\n",
      "676:\tlearn: 36.8116894\ttotal: 5.79s\tremaining: 2.76s\n",
      "677:\tlearn: 36.8109361\ttotal: 5.8s\tremaining: 2.75s\n",
      "678:\tlearn: 36.8095576\ttotal: 5.8s\tremaining: 2.74s\n",
      "679:\tlearn: 36.8089538\ttotal: 5.81s\tremaining: 2.74s\n",
      "680:\tlearn: 36.8073908\ttotal: 5.82s\tremaining: 2.73s\n",
      "681:\tlearn: 36.8062631\ttotal: 5.83s\tremaining: 2.72s\n",
      "682:\tlearn: 36.8052730\ttotal: 5.84s\tremaining: 2.71s\n",
      "683:\tlearn: 36.8045311\ttotal: 5.85s\tremaining: 2.7s\n",
      "684:\tlearn: 36.8036745\ttotal: 5.86s\tremaining: 2.69s\n",
      "685:\tlearn: 36.8029662\ttotal: 5.87s\tremaining: 2.68s\n",
      "686:\tlearn: 36.8022702\ttotal: 5.87s\tremaining: 2.67s\n",
      "687:\tlearn: 36.8010557\ttotal: 5.88s\tremaining: 2.67s\n",
      "688:\tlearn: 36.7998886\ttotal: 5.89s\tremaining: 2.66s\n",
      "689:\tlearn: 36.7988066\ttotal: 5.9s\tremaining: 2.65s\n",
      "690:\tlearn: 36.7977198\ttotal: 5.9s\tremaining: 2.64s\n",
      "691:\tlearn: 36.7971209\ttotal: 5.91s\tremaining: 2.63s\n",
      "692:\tlearn: 36.7960561\ttotal: 5.92s\tremaining: 2.62s\n",
      "693:\tlearn: 36.7953306\ttotal: 5.93s\tremaining: 2.61s\n",
      "694:\tlearn: 36.7941062\ttotal: 5.93s\tremaining: 2.6s\n",
      "695:\tlearn: 36.7928509\ttotal: 5.94s\tremaining: 2.6s\n",
      "696:\tlearn: 36.7920085\ttotal: 5.95s\tremaining: 2.59s\n",
      "697:\tlearn: 36.7912972\ttotal: 5.96s\tremaining: 2.58s\n",
      "698:\tlearn: 36.7901800\ttotal: 5.97s\tremaining: 2.57s\n",
      "699:\tlearn: 36.7894523\ttotal: 5.97s\tremaining: 2.56s\n",
      "700:\tlearn: 36.7888215\ttotal: 5.98s\tremaining: 2.55s\n",
      "701:\tlearn: 36.7879341\ttotal: 5.99s\tremaining: 2.54s\n",
      "702:\tlearn: 36.7867155\ttotal: 6s\tremaining: 2.54s\n",
      "703:\tlearn: 36.7854219\ttotal: 6.01s\tremaining: 2.53s\n",
      "704:\tlearn: 36.7849890\ttotal: 6.02s\tremaining: 2.52s\n",
      "705:\tlearn: 36.7840025\ttotal: 6.03s\tremaining: 2.51s\n",
      "706:\tlearn: 36.7831976\ttotal: 6.03s\tremaining: 2.5s\n",
      "707:\tlearn: 36.7817087\ttotal: 6.04s\tremaining: 2.49s\n",
      "708:\tlearn: 36.7810404\ttotal: 6.05s\tremaining: 2.48s\n",
      "709:\tlearn: 36.7804003\ttotal: 6.06s\tremaining: 2.47s\n",
      "710:\tlearn: 36.7790648\ttotal: 6.07s\tremaining: 2.46s\n",
      "711:\tlearn: 36.7772497\ttotal: 6.08s\tremaining: 2.46s\n",
      "712:\tlearn: 36.7760447\ttotal: 6.08s\tremaining: 2.45s\n",
      "713:\tlearn: 36.7755050\ttotal: 6.09s\tremaining: 2.44s\n",
      "714:\tlearn: 36.7746286\ttotal: 6.1s\tremaining: 2.43s\n",
      "715:\tlearn: 36.7739106\ttotal: 6.11s\tremaining: 2.42s\n",
      "716:\tlearn: 36.7729194\ttotal: 6.12s\tremaining: 2.42s\n",
      "717:\tlearn: 36.7717296\ttotal: 6.13s\tremaining: 2.41s\n",
      "718:\tlearn: 36.7709023\ttotal: 6.14s\tremaining: 2.4s\n",
      "719:\tlearn: 36.7696334\ttotal: 6.14s\tremaining: 2.39s\n",
      "720:\tlearn: 36.7687348\ttotal: 6.15s\tremaining: 2.38s\n",
      "721:\tlearn: 36.7678919\ttotal: 6.16s\tremaining: 2.37s\n",
      "722:\tlearn: 36.7670599\ttotal: 6.17s\tremaining: 2.36s\n",
      "723:\tlearn: 36.7660135\ttotal: 6.18s\tremaining: 2.35s\n",
      "724:\tlearn: 36.7653473\ttotal: 6.19s\tremaining: 2.35s\n",
      "725:\tlearn: 36.7644878\ttotal: 6.2s\tremaining: 2.34s\n",
      "726:\tlearn: 36.7638305\ttotal: 6.2s\tremaining: 2.33s\n",
      "727:\tlearn: 36.7629528\ttotal: 6.21s\tremaining: 2.32s\n",
      "728:\tlearn: 36.7618460\ttotal: 6.22s\tremaining: 2.31s\n",
      "729:\tlearn: 36.7609169\ttotal: 6.23s\tremaining: 2.3s\n",
      "730:\tlearn: 36.7603305\ttotal: 6.24s\tremaining: 2.29s\n",
      "731:\tlearn: 36.7597013\ttotal: 6.25s\tremaining: 2.29s\n",
      "732:\tlearn: 36.7588766\ttotal: 6.25s\tremaining: 2.28s\n",
      "733:\tlearn: 36.7579900\ttotal: 6.26s\tremaining: 2.27s\n",
      "734:\tlearn: 36.7573708\ttotal: 6.27s\tremaining: 2.26s\n",
      "735:\tlearn: 36.7557620\ttotal: 6.28s\tremaining: 2.25s\n",
      "736:\tlearn: 36.7545246\ttotal: 6.29s\tremaining: 2.25s\n",
      "737:\tlearn: 36.7537493\ttotal: 6.3s\tremaining: 2.24s\n",
      "738:\tlearn: 36.7533193\ttotal: 6.31s\tremaining: 2.23s\n",
      "739:\tlearn: 36.7525056\ttotal: 6.32s\tremaining: 2.22s\n",
      "740:\tlearn: 36.7512198\ttotal: 6.32s\tremaining: 2.21s\n",
      "741:\tlearn: 36.7505766\ttotal: 6.33s\tremaining: 2.2s\n",
      "742:\tlearn: 36.7493900\ttotal: 6.34s\tremaining: 2.19s\n",
      "743:\tlearn: 36.7481943\ttotal: 6.35s\tremaining: 2.19s\n",
      "744:\tlearn: 36.7471658\ttotal: 6.36s\tremaining: 2.18s\n",
      "745:\tlearn: 36.7463754\ttotal: 6.37s\tremaining: 2.17s\n",
      "746:\tlearn: 36.7454866\ttotal: 6.38s\tremaining: 2.16s\n",
      "747:\tlearn: 36.7443214\ttotal: 6.38s\tremaining: 2.15s\n",
      "748:\tlearn: 36.7436865\ttotal: 6.39s\tremaining: 2.14s\n",
      "749:\tlearn: 36.7427056\ttotal: 6.4s\tremaining: 2.13s\n",
      "750:\tlearn: 36.7414761\ttotal: 6.41s\tremaining: 2.13s\n",
      "751:\tlearn: 36.7405811\ttotal: 6.42s\tremaining: 2.12s\n",
      "752:\tlearn: 36.7393079\ttotal: 6.43s\tremaining: 2.11s\n",
      "753:\tlearn: 36.7383245\ttotal: 6.44s\tremaining: 2.1s\n",
      "754:\tlearn: 36.7378801\ttotal: 6.44s\tremaining: 2.09s\n",
      "755:\tlearn: 36.7370501\ttotal: 6.45s\tremaining: 2.08s\n",
      "756:\tlearn: 36.7363807\ttotal: 6.46s\tremaining: 2.07s\n",
      "757:\tlearn: 36.7356789\ttotal: 6.47s\tremaining: 2.06s\n",
      "758:\tlearn: 36.7347081\ttotal: 6.48s\tremaining: 2.06s\n",
      "759:\tlearn: 36.7334342\ttotal: 6.49s\tremaining: 2.05s\n",
      "760:\tlearn: 36.7322257\ttotal: 6.5s\tremaining: 2.04s\n",
      "761:\tlearn: 36.7312999\ttotal: 6.5s\tremaining: 2.03s\n",
      "762:\tlearn: 36.7306830\ttotal: 6.51s\tremaining: 2.02s\n",
      "763:\tlearn: 36.7294466\ttotal: 6.52s\tremaining: 2.01s\n",
      "764:\tlearn: 36.7286642\ttotal: 6.53s\tremaining: 2.01s\n",
      "765:\tlearn: 36.7277024\ttotal: 6.54s\tremaining: 2s\n",
      "766:\tlearn: 36.7267822\ttotal: 6.55s\tremaining: 1.99s\n",
      "767:\tlearn: 36.7258498\ttotal: 6.56s\tremaining: 1.98s\n",
      "768:\tlearn: 36.7245165\ttotal: 6.57s\tremaining: 1.97s\n",
      "769:\tlearn: 36.7234085\ttotal: 6.58s\tremaining: 1.96s\n",
      "770:\tlearn: 36.7223453\ttotal: 6.58s\tremaining: 1.96s\n",
      "771:\tlearn: 36.7211294\ttotal: 6.59s\tremaining: 1.95s\n",
      "772:\tlearn: 36.7202653\ttotal: 6.6s\tremaining: 1.94s\n",
      "773:\tlearn: 36.7190966\ttotal: 6.61s\tremaining: 1.93s\n",
      "774:\tlearn: 36.7184413\ttotal: 6.62s\tremaining: 1.92s\n",
      "775:\tlearn: 36.7172698\ttotal: 6.63s\tremaining: 1.91s\n",
      "776:\tlearn: 36.7167150\ttotal: 6.64s\tremaining: 1.91s\n",
      "777:\tlearn: 36.7163999\ttotal: 6.65s\tremaining: 1.9s\n",
      "778:\tlearn: 36.7158526\ttotal: 6.66s\tremaining: 1.89s\n",
      "779:\tlearn: 36.7148680\ttotal: 6.67s\tremaining: 1.88s\n",
      "780:\tlearn: 36.7140877\ttotal: 6.68s\tremaining: 1.87s\n",
      "781:\tlearn: 36.7132189\ttotal: 6.69s\tremaining: 1.86s\n",
      "782:\tlearn: 36.7124487\ttotal: 6.7s\tremaining: 1.85s\n",
      "783:\tlearn: 36.7112661\ttotal: 6.7s\tremaining: 1.85s\n",
      "784:\tlearn: 36.7105628\ttotal: 6.71s\tremaining: 1.84s\n",
      "785:\tlearn: 36.7094098\ttotal: 6.72s\tremaining: 1.83s\n",
      "786:\tlearn: 36.7084517\ttotal: 6.73s\tremaining: 1.82s\n",
      "787:\tlearn: 36.7073511\ttotal: 6.74s\tremaining: 1.81s\n",
      "788:\tlearn: 36.7062770\ttotal: 6.75s\tremaining: 1.8s\n",
      "789:\tlearn: 36.7056571\ttotal: 6.75s\tremaining: 1.79s\n",
      "790:\tlearn: 36.7048454\ttotal: 6.76s\tremaining: 1.79s\n",
      "791:\tlearn: 36.7040905\ttotal: 6.77s\tremaining: 1.78s\n",
      "792:\tlearn: 36.7032415\ttotal: 6.78s\tremaining: 1.77s\n",
      "793:\tlearn: 36.7027581\ttotal: 6.79s\tremaining: 1.76s\n",
      "794:\tlearn: 36.7021912\ttotal: 6.8s\tremaining: 1.75s\n",
      "795:\tlearn: 36.7011900\ttotal: 6.8s\tremaining: 1.74s\n",
      "796:\tlearn: 36.7003055\ttotal: 6.81s\tremaining: 1.74s\n",
      "797:\tlearn: 36.6993428\ttotal: 6.82s\tremaining: 1.73s\n",
      "798:\tlearn: 36.6984835\ttotal: 6.83s\tremaining: 1.72s\n",
      "799:\tlearn: 36.6970944\ttotal: 6.84s\tremaining: 1.71s\n",
      "800:\tlearn: 36.6965523\ttotal: 6.85s\tremaining: 1.7s\n",
      "801:\tlearn: 36.6957450\ttotal: 6.86s\tremaining: 1.69s\n",
      "802:\tlearn: 36.6950220\ttotal: 6.87s\tremaining: 1.68s\n",
      "803:\tlearn: 36.6942754\ttotal: 6.87s\tremaining: 1.68s\n",
      "804:\tlearn: 36.6930929\ttotal: 6.88s\tremaining: 1.67s\n",
      "805:\tlearn: 36.6921243\ttotal: 6.89s\tremaining: 1.66s\n",
      "806:\tlearn: 36.6910254\ttotal: 6.9s\tremaining: 1.65s\n",
      "807:\tlearn: 36.6900514\ttotal: 6.91s\tremaining: 1.64s\n",
      "808:\tlearn: 36.6890006\ttotal: 6.92s\tremaining: 1.63s\n",
      "809:\tlearn: 36.6887052\ttotal: 6.92s\tremaining: 1.62s\n",
      "810:\tlearn: 36.6881931\ttotal: 6.93s\tremaining: 1.61s\n",
      "811:\tlearn: 36.6871087\ttotal: 6.94s\tremaining: 1.61s\n",
      "812:\tlearn: 36.6857623\ttotal: 6.95s\tremaining: 1.6s\n",
      "813:\tlearn: 36.6848817\ttotal: 6.96s\tremaining: 1.59s\n",
      "814:\tlearn: 36.6842742\ttotal: 6.96s\tremaining: 1.58s\n",
      "815:\tlearn: 36.6834477\ttotal: 6.97s\tremaining: 1.57s\n",
      "816:\tlearn: 36.6828855\ttotal: 6.98s\tremaining: 1.56s\n",
      "817:\tlearn: 36.6823479\ttotal: 6.99s\tremaining: 1.55s\n",
      "818:\tlearn: 36.6818049\ttotal: 7s\tremaining: 1.55s\n",
      "819:\tlearn: 36.6810022\ttotal: 7.01s\tremaining: 1.54s\n",
      "820:\tlearn: 36.6805368\ttotal: 7.01s\tremaining: 1.53s\n",
      "821:\tlearn: 36.6795128\ttotal: 7.02s\tremaining: 1.52s\n",
      "822:\tlearn: 36.6789594\ttotal: 7.03s\tremaining: 1.51s\n",
      "823:\tlearn: 36.6782829\ttotal: 7.04s\tremaining: 1.5s\n",
      "824:\tlearn: 36.6775636\ttotal: 7.05s\tremaining: 1.49s\n",
      "825:\tlearn: 36.6768262\ttotal: 7.05s\tremaining: 1.49s\n",
      "826:\tlearn: 36.6757441\ttotal: 7.06s\tremaining: 1.48s\n",
      "827:\tlearn: 36.6747126\ttotal: 7.07s\tremaining: 1.47s\n",
      "828:\tlearn: 36.6728108\ttotal: 7.08s\tremaining: 1.46s\n",
      "829:\tlearn: 36.6720582\ttotal: 7.09s\tremaining: 1.45s\n",
      "830:\tlearn: 36.6713686\ttotal: 7.09s\tremaining: 1.44s\n",
      "831:\tlearn: 36.6703842\ttotal: 7.1s\tremaining: 1.43s\n",
      "832:\tlearn: 36.6695537\ttotal: 7.11s\tremaining: 1.43s\n",
      "833:\tlearn: 36.6685379\ttotal: 7.12s\tremaining: 1.42s\n",
      "834:\tlearn: 36.6676978\ttotal: 7.13s\tremaining: 1.41s\n",
      "835:\tlearn: 36.6668261\ttotal: 7.13s\tremaining: 1.4s\n",
      "836:\tlearn: 36.6658832\ttotal: 7.14s\tremaining: 1.39s\n",
      "837:\tlearn: 36.6654377\ttotal: 7.15s\tremaining: 1.38s\n",
      "838:\tlearn: 36.6642920\ttotal: 7.16s\tremaining: 1.37s\n",
      "839:\tlearn: 36.6632668\ttotal: 7.17s\tremaining: 1.36s\n",
      "840:\tlearn: 36.6628488\ttotal: 7.18s\tremaining: 1.36s\n",
      "841:\tlearn: 36.6621775\ttotal: 7.19s\tremaining: 1.35s\n",
      "842:\tlearn: 36.6616497\ttotal: 7.2s\tremaining: 1.34s\n",
      "843:\tlearn: 36.6606966\ttotal: 7.2s\tremaining: 1.33s\n",
      "844:\tlearn: 36.6601355\ttotal: 7.21s\tremaining: 1.32s\n",
      "845:\tlearn: 36.6592431\ttotal: 7.22s\tremaining: 1.31s\n",
      "846:\tlearn: 36.6587581\ttotal: 7.23s\tremaining: 1.3s\n",
      "847:\tlearn: 36.6577339\ttotal: 7.24s\tremaining: 1.3s\n",
      "848:\tlearn: 36.6571463\ttotal: 7.24s\tremaining: 1.29s\n",
      "849:\tlearn: 36.6565320\ttotal: 7.25s\tremaining: 1.28s\n",
      "850:\tlearn: 36.6557151\ttotal: 7.26s\tremaining: 1.27s\n",
      "851:\tlearn: 36.6550150\ttotal: 7.27s\tremaining: 1.26s\n",
      "852:\tlearn: 36.6540472\ttotal: 7.28s\tremaining: 1.25s\n",
      "853:\tlearn: 36.6527172\ttotal: 7.28s\tremaining: 1.25s\n",
      "854:\tlearn: 36.6521516\ttotal: 7.29s\tremaining: 1.24s\n",
      "855:\tlearn: 36.6512993\ttotal: 7.3s\tremaining: 1.23s\n",
      "856:\tlearn: 36.6503116\ttotal: 7.31s\tremaining: 1.22s\n",
      "857:\tlearn: 36.6491683\ttotal: 7.32s\tremaining: 1.21s\n",
      "858:\tlearn: 36.6484766\ttotal: 7.33s\tremaining: 1.2s\n",
      "859:\tlearn: 36.6474795\ttotal: 7.34s\tremaining: 1.19s\n",
      "860:\tlearn: 36.6468019\ttotal: 7.34s\tremaining: 1.19s\n",
      "861:\tlearn: 36.6457336\ttotal: 7.35s\tremaining: 1.18s\n",
      "862:\tlearn: 36.6442645\ttotal: 7.36s\tremaining: 1.17s\n",
      "863:\tlearn: 36.6433306\ttotal: 7.37s\tremaining: 1.16s\n",
      "864:\tlearn: 36.6423580\ttotal: 7.38s\tremaining: 1.15s\n",
      "865:\tlearn: 36.6414112\ttotal: 7.39s\tremaining: 1.14s\n",
      "866:\tlearn: 36.6407514\ttotal: 7.4s\tremaining: 1.13s\n",
      "867:\tlearn: 36.6396633\ttotal: 7.41s\tremaining: 1.13s\n",
      "868:\tlearn: 36.6387019\ttotal: 7.41s\tremaining: 1.12s\n",
      "869:\tlearn: 36.6378138\ttotal: 7.42s\tremaining: 1.11s\n",
      "870:\tlearn: 36.6369368\ttotal: 7.43s\tremaining: 1.1s\n",
      "871:\tlearn: 36.6360369\ttotal: 7.44s\tremaining: 1.09s\n",
      "872:\tlearn: 36.6349825\ttotal: 7.45s\tremaining: 1.08s\n",
      "873:\tlearn: 36.6342035\ttotal: 7.46s\tremaining: 1.07s\n",
      "874:\tlearn: 36.6327106\ttotal: 7.47s\tremaining: 1.07s\n",
      "875:\tlearn: 36.6322640\ttotal: 7.47s\tremaining: 1.06s\n",
      "876:\tlearn: 36.6314533\ttotal: 7.48s\tremaining: 1.05s\n",
      "877:\tlearn: 36.6307510\ttotal: 7.49s\tremaining: 1.04s\n",
      "878:\tlearn: 36.6299062\ttotal: 7.5s\tremaining: 1.03s\n",
      "879:\tlearn: 36.6290489\ttotal: 7.51s\tremaining: 1.02s\n",
      "880:\tlearn: 36.6281616\ttotal: 7.52s\tremaining: 1.01s\n",
      "881:\tlearn: 36.6272600\ttotal: 7.53s\tremaining: 1.01s\n",
      "882:\tlearn: 36.6259889\ttotal: 7.54s\tremaining: 999ms\n",
      "883:\tlearn: 36.6251169\ttotal: 7.54s\tremaining: 990ms\n",
      "884:\tlearn: 36.6240277\ttotal: 7.55s\tremaining: 981ms\n",
      "885:\tlearn: 36.6227940\ttotal: 7.56s\tremaining: 973ms\n",
      "886:\tlearn: 36.6218289\ttotal: 7.57s\tremaining: 964ms\n",
      "887:\tlearn: 36.6208714\ttotal: 7.58s\tremaining: 956ms\n",
      "888:\tlearn: 36.6199158\ttotal: 7.59s\tremaining: 947ms\n",
      "889:\tlearn: 36.6193461\ttotal: 7.59s\tremaining: 939ms\n",
      "890:\tlearn: 36.6181894\ttotal: 7.6s\tremaining: 930ms\n",
      "891:\tlearn: 36.6171609\ttotal: 7.61s\tremaining: 922ms\n",
      "892:\tlearn: 36.6165267\ttotal: 7.62s\tremaining: 913ms\n",
      "893:\tlearn: 36.6158428\ttotal: 7.63s\tremaining: 905ms\n",
      "894:\tlearn: 36.6152306\ttotal: 7.64s\tremaining: 896ms\n",
      "895:\tlearn: 36.6139612\ttotal: 7.65s\tremaining: 888ms\n",
      "896:\tlearn: 36.6129866\ttotal: 7.66s\tremaining: 879ms\n",
      "897:\tlearn: 36.6116909\ttotal: 7.66s\tremaining: 871ms\n",
      "898:\tlearn: 36.6105635\ttotal: 7.67s\tremaining: 862ms\n",
      "899:\tlearn: 36.6097276\ttotal: 7.68s\tremaining: 854ms\n",
      "900:\tlearn: 36.6085181\ttotal: 7.69s\tremaining: 845ms\n",
      "901:\tlearn: 36.6079804\ttotal: 7.7s\tremaining: 836ms\n",
      "902:\tlearn: 36.6070954\ttotal: 7.71s\tremaining: 828ms\n",
      "903:\tlearn: 36.6065339\ttotal: 7.71s\tremaining: 819ms\n",
      "904:\tlearn: 36.6054629\ttotal: 7.72s\tremaining: 811ms\n",
      "905:\tlearn: 36.6050279\ttotal: 7.73s\tremaining: 802ms\n",
      "906:\tlearn: 36.6039949\ttotal: 7.74s\tremaining: 794ms\n",
      "907:\tlearn: 36.6031244\ttotal: 7.75s\tremaining: 785ms\n",
      "908:\tlearn: 36.6017957\ttotal: 7.76s\tremaining: 777ms\n",
      "909:\tlearn: 36.6003851\ttotal: 7.77s\tremaining: 768ms\n",
      "910:\tlearn: 36.5994834\ttotal: 7.78s\tremaining: 760ms\n",
      "911:\tlearn: 36.5990596\ttotal: 7.79s\tremaining: 751ms\n",
      "912:\tlearn: 36.5984910\ttotal: 7.79s\tremaining: 743ms\n",
      "913:\tlearn: 36.5974429\ttotal: 7.8s\tremaining: 734ms\n",
      "914:\tlearn: 36.5963870\ttotal: 7.81s\tremaining: 726ms\n",
      "915:\tlearn: 36.5952453\ttotal: 7.82s\tremaining: 717ms\n",
      "916:\tlearn: 36.5944615\ttotal: 7.83s\tremaining: 708ms\n",
      "917:\tlearn: 36.5936685\ttotal: 7.84s\tremaining: 700ms\n",
      "918:\tlearn: 36.5933043\ttotal: 7.85s\tremaining: 692ms\n",
      "919:\tlearn: 36.5916379\ttotal: 7.86s\tremaining: 683ms\n",
      "920:\tlearn: 36.5905937\ttotal: 7.86s\tremaining: 675ms\n",
      "921:\tlearn: 36.5899657\ttotal: 7.87s\tremaining: 666ms\n",
      "922:\tlearn: 36.5885654\ttotal: 7.88s\tremaining: 657ms\n",
      "923:\tlearn: 36.5880440\ttotal: 7.89s\tremaining: 649ms\n",
      "924:\tlearn: 36.5873006\ttotal: 7.9s\tremaining: 640ms\n",
      "925:\tlearn: 36.5864615\ttotal: 7.9s\tremaining: 632ms\n",
      "926:\tlearn: 36.5860074\ttotal: 7.91s\tremaining: 623ms\n",
      "927:\tlearn: 36.5851567\ttotal: 7.92s\tremaining: 615ms\n",
      "928:\tlearn: 36.5838370\ttotal: 7.93s\tremaining: 606ms\n",
      "929:\tlearn: 36.5822592\ttotal: 7.94s\tremaining: 598ms\n",
      "930:\tlearn: 36.5821059\ttotal: 7.95s\tremaining: 589ms\n",
      "931:\tlearn: 36.5809808\ttotal: 7.96s\tremaining: 581ms\n",
      "932:\tlearn: 36.5798857\ttotal: 7.97s\tremaining: 572ms\n",
      "933:\tlearn: 36.5791577\ttotal: 7.97s\tremaining: 564ms\n",
      "934:\tlearn: 36.5780511\ttotal: 7.98s\tremaining: 555ms\n",
      "935:\tlearn: 36.5773606\ttotal: 7.99s\tremaining: 547ms\n",
      "936:\tlearn: 36.5763369\ttotal: 8s\tremaining: 538ms\n",
      "937:\tlearn: 36.5754115\ttotal: 8.01s\tremaining: 530ms\n",
      "938:\tlearn: 36.5743345\ttotal: 8.02s\tremaining: 521ms\n",
      "939:\tlearn: 36.5738156\ttotal: 8.03s\tremaining: 512ms\n",
      "940:\tlearn: 36.5725787\ttotal: 8.04s\tremaining: 504ms\n",
      "941:\tlearn: 36.5717413\ttotal: 8.05s\tremaining: 496ms\n",
      "942:\tlearn: 36.5708166\ttotal: 8.06s\tremaining: 487ms\n",
      "943:\tlearn: 36.5697973\ttotal: 8.06s\tremaining: 478ms\n",
      "944:\tlearn: 36.5686291\ttotal: 8.07s\tremaining: 470ms\n",
      "945:\tlearn: 36.5678608\ttotal: 8.08s\tremaining: 461ms\n",
      "946:\tlearn: 36.5670255\ttotal: 8.09s\tremaining: 453ms\n",
      "947:\tlearn: 36.5660547\ttotal: 8.1s\tremaining: 444ms\n",
      "948:\tlearn: 36.5649709\ttotal: 8.11s\tremaining: 436ms\n",
      "949:\tlearn: 36.5645315\ttotal: 8.12s\tremaining: 427ms\n",
      "950:\tlearn: 36.5639373\ttotal: 8.13s\tremaining: 419ms\n",
      "951:\tlearn: 36.5634826\ttotal: 8.14s\tremaining: 410ms\n",
      "952:\tlearn: 36.5624004\ttotal: 8.15s\tremaining: 402ms\n",
      "953:\tlearn: 36.5616735\ttotal: 8.15s\tremaining: 393ms\n",
      "954:\tlearn: 36.5606788\ttotal: 8.16s\tremaining: 385ms\n",
      "955:\tlearn: 36.5594056\ttotal: 8.17s\tremaining: 376ms\n",
      "956:\tlearn: 36.5587701\ttotal: 8.18s\tremaining: 368ms\n",
      "957:\tlearn: 36.5582554\ttotal: 8.19s\tremaining: 359ms\n",
      "958:\tlearn: 36.5577263\ttotal: 8.2s\tremaining: 350ms\n",
      "959:\tlearn: 36.5570806\ttotal: 8.2s\tremaining: 342ms\n",
      "960:\tlearn: 36.5563961\ttotal: 8.21s\tremaining: 333ms\n",
      "961:\tlearn: 36.5553612\ttotal: 8.22s\tremaining: 325ms\n",
      "962:\tlearn: 36.5544476\ttotal: 8.23s\tremaining: 316ms\n",
      "963:\tlearn: 36.5531457\ttotal: 8.24s\tremaining: 308ms\n",
      "964:\tlearn: 36.5520468\ttotal: 8.25s\tremaining: 299ms\n",
      "965:\tlearn: 36.5513365\ttotal: 8.26s\tremaining: 291ms\n",
      "966:\tlearn: 36.5502627\ttotal: 8.26s\tremaining: 282ms\n",
      "967:\tlearn: 36.5496946\ttotal: 8.27s\tremaining: 273ms\n",
      "968:\tlearn: 36.5485423\ttotal: 8.28s\tremaining: 265ms\n",
      "969:\tlearn: 36.5479955\ttotal: 8.29s\tremaining: 256ms\n",
      "970:\tlearn: 36.5466370\ttotal: 8.3s\tremaining: 248ms\n",
      "971:\tlearn: 36.5459212\ttotal: 8.31s\tremaining: 239ms\n",
      "972:\tlearn: 36.5452719\ttotal: 8.31s\tremaining: 231ms\n",
      "973:\tlearn: 36.5445150\ttotal: 8.32s\tremaining: 222ms\n",
      "974:\tlearn: 36.5440212\ttotal: 8.33s\tremaining: 214ms\n",
      "975:\tlearn: 36.5431725\ttotal: 8.34s\tremaining: 205ms\n",
      "976:\tlearn: 36.5415387\ttotal: 8.35s\tremaining: 197ms\n",
      "977:\tlearn: 36.5411662\ttotal: 8.36s\tremaining: 188ms\n",
      "978:\tlearn: 36.5406894\ttotal: 8.36s\tremaining: 179ms\n",
      "979:\tlearn: 36.5403025\ttotal: 8.37s\tremaining: 171ms\n",
      "980:\tlearn: 36.5390313\ttotal: 8.38s\tremaining: 162ms\n",
      "981:\tlearn: 36.5383631\ttotal: 8.39s\tremaining: 154ms\n",
      "982:\tlearn: 36.5375852\ttotal: 8.4s\tremaining: 145ms\n",
      "983:\tlearn: 36.5363243\ttotal: 8.41s\tremaining: 137ms\n",
      "984:\tlearn: 36.5353871\ttotal: 8.42s\tremaining: 128ms\n",
      "985:\tlearn: 36.5345684\ttotal: 8.43s\tremaining: 120ms\n",
      "986:\tlearn: 36.5335753\ttotal: 8.44s\tremaining: 111ms\n",
      "987:\tlearn: 36.5330447\ttotal: 8.44s\tremaining: 103ms\n",
      "988:\tlearn: 36.5322130\ttotal: 8.45s\tremaining: 94ms\n",
      "989:\tlearn: 36.5312298\ttotal: 8.46s\tremaining: 85.5ms\n",
      "990:\tlearn: 36.5302445\ttotal: 8.47s\tremaining: 76.9ms\n",
      "991:\tlearn: 36.5296332\ttotal: 8.48s\tremaining: 68.4ms\n",
      "992:\tlearn: 36.5290401\ttotal: 8.49s\tremaining: 59.8ms\n",
      "993:\tlearn: 36.5280147\ttotal: 8.49s\tremaining: 51.3ms\n",
      "994:\tlearn: 36.5275844\ttotal: 8.51s\tremaining: 42.7ms\n",
      "995:\tlearn: 36.5265689\ttotal: 8.51s\tremaining: 34.2ms\n",
      "996:\tlearn: 36.5258429\ttotal: 8.52s\tremaining: 25.6ms\n",
      "997:\tlearn: 36.5250239\ttotal: 8.53s\tremaining: 17.1ms\n",
      "998:\tlearn: 36.5237926\ttotal: 8.54s\tremaining: 8.55ms\n",
      "999:\tlearn: 36.5228506\ttotal: 8.55s\tremaining: 0us\n",
      "Средний запас предсказанного сырья: 94.99785060534259\n",
      "RMSE модели: 37.56682645305712\n"
     ]
    }
   ],
   "source": [
    "model_LR_2 = LinearRegression()\n",
    "model_LR_2.fit(features_train_2, target_train_2)\n",
    "predicted_valid_2 = model_LR_2.predict(features_valid_2)\n",
    "\n",
    "print(f'Средний запас предсказанного сырья: {predicted_valid_2.mean()}\\n\\\n",
    "RMSE модели: {mean_squared_error(target_valid_2, predicted_valid_2) ** .5}')"
   ]
  },
  {
   "cell_type": "markdown",
   "metadata": {},
   "source": [
    "Как видно по результатам выше, в 0 и 2 регионах модели предсказали самые большие средние запасы сырья, однако, также следует отметить и высокий показатель RMSE в этих регионах, вероятно это связано с выкоким разбросом значений объемов сырья.\n",
    "\n",
    "Так как модели DecisionTree и RandomForest имеют недостаточную предсказуемость, будем использовать только модели линейной регрессии. "
   ]
  },
  {
   "cell_type": "markdown",
   "metadata": {},
   "source": [
    "## Подготовка к расчёту прибыли"
   ]
  },
  {
   "cell_type": "markdown",
   "metadata": {},
   "source": [
    "Сохраним все ключевые значения для рассчетов в отдельных переменных и подсчитаем минимальный объем сырья для безубыточной разработки месторождений."
   ]
  },
  {
   "cell_type": "code",
   "execution_count": 11,
   "metadata": {},
   "outputs": [
    {
     "name": "stdout",
     "output_type": "stream",
     "text": [
      "Минимальный объем сырья для безубыточной разработки месторождений: 111.11111111111111\n"
     ]
    }
   ],
   "source": [
    "UNIT_PROFIT = 450_000\n",
    "BUDGET = 10_000_000_000\n",
    "NUM_WELLS = 200\n",
    "\n",
    "BREAKEVEN = BUDGET / UNIT_PROFIT / NUM_WELLS\n",
    "print(f'Минимальный объем сырья для безубыточной разработки месторождений: {BREAKEVEN}')"
   ]
  },
  {
   "cell_type": "markdown",
   "metadata": {},
   "source": [
    "Так как мы ищем 200 самых прибыльных скважин, следовательно далее будем смотреть для каких регионов общий средний объем их 200 топовых скважин сырья больше минимального 111.(11)"
   ]
  },
  {
   "cell_type": "markdown",
   "metadata": {},
   "source": [
    "Напишем функцию рассчета прибыли для каждого отдельного региона."
   ]
  },
  {
   "cell_type": "code",
   "execution_count": 12,
   "metadata": {},
   "outputs": [],
   "source": [
    "STATE = RandomState(12345)\n",
    "\n",
    "def profit_calc(predicted, target):\n",
    "    count = 200\n",
    "    n = 500\n",
    "    predicted = pd.Series(predicted, name='predicted').reset_index()\n",
    "    target = pd.Series(target, name='target').reset_index()\n",
    "\n",
    "    target_predicted = pd.concat([predicted, target], axis=1).drop(['index', 'index'], axis=1)\n",
    "    \n",
    "    predicted_sampled = target_predicted.sample(n=n, replace=True, random_state=STATE)\n",
    "    predicted_sampled = predicted_sampled.sort_values(by='predicted', ascending=False)[:count]\n",
    "    profit = predicted_sampled['target'].sum() * UNIT_PROFIT - BUDGET\n",
    "    \n",
    "    return profit"
   ]
  },
  {
   "cell_type": "markdown",
   "metadata": {},
   "source": [
    "## Расчёт прибыли и рисков "
   ]
  },
  {
   "cell_type": "markdown",
   "metadata": {},
   "source": [
    "### Регион 0."
   ]
  },
  {
   "cell_type": "markdown",
   "metadata": {},
   "source": [
    "Рассчитаем прибыль и риски для региона 0."
   ]
  },
  {
   "cell_type": "code",
   "execution_count": 13,
   "metadata": {},
   "outputs": [
    {
     "name": "stdout",
     "output_type": "stream",
     "text": [
      "Средняя прибыль: 396164984.8023711\n",
      "97.5% доверительный интервал прибыли: (-16945163.17950204, 20906813.027525768)\n",
      "97.5% квантиль: 909766941.5534226\n",
      "2.5% квантиль: -111215545.89049526\n",
      "Риск: 6.90%\n"
     ]
    }
   ],
   "source": [
    "values = []\n",
    "\n",
    "for i in range(1000):\n",
    "    profit = profit_calc(predicted_valid_0, target_valid_0)\n",
    "    values.append(profit)\n",
    "\n",
    "values = pd.Series(values)\n",
    "\n",
    "confidence_interval = t.interval(.975, len(values) - 1, values.mean() / 200, values.sem())\n",
    "upper = values.quantile(.975, interpolation='linear')\n",
    "lower = values.quantile(.025, interpolation='linear')\n",
    "\n",
    "print(f'Средняя прибыль: {values.mean()}\\n\\\n",
    "97.5% доверительный интервал прибыли: {confidence_interval}\\n\\\n",
    "97.5% квантиль: {upper}\\n\\\n",
    "2.5% квантиль: {lower}\\n\\\n",
    "Риск: {(values < 0).mean():.2%}')"
   ]
  },
  {
   "cell_type": "markdown",
   "metadata": {},
   "source": [
    "У региона 0 можно отметить высокие показатели средней прибыли и доверительного интервала, однако восоко и значение риска."
   ]
  },
  {
   "cell_type": "markdown",
   "metadata": {},
   "source": [
    "### Регион 1."
   ]
  },
  {
   "cell_type": "markdown",
   "metadata": {},
   "source": [
    "Рассчитаем прибыль и риски для региона 1."
   ]
  },
  {
   "cell_type": "code",
   "execution_count": 14,
   "metadata": {},
   "outputs": [
    {
     "name": "stdout",
     "output_type": "stream",
     "text": [
      "Средняя прибыль: 461155817.2772397\n",
      "97.5% доверительный интервал прибыли: (-11795342.553724157, 16406900.726496564)\n",
      "97.5% квантиль: 862952060.2637234\n",
      "2.5% квантиль: 78050810.7517417\n",
      "Риск: 0.70%\n"
     ]
    }
   ],
   "source": [
    "values = []\n",
    "\n",
    "for i in range(1000):\n",
    "    profit = profit_calc(predicted_valid_1, target_valid_1)\n",
    "    values.append(profit)\n",
    "\n",
    "values = pd.Series(values)\n",
    "\n",
    "confidence_interval = t.interval(.975, len(values) - 1, values.mean() / 200, values.sem())\n",
    "upper = values.quantile(.975, interpolation='linear')\n",
    "lower = values.quantile(.025, interpolation='linear')\n",
    "\n",
    "print(f'Средняя прибыль: {values.mean()}\\n\\\n",
    "97.5% доверительный интервал прибыли: {confidence_interval}\\n\\\n",
    "97.5% квантиль: {upper}\\n\\\n",
    "2.5% квантиль: {lower}\\n\\\n",
    "Риск: {(values < 0).mean():.2%}')"
   ]
  },
  {
   "cell_type": "markdown",
   "metadata": {},
   "source": [
    "В регионе 1 можно отметить самые высокие показатели средней прибыли и доверительного интервала, и при этом у него же и самое низкое значение риска."
   ]
  },
  {
   "cell_type": "markdown",
   "metadata": {},
   "source": [
    "### Регион 2."
   ]
  },
  {
   "cell_type": "markdown",
   "metadata": {},
   "source": [
    "Рассчитаем прибыль и риски для региона 2."
   ]
  },
  {
   "cell_type": "code",
   "execution_count": 15,
   "metadata": {},
   "outputs": [
    {
     "name": "stdout",
     "output_type": "stream",
     "text": [
      "Средняя прибыль: 688222405.4773269\n",
      "97.5% доверительный интервал прибыли: (-15277290.54517047, 22159514.599943753)\n",
      "97.5% квантиль: 1226033239.9178598\n",
      "2.5% квантиль: 181980498.7215565\n",
      "Риск: 0.50%\n"
     ]
    }
   ],
   "source": [
    "values = []\n",
    "\n",
    "for i in range(1000):\n",
    "    profit = profit_calc(predicted_valid_2, target_valid_2)\n",
    "    values.append(profit)\n",
    "\n",
    "values = pd.Series(values)\n",
    "\n",
    "confidence_interval = t.interval(.975, len(values) - 1, values.mean() / 200, values.sem())\n",
    "upper = values.quantile(.975, interpolation='linear')\n",
    "lower = values.quantile(.025, interpolation='linear')\n",
    "\n",
    "print(f'Средняя прибыль: {values.mean()}\\n\\\n",
    "97.5% доверительный интервал прибыли: {confidence_interval}\\n\\\n",
    "97.5% квантиль: {upper}\\n\\\n",
    "2.5% квантиль: {lower}\\n\\\n",
    "Риск: {(values < 0).mean():.2%}')"
   ]
  },
  {
   "cell_type": "markdown",
   "metadata": {},
   "source": [
    "В регионе 2 можно отметить наименьшие среднюю прибыль и доверительный интервал, значение риска так же сильно превышает пороговое."
   ]
  },
  {
   "cell_type": "markdown",
   "metadata": {},
   "source": [
    "## Общий вывод"
   ]
  },
  {
   "cell_type": "markdown",
   "metadata": {},
   "source": [
    "Произведя рассчеты прибыли и рисков для каждого региона, можно рекомендовать для разработки регион 1 ввиду высокой средней прибыли, хорошие значения t-статистики и при этом минимального риска. Регион 0 и регион 2 не рекомендуются для разработки, так как в этих регионах высок риск убытков."
   ]
  },
  {
   "cell_type": "markdown",
   "metadata": {},
   "source": [
    "В ходе исследования были пройдены следующие шаги:\n",
    "- Изучен исходный датасет.\n",
    "- Предобработаны признаки.\n",
    "- Выборки были разбиты на обучающую и валидационную.\n",
    "- Проведено масштабирование данных методом StandardScaler.\n",
    "- Обучены модели LinearRegression для каждого региона.\n",
    "- Написана функция рассчета прибыли для каждого региона.\n",
    "- Техникой Bootstrap были рассчитаны прибыль и риски для каждого региона.\n",
    "- Написаны рекомендации к разработке меторождений в регионах."
   ]
  }
 ],
 "metadata": {
  "ExecuteTimeLog": [
   {
    "duration": 1349,
    "start_time": "2023-02-04T15:45:39.268Z"
   },
   {
    "duration": 9,
    "start_time": "2023-02-04T15:45:57.703Z"
   },
   {
    "duration": 8,
    "start_time": "2023-02-04T15:46:05.472Z"
   },
   {
    "duration": 2,
    "start_time": "2023-02-04T15:46:11.973Z"
   },
   {
    "duration": 892,
    "start_time": "2023-02-04T15:46:13.906Z"
   },
   {
    "duration": 3,
    "start_time": "2023-02-04T15:55:58.272Z"
   },
   {
    "duration": 358,
    "start_time": "2023-02-04T15:57:37.578Z"
   },
   {
    "duration": 27,
    "start_time": "2023-02-04T15:58:34.738Z"
   },
   {
    "duration": 15,
    "start_time": "2023-02-04T16:02:19.583Z"
   },
   {
    "duration": 1055,
    "start_time": "2023-02-04T16:02:33.661Z"
   },
   {
    "duration": 362,
    "start_time": "2023-02-04T16:02:34.718Z"
   },
   {
    "duration": 24,
    "start_time": "2023-02-04T16:02:35.082Z"
   },
   {
    "duration": 39,
    "start_time": "2023-02-04T16:02:50.960Z"
   },
   {
    "duration": 81,
    "start_time": "2023-02-04T16:05:02.529Z"
   },
   {
    "duration": 12,
    "start_time": "2023-02-04T16:09:38.748Z"
   },
   {
    "duration": 7,
    "start_time": "2023-02-04T16:09:42.431Z"
   },
   {
    "duration": 6,
    "start_time": "2023-02-04T16:09:44.892Z"
   },
   {
    "duration": 73,
    "start_time": "2023-02-04T16:11:59.433Z"
   },
   {
    "duration": 89,
    "start_time": "2023-02-04T16:12:19.148Z"
   },
   {
    "duration": 94,
    "start_time": "2023-02-04T16:12:48.385Z"
   },
   {
    "duration": 5,
    "start_time": "2023-02-04T16:12:56.977Z"
   },
   {
    "duration": 11,
    "start_time": "2023-02-04T16:13:20.887Z"
   },
   {
    "duration": 9,
    "start_time": "2023-02-04T16:14:34.550Z"
   },
   {
    "duration": 4,
    "start_time": "2023-02-04T16:14:40.279Z"
   },
   {
    "duration": 8,
    "start_time": "2023-02-04T16:24:39.280Z"
   },
   {
    "duration": 13,
    "start_time": "2023-02-04T16:26:52.144Z"
   },
   {
    "duration": 34,
    "start_time": "2023-02-04T16:28:13.983Z"
   },
   {
    "duration": 15,
    "start_time": "2023-02-04T16:29:54.856Z"
   },
   {
    "duration": 9,
    "start_time": "2023-02-04T16:32:32.547Z"
   },
   {
    "duration": 22,
    "start_time": "2023-02-04T16:32:53.132Z"
   },
   {
    "duration": 11,
    "start_time": "2023-02-04T16:33:11.027Z"
   },
   {
    "duration": 5,
    "start_time": "2023-02-04T16:33:19.629Z"
   },
   {
    "duration": 18,
    "start_time": "2023-02-04T16:34:12.290Z"
   },
   {
    "duration": 1082,
    "start_time": "2023-02-04T16:34:22.168Z"
   },
   {
    "duration": 433,
    "start_time": "2023-02-04T16:34:23.252Z"
   },
   {
    "duration": 0,
    "start_time": "2023-02-04T16:34:23.687Z"
   },
   {
    "duration": 0,
    "start_time": "2023-02-04T16:34:23.688Z"
   },
   {
    "duration": 0,
    "start_time": "2023-02-04T16:34:23.689Z"
   },
   {
    "duration": 0,
    "start_time": "2023-02-04T16:34:23.690Z"
   },
   {
    "duration": 0,
    "start_time": "2023-02-04T16:34:23.691Z"
   },
   {
    "duration": 366,
    "start_time": "2023-02-04T16:34:42.149Z"
   },
   {
    "duration": 364,
    "start_time": "2023-02-04T16:34:51.167Z"
   },
   {
    "duration": 1173,
    "start_time": "2023-02-04T16:35:28.045Z"
   },
   {
    "duration": 360,
    "start_time": "2023-02-04T16:35:29.220Z"
   },
   {
    "duration": 9,
    "start_time": "2023-02-04T16:35:29.582Z"
   },
   {
    "duration": 105,
    "start_time": "2023-02-04T16:35:29.594Z"
   },
   {
    "duration": 8,
    "start_time": "2023-02-04T16:35:29.701Z"
   },
   {
    "duration": 48,
    "start_time": "2023-02-04T16:35:29.710Z"
   },
   {
    "duration": 27,
    "start_time": "2023-02-04T16:35:29.759Z"
   },
   {
    "duration": 15,
    "start_time": "2023-02-04T16:57:28.344Z"
   },
   {
    "duration": 3,
    "start_time": "2023-02-04T16:59:20.861Z"
   },
   {
    "duration": 10,
    "start_time": "2023-02-04T17:03:32.881Z"
   },
   {
    "duration": 72,
    "start_time": "2023-02-04T17:04:39.554Z"
   },
   {
    "duration": 11,
    "start_time": "2023-02-04T17:04:48.713Z"
   },
   {
    "duration": 67,
    "start_time": "2023-02-04T17:04:53.229Z"
   },
   {
    "duration": 10,
    "start_time": "2023-02-04T17:04:59.429Z"
   },
   {
    "duration": 1046,
    "start_time": "2023-02-04T17:06:35.972Z"
   },
   {
    "duration": 377,
    "start_time": "2023-02-04T17:06:37.020Z"
   },
   {
    "duration": 11,
    "start_time": "2023-02-04T17:06:37.399Z"
   },
   {
    "duration": 95,
    "start_time": "2023-02-04T17:06:37.411Z"
   },
   {
    "duration": 8,
    "start_time": "2023-02-04T17:06:37.508Z"
   },
   {
    "duration": 33,
    "start_time": "2023-02-04T17:06:37.526Z"
   },
   {
    "duration": 67,
    "start_time": "2023-02-04T17:06:37.561Z"
   },
   {
    "duration": 27,
    "start_time": "2023-02-04T17:06:45.180Z"
   },
   {
    "duration": 11,
    "start_time": "2023-02-04T17:06:47.316Z"
   },
   {
    "duration": 13,
    "start_time": "2023-02-04T17:07:14.903Z"
   },
   {
    "duration": 1113,
    "start_time": "2023-02-04T17:07:21.034Z"
   },
   {
    "duration": 367,
    "start_time": "2023-02-04T17:07:22.149Z"
   },
   {
    "duration": 15,
    "start_time": "2023-02-04T17:07:22.518Z"
   },
   {
    "duration": 102,
    "start_time": "2023-02-04T17:07:22.535Z"
   },
   {
    "duration": 12,
    "start_time": "2023-02-04T17:07:22.641Z"
   },
   {
    "duration": 45,
    "start_time": "2023-02-04T17:07:22.656Z"
   },
   {
    "duration": 46,
    "start_time": "2023-02-04T17:07:22.703Z"
   },
   {
    "duration": 91,
    "start_time": "2023-02-04T17:07:22.751Z"
   },
   {
    "duration": 11,
    "start_time": "2023-02-04T17:09:27.688Z"
   },
   {
    "duration": 1035,
    "start_time": "2023-02-04T17:09:47.183Z"
   },
   {
    "duration": 356,
    "start_time": "2023-02-04T17:09:48.220Z"
   },
   {
    "duration": 10,
    "start_time": "2023-02-04T17:09:48.578Z"
   },
   {
    "duration": 97,
    "start_time": "2023-02-04T17:09:48.590Z"
   },
   {
    "duration": 8,
    "start_time": "2023-02-04T17:09:48.689Z"
   },
   {
    "duration": 47,
    "start_time": "2023-02-04T17:09:48.699Z"
   },
   {
    "duration": 81,
    "start_time": "2023-02-04T17:09:48.748Z"
   },
   {
    "duration": 103,
    "start_time": "2023-02-04T17:09:48.832Z"
   },
   {
    "duration": 28,
    "start_time": "2023-02-04T17:09:56.940Z"
   },
   {
    "duration": 15,
    "start_time": "2023-02-04T17:09:59.979Z"
   },
   {
    "duration": 11,
    "start_time": "2023-02-04T17:10:02.424Z"
   },
   {
    "duration": 1060,
    "start_time": "2023-02-04T17:10:05.987Z"
   },
   {
    "duration": 374,
    "start_time": "2023-02-04T17:10:07.049Z"
   },
   {
    "duration": 10,
    "start_time": "2023-02-04T17:10:07.424Z"
   },
   {
    "duration": 110,
    "start_time": "2023-02-04T17:10:07.436Z"
   },
   {
    "duration": 8,
    "start_time": "2023-02-04T17:10:07.549Z"
   },
   {
    "duration": 41,
    "start_time": "2023-02-04T17:10:07.558Z"
   },
   {
    "duration": 35,
    "start_time": "2023-02-04T17:10:07.601Z"
   },
   {
    "duration": 90,
    "start_time": "2023-02-04T17:10:07.638Z"
   },
   {
    "duration": 100,
    "start_time": "2023-02-04T17:10:07.730Z"
   },
   {
    "duration": 1085,
    "start_time": "2023-02-04T17:10:16.188Z"
   },
   {
    "duration": 361,
    "start_time": "2023-02-04T17:10:17.275Z"
   },
   {
    "duration": 10,
    "start_time": "2023-02-04T17:10:17.638Z"
   },
   {
    "duration": 100,
    "start_time": "2023-02-04T17:10:17.650Z"
   },
   {
    "duration": 8,
    "start_time": "2023-02-04T17:10:17.752Z"
   },
   {
    "duration": 33,
    "start_time": "2023-02-04T17:10:17.762Z"
   },
   {
    "duration": 34,
    "start_time": "2023-02-04T17:10:17.796Z"
   },
   {
    "duration": 194,
    "start_time": "2023-02-04T17:10:17.832Z"
   },
   {
    "duration": 27,
    "start_time": "2023-02-04T17:10:24.484Z"
   },
   {
    "duration": 19,
    "start_time": "2023-02-04T17:10:26.777Z"
   },
   {
    "duration": 10,
    "start_time": "2023-02-04T17:10:28.861Z"
   },
   {
    "duration": 13,
    "start_time": "2023-02-04T17:11:01.774Z"
   },
   {
    "duration": 12,
    "start_time": "2023-02-04T17:11:09.888Z"
   },
   {
    "duration": 11,
    "start_time": "2023-02-04T17:11:28.664Z"
   },
   {
    "duration": 1125,
    "start_time": "2023-02-04T17:14:00.681Z"
   },
   {
    "duration": 383,
    "start_time": "2023-02-04T17:14:01.808Z"
   },
   {
    "duration": 10,
    "start_time": "2023-02-04T17:14:02.193Z"
   },
   {
    "duration": 96,
    "start_time": "2023-02-04T17:14:02.205Z"
   },
   {
    "duration": 9,
    "start_time": "2023-02-04T17:14:02.303Z"
   },
   {
    "duration": 44,
    "start_time": "2023-02-04T17:14:02.314Z"
   },
   {
    "duration": 71,
    "start_time": "2023-02-04T17:14:02.360Z"
   },
   {
    "duration": 105,
    "start_time": "2023-02-04T17:14:02.433Z"
   },
   {
    "duration": 186,
    "start_time": "2023-02-04T17:14:02.541Z"
   },
   {
    "duration": 26,
    "start_time": "2023-02-04T17:14:18.220Z"
   },
   {
    "duration": 99,
    "start_time": "2023-02-04T17:14:56.064Z"
   },
   {
    "duration": 11,
    "start_time": "2023-02-04T17:15:02.573Z"
   },
   {
    "duration": 8,
    "start_time": "2023-02-04T17:15:06.444Z"
   },
   {
    "duration": 8,
    "start_time": "2023-02-04T17:15:11.162Z"
   },
   {
    "duration": 12,
    "start_time": "2023-02-04T17:29:56.939Z"
   },
   {
    "duration": 12,
    "start_time": "2023-02-04T17:30:00.531Z"
   },
   {
    "duration": 10,
    "start_time": "2023-02-04T18:38:14.400Z"
   },
   {
    "duration": 49,
    "start_time": "2023-02-04T18:39:40.504Z"
   },
   {
    "duration": 17,
    "start_time": "2023-02-04T18:40:02.039Z"
   },
   {
    "duration": 9,
    "start_time": "2023-02-04T18:40:09.064Z"
   },
   {
    "duration": 3,
    "start_time": "2023-02-04T18:41:13.883Z"
   },
   {
    "duration": 11,
    "start_time": "2023-02-04T18:41:18.275Z"
   },
   {
    "duration": 25884,
    "start_time": "2023-02-04T18:41:36.401Z"
   },
   {
    "duration": 25583,
    "start_time": "2023-02-04T18:43:39.082Z"
   },
   {
    "duration": 227,
    "start_time": "2023-02-04T18:50:18.374Z"
   },
   {
    "duration": 950885,
    "start_time": "2023-02-04T18:50:43.967Z"
   },
   {
    "duration": 0,
    "start_time": "2023-02-04T19:06:34.853Z"
   },
   {
    "duration": 1132,
    "start_time": "2023-02-04T19:21:08.295Z"
   },
   {
    "duration": 385,
    "start_time": "2023-02-04T19:21:09.428Z"
   },
   {
    "duration": 15,
    "start_time": "2023-02-04T19:21:09.815Z"
   },
   {
    "duration": 96,
    "start_time": "2023-02-04T19:21:09.832Z"
   },
   {
    "duration": 10,
    "start_time": "2023-02-04T19:21:09.930Z"
   },
   {
    "duration": 41,
    "start_time": "2023-02-04T19:21:09.942Z"
   },
   {
    "duration": 42,
    "start_time": "2023-02-04T19:21:09.985Z"
   },
   {
    "duration": 139,
    "start_time": "2023-02-04T19:21:10.028Z"
   },
   {
    "duration": 0,
    "start_time": "2023-02-04T19:21:10.169Z"
   },
   {
    "duration": 0,
    "start_time": "2023-02-04T19:21:10.170Z"
   },
   {
    "duration": 0,
    "start_time": "2023-02-04T19:21:10.171Z"
   },
   {
    "duration": 0,
    "start_time": "2023-02-04T19:21:10.172Z"
   },
   {
    "duration": 0,
    "start_time": "2023-02-04T19:21:10.173Z"
   },
   {
    "duration": 0,
    "start_time": "2023-02-04T19:21:10.175Z"
   },
   {
    "duration": 0,
    "start_time": "2023-02-04T19:21:10.176Z"
   },
   {
    "duration": 0,
    "start_time": "2023-02-04T19:21:10.177Z"
   },
   {
    "duration": 0,
    "start_time": "2023-02-04T19:21:10.178Z"
   },
   {
    "duration": 1136,
    "start_time": "2023-02-04T19:23:00.747Z"
   },
   {
    "duration": 382,
    "start_time": "2023-02-04T19:23:01.885Z"
   },
   {
    "duration": 10,
    "start_time": "2023-02-04T19:23:02.268Z"
   },
   {
    "duration": 95,
    "start_time": "2023-02-04T19:23:02.279Z"
   },
   {
    "duration": 9,
    "start_time": "2023-02-04T19:23:02.376Z"
   },
   {
    "duration": 49,
    "start_time": "2023-02-04T19:23:02.387Z"
   },
   {
    "duration": 27,
    "start_time": "2023-02-04T19:23:02.438Z"
   },
   {
    "duration": 18586,
    "start_time": "2023-02-04T19:23:02.467Z"
   },
   {
    "duration": 1316070,
    "start_time": "2023-02-04T19:23:21.055Z"
   },
   {
    "duration": 0,
    "start_time": "2023-02-04T19:45:17.127Z"
   },
   {
    "duration": 0,
    "start_time": "2023-02-04T19:45:17.129Z"
   },
   {
    "duration": 0,
    "start_time": "2023-02-04T19:45:17.130Z"
   },
   {
    "duration": 0,
    "start_time": "2023-02-04T19:45:17.131Z"
   },
   {
    "duration": 0,
    "start_time": "2023-02-04T19:45:17.132Z"
   },
   {
    "duration": 0,
    "start_time": "2023-02-04T19:45:17.134Z"
   },
   {
    "duration": 0,
    "start_time": "2023-02-04T19:45:17.135Z"
   },
   {
    "duration": 0,
    "start_time": "2023-02-04T19:45:17.136Z"
   },
   {
    "duration": 1095,
    "start_time": "2023-02-04T19:45:22.547Z"
   },
   {
    "duration": 388,
    "start_time": "2023-02-04T19:45:23.644Z"
   },
   {
    "duration": 11,
    "start_time": "2023-02-04T19:45:24.033Z"
   },
   {
    "duration": 92,
    "start_time": "2023-02-04T19:45:24.045Z"
   },
   {
    "duration": 9,
    "start_time": "2023-02-04T19:45:24.139Z"
   },
   {
    "duration": 37,
    "start_time": "2023-02-04T19:45:24.149Z"
   },
   {
    "duration": 45,
    "start_time": "2023-02-04T19:45:24.188Z"
   },
   {
    "duration": 19175,
    "start_time": "2023-02-04T19:45:24.234Z"
   },
   {
    "duration": 141773,
    "start_time": "2023-02-04T19:45:43.410Z"
   },
   {
    "duration": 0,
    "start_time": "2023-02-04T19:48:05.186Z"
   },
   {
    "duration": 0,
    "start_time": "2023-02-04T19:48:05.188Z"
   },
   {
    "duration": 0,
    "start_time": "2023-02-04T19:48:05.189Z"
   },
   {
    "duration": 0,
    "start_time": "2023-02-04T19:48:05.190Z"
   },
   {
    "duration": 0,
    "start_time": "2023-02-04T19:48:05.191Z"
   },
   {
    "duration": 0,
    "start_time": "2023-02-04T19:48:05.192Z"
   },
   {
    "duration": 0,
    "start_time": "2023-02-04T19:48:05.193Z"
   },
   {
    "duration": 0,
    "start_time": "2023-02-04T19:48:05.195Z"
   },
   {
    "duration": 1115,
    "start_time": "2023-02-04T19:48:31.032Z"
   },
   {
    "duration": 417,
    "start_time": "2023-02-04T19:48:32.149Z"
   },
   {
    "duration": 9,
    "start_time": "2023-02-04T19:48:32.568Z"
   },
   {
    "duration": 92,
    "start_time": "2023-02-04T19:48:32.579Z"
   },
   {
    "duration": 10,
    "start_time": "2023-02-04T19:48:32.674Z"
   },
   {
    "duration": 42,
    "start_time": "2023-02-04T19:48:32.685Z"
   },
   {
    "duration": 28,
    "start_time": "2023-02-04T19:48:32.728Z"
   },
   {
    "duration": 18682,
    "start_time": "2023-02-04T19:48:32.757Z"
   },
   {
    "duration": 919007,
    "start_time": "2023-02-04T19:48:51.441Z"
   },
   {
    "duration": 0,
    "start_time": "2023-02-04T20:04:10.452Z"
   },
   {
    "duration": 0,
    "start_time": "2023-02-04T20:04:10.454Z"
   },
   {
    "duration": 0,
    "start_time": "2023-02-04T20:04:10.455Z"
   },
   {
    "duration": 0,
    "start_time": "2023-02-04T20:04:10.457Z"
   },
   {
    "duration": 0,
    "start_time": "2023-02-04T20:04:10.458Z"
   },
   {
    "duration": 0,
    "start_time": "2023-02-04T20:04:10.460Z"
   },
   {
    "duration": 0,
    "start_time": "2023-02-04T20:04:10.461Z"
   },
   {
    "duration": 0,
    "start_time": "2023-02-04T20:04:10.461Z"
   },
   {
    "duration": 13,
    "start_time": "2023-02-04T20:04:21.167Z"
   },
   {
    "duration": 409423,
    "start_time": "2023-02-04T20:05:21.044Z"
   },
   {
    "duration": 17,
    "start_time": "2023-02-04T20:12:15.172Z"
   },
   {
    "duration": 43,
    "start_time": "2023-02-04T20:12:18.160Z"
   },
   {
    "duration": 14250,
    "start_time": "2023-02-04T20:12:31.094Z"
   },
   {
    "duration": 12,
    "start_time": "2023-02-04T20:12:55.652Z"
   },
   {
    "duration": 18946,
    "start_time": "2023-02-04T20:13:29.926Z"
   },
   {
    "duration": 13,
    "start_time": "2023-02-04T20:13:55.171Z"
   },
   {
    "duration": 20,
    "start_time": "2023-02-04T20:14:18.935Z"
   },
   {
    "duration": 10,
    "start_time": "2023-02-05T11:40:54.638Z"
   },
   {
    "duration": 4,
    "start_time": "2023-02-05T11:41:13.466Z"
   },
   {
    "duration": 4,
    "start_time": "2023-02-05T11:41:57.796Z"
   },
   {
    "duration": 4,
    "start_time": "2023-02-05T11:45:37.157Z"
   },
   {
    "duration": 5,
    "start_time": "2023-02-05T11:48:59.227Z"
   },
   {
    "duration": 4,
    "start_time": "2023-02-05T11:49:15.293Z"
   },
   {
    "duration": 93,
    "start_time": "2023-02-05T12:01:17.112Z"
   },
   {
    "duration": 37,
    "start_time": "2023-02-05T12:01:24.743Z"
   },
   {
    "duration": 6,
    "start_time": "2023-02-05T12:01:34.486Z"
   },
   {
    "duration": 1101,
    "start_time": "2023-02-05T12:01:41.487Z"
   },
   {
    "duration": 396,
    "start_time": "2023-02-05T12:01:42.590Z"
   },
   {
    "duration": 11,
    "start_time": "2023-02-05T12:01:42.988Z"
   },
   {
    "duration": 103,
    "start_time": "2023-02-05T12:01:43.000Z"
   },
   {
    "duration": 49,
    "start_time": "2023-02-05T12:01:43.105Z"
   },
   {
    "duration": 5,
    "start_time": "2023-02-05T12:01:43.156Z"
   },
   {
    "duration": 8,
    "start_time": "2023-02-05T12:01:43.163Z"
   },
   {
    "duration": 19,
    "start_time": "2023-02-05T12:01:43.173Z"
   },
   {
    "duration": 111,
    "start_time": "2023-02-05T12:01:43.194Z"
   },
   {
    "duration": 11749,
    "start_time": "2023-02-05T12:01:43.307Z"
   },
   {
    "duration": 6,
    "start_time": "2023-02-05T12:01:55.057Z"
   },
   {
    "duration": 50,
    "start_time": "2023-02-05T12:01:55.064Z"
   },
   {
    "duration": 7654,
    "start_time": "2023-02-05T12:01:55.115Z"
   },
   {
    "duration": 5,
    "start_time": "2023-02-05T12:02:02.771Z"
   },
   {
    "duration": 98,
    "start_time": "2023-02-05T12:02:02.778Z"
   },
   {
    "duration": 11894,
    "start_time": "2023-02-05T12:02:02.877Z"
   },
   {
    "duration": 7,
    "start_time": "2023-02-05T12:02:14.773Z"
   },
   {
    "duration": 14,
    "start_time": "2023-02-05T12:02:14.782Z"
   },
   {
    "duration": 13,
    "start_time": "2023-02-05T12:02:14.798Z"
   },
   {
    "duration": 1124,
    "start_time": "2023-02-05T12:02:58.515Z"
   },
   {
    "duration": 371,
    "start_time": "2023-02-05T12:02:59.641Z"
   },
   {
    "duration": 13,
    "start_time": "2023-02-05T12:03:00.014Z"
   },
   {
    "duration": 111,
    "start_time": "2023-02-05T12:03:00.030Z"
   },
   {
    "duration": 41,
    "start_time": "2023-02-05T12:03:00.142Z"
   },
   {
    "duration": 6,
    "start_time": "2023-02-05T12:03:00.185Z"
   },
   {
    "duration": 17,
    "start_time": "2023-02-05T12:03:00.193Z"
   },
   {
    "duration": 40,
    "start_time": "2023-02-05T12:03:00.211Z"
   },
   {
    "duration": 96,
    "start_time": "2023-02-05T12:03:00.253Z"
   },
   {
    "duration": 11790,
    "start_time": "2023-02-05T12:03:00.352Z"
   },
   {
    "duration": 6,
    "start_time": "2023-02-05T12:03:12.144Z"
   },
   {
    "duration": 59,
    "start_time": "2023-02-05T12:03:12.152Z"
   },
   {
    "duration": 8688,
    "start_time": "2023-02-05T12:03:12.213Z"
   },
   {
    "duration": 6,
    "start_time": "2023-02-05T12:03:20.903Z"
   },
   {
    "duration": 125,
    "start_time": "2023-02-05T12:03:20.911Z"
   },
   {
    "duration": 11917,
    "start_time": "2023-02-05T12:03:21.038Z"
   },
   {
    "duration": 5,
    "start_time": "2023-02-05T12:03:32.957Z"
   },
   {
    "duration": 27,
    "start_time": "2023-02-05T12:03:32.964Z"
   },
   {
    "duration": 22,
    "start_time": "2023-02-05T12:03:32.993Z"
   },
   {
    "duration": 5,
    "start_time": "2023-02-05T12:09:41.851Z"
   },
   {
    "duration": 102,
    "start_time": "2023-02-05T12:11:54.412Z"
   },
   {
    "duration": 12,
    "start_time": "2023-02-05T12:12:30.919Z"
   },
   {
    "duration": 5,
    "start_time": "2023-02-05T12:12:35.870Z"
   },
   {
    "duration": 1123,
    "start_time": "2023-02-05T12:12:42.017Z"
   },
   {
    "duration": 401,
    "start_time": "2023-02-05T12:12:43.142Z"
   },
   {
    "duration": 12,
    "start_time": "2023-02-05T12:12:43.545Z"
   },
   {
    "duration": 109,
    "start_time": "2023-02-05T12:12:43.559Z"
   },
   {
    "duration": 7,
    "start_time": "2023-02-05T12:12:43.669Z"
   },
   {
    "duration": 8,
    "start_time": "2023-02-05T12:12:43.679Z"
   },
   {
    "duration": 12,
    "start_time": "2023-02-05T12:12:43.689Z"
   },
   {
    "duration": 40,
    "start_time": "2023-02-05T12:12:43.702Z"
   },
   {
    "duration": 108,
    "start_time": "2023-02-05T12:12:43.744Z"
   },
   {
    "duration": 11476,
    "start_time": "2023-02-05T12:12:43.856Z"
   },
   {
    "duration": 6,
    "start_time": "2023-02-05T12:12:55.333Z"
   },
   {
    "duration": 70,
    "start_time": "2023-02-05T12:12:55.341Z"
   },
   {
    "duration": 9773,
    "start_time": "2023-02-05T12:12:55.412Z"
   },
   {
    "duration": 6,
    "start_time": "2023-02-05T12:13:05.187Z"
   },
   {
    "duration": 113,
    "start_time": "2023-02-05T12:13:05.194Z"
   },
   {
    "duration": 11573,
    "start_time": "2023-02-05T12:13:05.309Z"
   },
   {
    "duration": 5,
    "start_time": "2023-02-05T12:13:16.884Z"
   },
   {
    "duration": 21,
    "start_time": "2023-02-05T12:13:16.891Z"
   },
   {
    "duration": 6,
    "start_time": "2023-02-05T12:13:16.914Z"
   },
   {
    "duration": 3,
    "start_time": "2023-02-05T12:30:40.718Z"
   },
   {
    "duration": 4,
    "start_time": "2023-02-05T12:33:17.824Z"
   },
   {
    "duration": 355,
    "start_time": "2023-02-05T12:55:54.297Z"
   },
   {
    "duration": 3,
    "start_time": "2023-02-05T12:59:32.567Z"
   },
   {
    "duration": 3,
    "start_time": "2023-02-05T13:00:08.567Z"
   },
   {
    "duration": 100,
    "start_time": "2023-02-05T13:00:11.521Z"
   },
   {
    "duration": 16,
    "start_time": "2023-02-05T13:08:04.995Z"
   },
   {
    "duration": 3,
    "start_time": "2023-02-05T13:08:10.756Z"
   },
   {
    "duration": 11,
    "start_time": "2023-02-05T13:08:11.894Z"
   },
   {
    "duration": 4,
    "start_time": "2023-02-05T13:08:20.220Z"
   },
   {
    "duration": 16,
    "start_time": "2023-02-05T13:08:21.367Z"
   },
   {
    "duration": 5,
    "start_time": "2023-02-05T13:08:26.665Z"
   },
   {
    "duration": 17,
    "start_time": "2023-02-05T13:08:27.292Z"
   },
   {
    "duration": 4,
    "start_time": "2023-02-05T13:09:15.825Z"
   },
   {
    "duration": 16,
    "start_time": "2023-02-05T13:09:16.898Z"
   },
   {
    "duration": 4,
    "start_time": "2023-02-05T13:09:24.059Z"
   },
   {
    "duration": 11,
    "start_time": "2023-02-05T13:09:24.854Z"
   },
   {
    "duration": 382,
    "start_time": "2023-02-05T13:09:56.136Z"
   },
   {
    "duration": 6,
    "start_time": "2023-02-05T13:10:01.613Z"
   },
   {
    "duration": 12,
    "start_time": "2023-02-05T13:10:04.389Z"
   },
   {
    "duration": 3,
    "start_time": "2023-02-05T13:10:20.065Z"
   },
   {
    "duration": 17,
    "start_time": "2023-02-05T13:10:20.320Z"
   },
   {
    "duration": 345,
    "start_time": "2023-02-05T13:10:39.147Z"
   },
   {
    "duration": 3,
    "start_time": "2023-02-05T13:10:47.386Z"
   },
   {
    "duration": 8,
    "start_time": "2023-02-05T13:10:47.908Z"
   },
   {
    "duration": 4,
    "start_time": "2023-02-05T13:11:43.579Z"
   },
   {
    "duration": 7,
    "start_time": "2023-02-05T13:11:44.310Z"
   },
   {
    "duration": 4,
    "start_time": "2023-02-05T13:13:06.021Z"
   },
   {
    "duration": 9,
    "start_time": "2023-02-05T13:13:06.322Z"
   },
   {
    "duration": 8,
    "start_time": "2023-02-05T13:13:39.908Z"
   },
   {
    "duration": 3,
    "start_time": "2023-02-05T13:13:44.770Z"
   },
   {
    "duration": 10,
    "start_time": "2023-02-05T13:13:45.483Z"
   },
   {
    "duration": 5,
    "start_time": "2023-02-05T13:14:10.337Z"
   },
   {
    "duration": 8,
    "start_time": "2023-02-05T13:14:10.680Z"
   },
   {
    "duration": 8,
    "start_time": "2023-02-05T13:14:46.086Z"
   },
   {
    "duration": 4,
    "start_time": "2023-02-05T13:15:43.534Z"
   },
   {
    "duration": 12,
    "start_time": "2023-02-05T13:15:43.847Z"
   },
   {
    "duration": 11,
    "start_time": "2023-02-05T13:15:59.945Z"
   },
   {
    "duration": 8,
    "start_time": "2023-02-05T13:16:03.983Z"
   },
   {
    "duration": 8,
    "start_time": "2023-02-05T13:16:05.226Z"
   },
   {
    "duration": 9,
    "start_time": "2023-02-05T13:16:05.985Z"
   },
   {
    "duration": 9,
    "start_time": "2023-02-05T13:16:06.650Z"
   },
   {
    "duration": 8,
    "start_time": "2023-02-05T13:16:12.390Z"
   },
   {
    "duration": 4,
    "start_time": "2023-02-05T13:18:27.990Z"
   },
   {
    "duration": 8,
    "start_time": "2023-02-05T13:18:28.486Z"
   },
   {
    "duration": 4,
    "start_time": "2023-02-05T13:18:35.263Z"
   },
   {
    "duration": 9,
    "start_time": "2023-02-05T13:18:35.898Z"
   },
   {
    "duration": 3,
    "start_time": "2023-02-05T13:18:37.516Z"
   },
   {
    "duration": 8,
    "start_time": "2023-02-05T13:18:37.865Z"
   },
   {
    "duration": 3,
    "start_time": "2023-02-05T13:18:39.448Z"
   },
   {
    "duration": 8,
    "start_time": "2023-02-05T13:18:39.770Z"
   },
   {
    "duration": 11,
    "start_time": "2023-02-05T13:47:20.936Z"
   },
   {
    "duration": 4,
    "start_time": "2023-02-05T13:47:30.205Z"
   },
   {
    "duration": 3694,
    "start_time": "2023-02-05T13:47:32.291Z"
   },
   {
    "duration": 3,
    "start_time": "2023-02-05T13:47:49.172Z"
   },
   {
    "duration": 3623,
    "start_time": "2023-02-05T13:47:53.322Z"
   },
   {
    "duration": 3765,
    "start_time": "2023-02-05T13:48:15.598Z"
   },
   {
    "duration": 3613,
    "start_time": "2023-02-05T13:48:43.616Z"
   },
   {
    "duration": 3574,
    "start_time": "2023-02-05T13:49:13.870Z"
   },
   {
    "duration": 3622,
    "start_time": "2023-02-05T13:50:04.395Z"
   },
   {
    "duration": 3747,
    "start_time": "2023-02-05T13:50:14.377Z"
   },
   {
    "duration": 3757,
    "start_time": "2023-02-05T13:51:48.322Z"
   },
   {
    "duration": 3604,
    "start_time": "2023-02-05T13:52:40.379Z"
   },
   {
    "duration": 3820,
    "start_time": "2023-02-05T13:52:51.319Z"
   },
   {
    "duration": 4,
    "start_time": "2023-02-05T13:56:09.763Z"
   },
   {
    "duration": 3607,
    "start_time": "2023-02-05T13:56:11.624Z"
   },
   {
    "duration": 3771,
    "start_time": "2023-02-05T13:56:46.531Z"
   },
   {
    "duration": 3713,
    "start_time": "2023-02-05T13:57:35.666Z"
   },
   {
    "duration": 3922,
    "start_time": "2023-02-05T13:57:52.600Z"
   },
   {
    "duration": 3725,
    "start_time": "2023-02-05T13:58:09.438Z"
   },
   {
    "duration": 9,
    "start_time": "2023-02-05T14:00:44.996Z"
   },
   {
    "duration": 10,
    "start_time": "2023-02-05T14:00:46.648Z"
   },
   {
    "duration": 9,
    "start_time": "2023-02-05T14:00:47.623Z"
   },
   {
    "duration": 4,
    "start_time": "2023-02-05T14:00:59.407Z"
   },
   {
    "duration": 8,
    "start_time": "2023-02-05T14:00:59.958Z"
   },
   {
    "duration": 356,
    "start_time": "2023-02-05T14:01:47.371Z"
   },
   {
    "duration": 1115,
    "start_time": "2023-02-05T14:01:57.939Z"
   },
   {
    "duration": 380,
    "start_time": "2023-02-05T14:01:59.056Z"
   },
   {
    "duration": 11,
    "start_time": "2023-02-05T14:01:59.438Z"
   },
   {
    "duration": 100,
    "start_time": "2023-02-05T14:01:59.451Z"
   },
   {
    "duration": 9,
    "start_time": "2023-02-05T14:01:59.553Z"
   },
   {
    "duration": 35,
    "start_time": "2023-02-05T14:01:59.564Z"
   },
   {
    "duration": 45,
    "start_time": "2023-02-05T14:01:59.601Z"
   },
   {
    "duration": 18456,
    "start_time": "2023-02-05T14:01:59.648Z"
   },
   {
    "duration": 9207,
    "start_time": "2023-02-05T14:02:18.106Z"
   },
   {
    "duration": 0,
    "start_time": "2023-02-05T14:02:27.315Z"
   },
   {
    "duration": 0,
    "start_time": "2023-02-05T14:02:27.316Z"
   },
   {
    "duration": 0,
    "start_time": "2023-02-05T14:02:27.317Z"
   },
   {
    "duration": 0,
    "start_time": "2023-02-05T14:02:27.318Z"
   },
   {
    "duration": 0,
    "start_time": "2023-02-05T14:02:27.319Z"
   },
   {
    "duration": 0,
    "start_time": "2023-02-05T14:02:27.327Z"
   },
   {
    "duration": 0,
    "start_time": "2023-02-05T14:02:27.328Z"
   },
   {
    "duration": 0,
    "start_time": "2023-02-05T14:02:27.329Z"
   },
   {
    "duration": 0,
    "start_time": "2023-02-05T14:02:27.330Z"
   },
   {
    "duration": 0,
    "start_time": "2023-02-05T14:02:27.331Z"
   },
   {
    "duration": 0,
    "start_time": "2023-02-05T14:02:27.332Z"
   },
   {
    "duration": 15,
    "start_time": "2023-02-05T14:02:34.184Z"
   },
   {
    "duration": 14369,
    "start_time": "2023-02-05T14:02:36.759Z"
   },
   {
    "duration": 11,
    "start_time": "2023-02-05T14:02:51.129Z"
   },
   {
    "duration": 19415,
    "start_time": "2023-02-05T14:02:51.142Z"
   },
   {
    "duration": 9,
    "start_time": "2023-02-05T14:03:10.560Z"
   },
   {
    "duration": 3,
    "start_time": "2023-02-05T14:03:16.825Z"
   },
   {
    "duration": 3,
    "start_time": "2023-02-05T14:03:19.119Z"
   },
   {
    "duration": 10,
    "start_time": "2023-02-05T14:03:19.619Z"
   },
   {
    "duration": 8,
    "start_time": "2023-02-05T14:03:21.795Z"
   },
   {
    "duration": 3636,
    "start_time": "2023-02-05T14:03:24.924Z"
   },
   {
    "duration": 71,
    "start_time": "2023-02-05T14:08:17.343Z"
   },
   {
    "duration": 4,
    "start_time": "2023-02-05T14:08:24.661Z"
   },
   {
    "duration": 8,
    "start_time": "2023-02-05T14:08:25.969Z"
   },
   {
    "duration": 4,
    "start_time": "2023-02-05T14:09:09.740Z"
   },
   {
    "duration": 8,
    "start_time": "2023-02-05T14:09:10.127Z"
   },
   {
    "duration": 5,
    "start_time": "2023-02-05T14:09:37.482Z"
   },
   {
    "duration": 10,
    "start_time": "2023-02-05T14:09:37.854Z"
   },
   {
    "duration": 3,
    "start_time": "2023-02-05T14:09:43.195Z"
   },
   {
    "duration": 22,
    "start_time": "2023-02-05T14:09:44.122Z"
   },
   {
    "duration": 3,
    "start_time": "2023-02-05T14:10:12.496Z"
   },
   {
    "duration": 10,
    "start_time": "2023-02-05T14:10:12.974Z"
   },
   {
    "duration": 4,
    "start_time": "2023-02-05T14:10:36.451Z"
   },
   {
    "duration": 10,
    "start_time": "2023-02-05T14:10:37.465Z"
   },
   {
    "duration": 4,
    "start_time": "2023-02-05T14:10:45.709Z"
   },
   {
    "duration": 10,
    "start_time": "2023-02-05T14:10:45.891Z"
   },
   {
    "duration": 5,
    "start_time": "2023-02-05T14:10:50.594Z"
   },
   {
    "duration": 10,
    "start_time": "2023-02-05T14:10:51.131Z"
   },
   {
    "duration": 4,
    "start_time": "2023-02-05T14:11:00.804Z"
   },
   {
    "duration": 11,
    "start_time": "2023-02-05T14:11:01.131Z"
   },
   {
    "duration": 4,
    "start_time": "2023-02-05T14:11:23.706Z"
   },
   {
    "duration": 10,
    "start_time": "2023-02-05T14:11:24.544Z"
   },
   {
    "duration": 4,
    "start_time": "2023-02-05T14:11:31.965Z"
   },
   {
    "duration": 10,
    "start_time": "2023-02-05T14:11:32.384Z"
   },
   {
    "duration": 4,
    "start_time": "2023-02-05T14:12:14.189Z"
   },
   {
    "duration": 10,
    "start_time": "2023-02-05T14:12:14.723Z"
   },
   {
    "duration": 5,
    "start_time": "2023-02-05T14:12:26.528Z"
   },
   {
    "duration": 9,
    "start_time": "2023-02-05T14:12:26.770Z"
   },
   {
    "duration": 8,
    "start_time": "2023-02-05T14:12:29.327Z"
   },
   {
    "duration": 7,
    "start_time": "2023-02-05T14:13:01.099Z"
   },
   {
    "duration": 8,
    "start_time": "2023-02-05T14:13:01.331Z"
   },
   {
    "duration": 9,
    "start_time": "2023-02-05T14:13:09.592Z"
   },
   {
    "duration": 3787,
    "start_time": "2023-02-05T14:13:16.646Z"
   },
   {
    "duration": 4,
    "start_time": "2023-02-05T14:13:42.001Z"
   },
   {
    "duration": 17,
    "start_time": "2023-02-05T14:13:42.645Z"
   },
   {
    "duration": 3,
    "start_time": "2023-02-05T14:13:53.879Z"
   },
   {
    "duration": 10,
    "start_time": "2023-02-05T14:13:54.457Z"
   },
   {
    "duration": 3776,
    "start_time": "2023-02-05T14:15:04.407Z"
   },
   {
    "duration": 3945,
    "start_time": "2023-02-05T14:15:08.185Z"
   },
   {
    "duration": 1276,
    "start_time": "2023-02-05T14:16:29.559Z"
   },
   {
    "duration": 410,
    "start_time": "2023-02-05T14:16:30.837Z"
   },
   {
    "duration": 12,
    "start_time": "2023-02-05T14:16:31.249Z"
   },
   {
    "duration": 102,
    "start_time": "2023-02-05T14:16:31.262Z"
   },
   {
    "duration": 9,
    "start_time": "2023-02-05T14:16:31.366Z"
   },
   {
    "duration": 34,
    "start_time": "2023-02-05T14:16:31.377Z"
   },
   {
    "duration": 18802,
    "start_time": "2023-02-05T14:16:31.413Z"
   },
   {
    "duration": 3807,
    "start_time": "2023-02-05T14:16:50.217Z"
   },
   {
    "duration": 0,
    "start_time": "2023-02-05T14:16:54.027Z"
   },
   {
    "duration": 0,
    "start_time": "2023-02-05T14:16:54.028Z"
   },
   {
    "duration": 0,
    "start_time": "2023-02-05T14:16:54.029Z"
   },
   {
    "duration": 0,
    "start_time": "2023-02-05T14:16:54.030Z"
   },
   {
    "duration": 0,
    "start_time": "2023-02-05T14:16:54.031Z"
   },
   {
    "duration": 0,
    "start_time": "2023-02-05T14:16:54.033Z"
   },
   {
    "duration": 0,
    "start_time": "2023-02-05T14:16:54.034Z"
   },
   {
    "duration": 0,
    "start_time": "2023-02-05T14:16:54.035Z"
   },
   {
    "duration": 0,
    "start_time": "2023-02-05T14:16:54.037Z"
   },
   {
    "duration": 0,
    "start_time": "2023-02-05T14:16:54.038Z"
   },
   {
    "duration": 0,
    "start_time": "2023-02-05T14:16:54.039Z"
   },
   {
    "duration": 0,
    "start_time": "2023-02-05T14:16:54.040Z"
   },
   {
    "duration": 0,
    "start_time": "2023-02-05T14:16:54.041Z"
   },
   {
    "duration": 25,
    "start_time": "2023-02-05T14:17:07.201Z"
   },
   {
    "duration": 15257,
    "start_time": "2023-02-05T14:17:08.605Z"
   },
   {
    "duration": 12,
    "start_time": "2023-02-05T14:17:23.865Z"
   },
   {
    "duration": 19729,
    "start_time": "2023-02-05T14:17:23.880Z"
   },
   {
    "duration": 29,
    "start_time": "2023-02-05T14:17:43.611Z"
   },
   {
    "duration": 88,
    "start_time": "2023-02-05T14:17:43.643Z"
   },
   {
    "duration": 5,
    "start_time": "2023-02-05T14:19:00.964Z"
   },
   {
    "duration": 8,
    "start_time": "2023-02-05T14:19:19.129Z"
   },
   {
    "duration": 3917,
    "start_time": "2023-02-05T14:19:38.095Z"
   },
   {
    "duration": 3947,
    "start_time": "2023-02-05T14:19:48.287Z"
   },
   {
    "duration": 3824,
    "start_time": "2023-02-05T14:20:18.475Z"
   },
   {
    "duration": 26,
    "start_time": "2023-02-05T14:21:50.042Z"
   },
   {
    "duration": 16947,
    "start_time": "2023-02-05T14:21:58.707Z"
   },
   {
    "duration": 0,
    "start_time": "2023-02-05T14:22:15.656Z"
   },
   {
    "duration": 0,
    "start_time": "2023-02-05T14:22:15.657Z"
   },
   {
    "duration": 0,
    "start_time": "2023-02-05T14:22:15.658Z"
   },
   {
    "duration": 0,
    "start_time": "2023-02-05T14:22:15.659Z"
   },
   {
    "duration": 0,
    "start_time": "2023-02-05T14:22:15.660Z"
   },
   {
    "duration": 18481,
    "start_time": "2023-02-05T14:22:21.171Z"
   },
   {
    "duration": 73,
    "start_time": "2023-02-05T14:22:39.654Z"
   },
   {
    "duration": 14422,
    "start_time": "2023-02-05T14:22:39.730Z"
   },
   {
    "duration": 73,
    "start_time": "2023-02-05T14:22:54.155Z"
   },
   {
    "duration": 19274,
    "start_time": "2023-02-05T14:22:54.230Z"
   },
   {
    "duration": 23,
    "start_time": "2023-02-05T14:23:13.506Z"
   },
   {
    "duration": 97,
    "start_time": "2023-02-05T14:23:13.531Z"
   },
   {
    "duration": 101,
    "start_time": "2023-02-05T14:23:13.631Z"
   },
   {
    "duration": 11,
    "start_time": "2023-02-05T14:23:13.734Z"
   },
   {
    "duration": 3782,
    "start_time": "2023-02-05T14:23:13.747Z"
   },
   {
    "duration": 3820,
    "start_time": "2023-02-05T14:23:17.531Z"
   },
   {
    "duration": 3707,
    "start_time": "2023-02-05T14:23:21.353Z"
   },
   {
    "duration": 3809,
    "start_time": "2023-02-05T14:27:41.687Z"
   },
   {
    "duration": 4048,
    "start_time": "2023-02-05T14:28:04.259Z"
   },
   {
    "duration": 25,
    "start_time": "2023-02-05T14:28:43.985Z"
   },
   {
    "duration": 19350,
    "start_time": "2023-02-05T14:28:46.981Z"
   },
   {
    "duration": 26,
    "start_time": "2023-02-05T14:29:13.838Z"
   },
   {
    "duration": 25,
    "start_time": "2023-02-05T14:29:15.267Z"
   },
   {
    "duration": 18749,
    "start_time": "2023-02-05T14:29:18.337Z"
   },
   {
    "duration": 1094,
    "start_time": "2023-02-05T14:29:50.163Z"
   },
   {
    "duration": 394,
    "start_time": "2023-02-05T14:29:51.259Z"
   },
   {
    "duration": 12,
    "start_time": "2023-02-05T14:29:51.655Z"
   },
   {
    "duration": 103,
    "start_time": "2023-02-05T14:29:51.668Z"
   },
   {
    "duration": 10,
    "start_time": "2023-02-05T14:29:51.774Z"
   },
   {
    "duration": 48,
    "start_time": "2023-02-05T14:29:51.786Z"
   },
   {
    "duration": 30,
    "start_time": "2023-02-05T14:29:51.836Z"
   },
   {
    "duration": 18702,
    "start_time": "2023-02-05T14:29:51.867Z"
   },
   {
    "duration": 1692858,
    "start_time": "2023-02-05T14:30:10.571Z"
   },
   {
    "duration": 25,
    "start_time": "2023-02-05T14:58:23.432Z"
   },
   {
    "duration": 14902,
    "start_time": "2023-02-05T14:58:23.535Z"
   },
   {
    "duration": 0,
    "start_time": "2023-02-05T15:27:06.181Z"
   },
   {
    "duration": 0,
    "start_time": "2023-02-05T15:27:06.184Z"
   },
   {
    "duration": 0,
    "start_time": "2023-02-05T15:27:06.187Z"
   },
   {
    "duration": 0,
    "start_time": "2023-02-05T15:27:06.189Z"
   },
   {
    "duration": 0,
    "start_time": "2023-02-05T15:27:06.190Z"
   },
   {
    "duration": 0,
    "start_time": "2023-02-05T15:27:06.193Z"
   },
   {
    "duration": 0,
    "start_time": "2023-02-05T15:27:06.195Z"
   },
   {
    "duration": 0,
    "start_time": "2023-02-05T15:27:06.228Z"
   },
   {
    "duration": 0,
    "start_time": "2023-02-05T15:27:06.231Z"
   },
   {
    "duration": 0,
    "start_time": "2023-02-05T15:27:06.234Z"
   },
   {
    "duration": 0,
    "start_time": "2023-02-05T15:27:06.237Z"
   },
   {
    "duration": 15,
    "start_time": "2023-02-05T15:33:04.041Z"
   },
   {
    "duration": 18868,
    "start_time": "2023-02-05T15:33:07.405Z"
   },
   {
    "duration": 55,
    "start_time": "2023-02-05T15:33:26.275Z"
   },
   {
    "duration": 97,
    "start_time": "2023-02-05T15:33:26.333Z"
   },
   {
    "duration": 6,
    "start_time": "2023-02-05T15:33:26.432Z"
   },
   {
    "duration": 10,
    "start_time": "2023-02-05T15:33:26.440Z"
   },
   {
    "duration": 3933,
    "start_time": "2023-02-05T15:33:26.452Z"
   },
   {
    "duration": 3992,
    "start_time": "2023-02-05T15:33:30.387Z"
   },
   {
    "duration": 3869,
    "start_time": "2023-02-05T15:33:34.381Z"
   },
   {
    "duration": 4,
    "start_time": "2023-02-05T15:37:12.975Z"
   },
   {
    "duration": 10,
    "start_time": "2023-02-05T15:37:13.581Z"
   },
   {
    "duration": 4,
    "start_time": "2023-02-05T15:37:27.107Z"
   },
   {
    "duration": 581,
    "start_time": "2023-02-05T15:37:57.460Z"
   },
   {
    "duration": 547,
    "start_time": "2023-02-05T15:38:17.542Z"
   },
   {
    "duration": 552,
    "start_time": "2023-02-05T15:38:19.362Z"
   },
   {
    "duration": 5,
    "start_time": "2023-02-05T15:39:13.395Z"
   },
   {
    "duration": 5,
    "start_time": "2023-02-05T15:39:14.762Z"
   },
   {
    "duration": 5,
    "start_time": "2023-02-05T15:39:15.730Z"
   },
   {
    "duration": 6,
    "start_time": "2023-02-05T15:39:17.017Z"
   },
   {
    "duration": 5,
    "start_time": "2023-02-05T15:39:18.475Z"
   },
   {
    "duration": 4,
    "start_time": "2023-02-05T15:39:36.404Z"
   },
   {
    "duration": 5,
    "start_time": "2023-02-05T15:39:36.777Z"
   },
   {
    "duration": 3,
    "start_time": "2023-02-05T15:39:41.539Z"
   },
   {
    "duration": 5,
    "start_time": "2023-02-05T15:39:41.863Z"
   },
   {
    "duration": 20,
    "start_time": "2023-02-05T15:44:47.943Z"
   },
   {
    "duration": 19,
    "start_time": "2023-02-05T15:44:53.434Z"
   },
   {
    "duration": 8,
    "start_time": "2023-02-05T15:45:43.380Z"
   },
   {
    "duration": 8,
    "start_time": "2023-02-05T15:45:47.095Z"
   },
   {
    "duration": 7,
    "start_time": "2023-02-05T15:45:56.917Z"
   },
   {
    "duration": 7,
    "start_time": "2023-02-05T15:45:59.071Z"
   },
   {
    "duration": 6,
    "start_time": "2023-02-05T15:46:00.764Z"
   },
   {
    "duration": 6,
    "start_time": "2023-02-05T15:46:02.007Z"
   },
   {
    "duration": 6,
    "start_time": "2023-02-05T15:46:03.041Z"
   },
   {
    "duration": 6,
    "start_time": "2023-02-05T15:46:04.072Z"
   },
   {
    "duration": 6,
    "start_time": "2023-02-05T15:46:05.137Z"
   },
   {
    "duration": 6,
    "start_time": "2023-02-05T15:46:06.765Z"
   },
   {
    "duration": 7,
    "start_time": "2023-02-05T15:46:09.526Z"
   },
   {
    "duration": 9,
    "start_time": "2023-02-05T15:46:10.700Z"
   },
   {
    "duration": 5,
    "start_time": "2023-02-05T15:46:11.879Z"
   },
   {
    "duration": 6,
    "start_time": "2023-02-05T15:46:16.184Z"
   },
   {
    "duration": 5,
    "start_time": "2023-02-05T15:46:17.704Z"
   },
   {
    "duration": 6,
    "start_time": "2023-02-05T15:46:19.275Z"
   },
   {
    "duration": 6,
    "start_time": "2023-02-05T15:46:20.594Z"
   },
   {
    "duration": 7,
    "start_time": "2023-02-05T15:46:24.664Z"
   },
   {
    "duration": 4,
    "start_time": "2023-02-05T15:46:36.414Z"
   },
   {
    "duration": 5,
    "start_time": "2023-02-05T15:46:36.776Z"
   },
   {
    "duration": 515,
    "start_time": "2023-02-05T15:46:38.743Z"
   },
   {
    "duration": 559,
    "start_time": "2023-02-05T15:47:14.786Z"
   },
   {
    "duration": 551,
    "start_time": "2023-02-05T15:47:29.072Z"
   },
   {
    "duration": 496,
    "start_time": "2023-02-05T15:48:19.367Z"
   },
   {
    "duration": 525,
    "start_time": "2023-02-05T15:48:46.810Z"
   },
   {
    "duration": 535,
    "start_time": "2023-02-05T15:49:44.563Z"
   },
   {
    "duration": 529,
    "start_time": "2023-02-05T15:50:35.523Z"
   },
   {
    "duration": 5136,
    "start_time": "2023-02-05T15:50:43.858Z"
   },
   {
    "duration": 510,
    "start_time": "2023-02-05T15:53:23.243Z"
   },
   {
    "duration": 532,
    "start_time": "2023-02-05T15:53:36.669Z"
   },
   {
    "duration": 96,
    "start_time": "2023-02-05T15:53:49.398Z"
   },
   {
    "duration": 81,
    "start_time": "2023-02-05T15:53:55.707Z"
   },
   {
    "duration": 529,
    "start_time": "2023-02-05T15:54:08.319Z"
   },
   {
    "duration": 548,
    "start_time": "2023-02-05T15:54:31.675Z"
   },
   {
    "duration": 507,
    "start_time": "2023-02-05T15:55:03.245Z"
   },
   {
    "duration": 518,
    "start_time": "2023-02-05T15:55:18.547Z"
   },
   {
    "duration": 523,
    "start_time": "2023-02-05T15:55:54.971Z"
   },
   {
    "duration": 74,
    "start_time": "2023-02-05T15:56:03.009Z"
   },
   {
    "duration": 76,
    "start_time": "2023-02-05T15:56:09.652Z"
   },
   {
    "duration": 76,
    "start_time": "2023-02-05T15:56:13.723Z"
   },
   {
    "duration": 93,
    "start_time": "2023-02-05T15:56:23.328Z"
   },
   {
    "duration": 84,
    "start_time": "2023-02-05T15:56:26.316Z"
   },
   {
    "duration": 76,
    "start_time": "2023-02-05T15:56:28.716Z"
   },
   {
    "duration": 69,
    "start_time": "2023-02-05T15:56:34.645Z"
   },
   {
    "duration": 557,
    "start_time": "2023-02-05T15:56:45.840Z"
   },
   {
    "duration": 542,
    "start_time": "2023-02-05T15:56:51.239Z"
   },
   {
    "duration": 505,
    "start_time": "2023-02-05T15:57:08.878Z"
   },
   {
    "duration": 523,
    "start_time": "2023-02-05T15:57:12.760Z"
   },
   {
    "duration": 4,
    "start_time": "2023-02-05T15:58:55.215Z"
   },
   {
    "duration": 6,
    "start_time": "2023-02-05T15:58:56.332Z"
   },
   {
    "duration": 5,
    "start_time": "2023-02-05T15:58:58.078Z"
   },
   {
    "duration": 1044,
    "start_time": "2023-02-05T15:59:00.392Z"
   },
   {
    "duration": 994,
    "start_time": "2023-02-05T15:59:05.568Z"
   },
   {
    "duration": 1047,
    "start_time": "2023-02-05T15:59:09.996Z"
   },
   {
    "duration": 666,
    "start_time": "2023-02-05T16:01:25.293Z"
   },
   {
    "duration": 4,
    "start_time": "2023-02-05T16:02:26.013Z"
   },
   {
    "duration": 244,
    "start_time": "2023-02-05T16:03:05.315Z"
   },
   {
    "duration": 146,
    "start_time": "2023-02-05T16:04:30.071Z"
   },
   {
    "duration": 66,
    "start_time": "2023-02-05T16:05:12.771Z"
   },
   {
    "duration": 12368,
    "start_time": "2023-02-05T16:05:16.830Z"
   },
   {
    "duration": 12356,
    "start_time": "2023-02-05T16:05:36.336Z"
   },
   {
    "duration": 13,
    "start_time": "2023-02-05T16:06:51.733Z"
   },
   {
    "duration": 11,
    "start_time": "2023-02-05T16:06:59.162Z"
   },
   {
    "duration": 140,
    "start_time": "2023-02-05T16:07:04.002Z"
   },
   {
    "duration": 12307,
    "start_time": "2023-02-05T16:07:09.405Z"
   },
   {
    "duration": 133,
    "start_time": "2023-02-05T16:07:31.722Z"
   },
   {
    "duration": 240,
    "start_time": "2023-02-05T16:07:47.556Z"
   },
   {
    "duration": 1317,
    "start_time": "2023-02-05T16:08:03.962Z"
   },
   {
    "duration": 732,
    "start_time": "2023-02-05T16:08:08.863Z"
   },
   {
    "duration": 380,
    "start_time": "2023-02-05T16:10:26.913Z"
   },
   {
    "duration": 476,
    "start_time": "2023-02-05T16:11:40.152Z"
   },
   {
    "duration": 430,
    "start_time": "2023-02-05T16:12:10.153Z"
   },
   {
    "duration": 356,
    "start_time": "2023-02-05T16:12:23.794Z"
   },
   {
    "duration": 373,
    "start_time": "2023-02-05T16:12:42.125Z"
   },
   {
    "duration": 379,
    "start_time": "2023-02-05T16:12:56.616Z"
   },
   {
    "duration": 383,
    "start_time": "2023-02-05T16:13:02.336Z"
   },
   {
    "duration": 452,
    "start_time": "2023-02-05T16:13:10.185Z"
   },
   {
    "duration": 9649,
    "start_time": "2023-02-05T16:13:41.519Z"
   },
   {
    "duration": 9753,
    "start_time": "2023-02-05T16:17:45.442Z"
   },
   {
    "duration": 988,
    "start_time": "2023-02-05T16:17:55.198Z"
   },
   {
    "duration": 9689,
    "start_time": "2023-02-05T16:18:07.674Z"
   },
   {
    "duration": 979,
    "start_time": "2023-02-05T16:18:17.365Z"
   },
   {
    "duration": 995,
    "start_time": "2023-02-05T16:18:18.346Z"
   },
   {
    "duration": 1661,
    "start_time": "2023-02-05T16:19:43.082Z"
   },
   {
    "duration": 378,
    "start_time": "2023-02-05T16:19:44.746Z"
   },
   {
    "duration": 11,
    "start_time": "2023-02-05T16:19:45.128Z"
   },
   {
    "duration": 103,
    "start_time": "2023-02-05T16:19:45.140Z"
   },
   {
    "duration": 10,
    "start_time": "2023-02-05T16:19:45.244Z"
   },
   {
    "duration": 37,
    "start_time": "2023-02-05T16:19:45.255Z"
   },
   {
    "duration": 48,
    "start_time": "2023-02-05T16:19:45.294Z"
   },
   {
    "duration": 18595,
    "start_time": "2023-02-05T16:19:45.344Z"
   },
   {
    "duration": 18886,
    "start_time": "2023-02-05T16:20:03.942Z"
   },
   {
    "duration": 0,
    "start_time": "2023-02-05T16:20:22.830Z"
   },
   {
    "duration": 0,
    "start_time": "2023-02-05T16:20:22.832Z"
   },
   {
    "duration": 0,
    "start_time": "2023-02-05T16:20:22.833Z"
   },
   {
    "duration": 0,
    "start_time": "2023-02-05T16:20:22.834Z"
   },
   {
    "duration": 0,
    "start_time": "2023-02-05T16:20:22.835Z"
   },
   {
    "duration": 0,
    "start_time": "2023-02-05T16:20:22.836Z"
   },
   {
    "duration": 0,
    "start_time": "2023-02-05T16:20:22.837Z"
   },
   {
    "duration": 0,
    "start_time": "2023-02-05T16:20:22.838Z"
   },
   {
    "duration": 0,
    "start_time": "2023-02-05T16:20:22.839Z"
   },
   {
    "duration": 0,
    "start_time": "2023-02-05T16:20:22.840Z"
   },
   {
    "duration": 0,
    "start_time": "2023-02-05T16:20:22.841Z"
   },
   {
    "duration": 0,
    "start_time": "2023-02-05T16:20:22.842Z"
   },
   {
    "duration": 0,
    "start_time": "2023-02-05T16:20:22.843Z"
   },
   {
    "duration": 12,
    "start_time": "2023-02-05T16:20:27.344Z"
   },
   {
    "duration": 14483,
    "start_time": "2023-02-05T16:20:30.484Z"
   },
   {
    "duration": 11,
    "start_time": "2023-02-05T16:20:44.969Z"
   },
   {
    "duration": 19234,
    "start_time": "2023-02-05T16:20:44.982Z"
   },
   {
    "duration": 24,
    "start_time": "2023-02-05T16:21:04.218Z"
   },
   {
    "duration": 85,
    "start_time": "2023-02-05T16:21:04.244Z"
   },
   {
    "duration": 100,
    "start_time": "2023-02-05T16:21:04.330Z"
   },
   {
    "duration": 4995,
    "start_time": "2023-02-05T16:21:04.432Z"
   },
   {
    "duration": 516,
    "start_time": "2023-02-05T16:21:09.429Z"
   },
   {
    "duration": 572,
    "start_time": "2023-02-05T16:21:09.947Z"
   },
   {
    "duration": 5484,
    "start_time": "2023-02-05T16:25:47.942Z"
   },
   {
    "duration": 561,
    "start_time": "2023-02-05T16:25:56.784Z"
   },
   {
    "duration": 573,
    "start_time": "2023-02-05T16:28:47.215Z"
   },
   {
    "duration": 619,
    "start_time": "2023-02-05T16:28:50.143Z"
   },
   {
    "duration": 561,
    "start_time": "2023-02-05T16:28:52.992Z"
   },
   {
    "duration": 5573,
    "start_time": "2023-02-05T16:28:57.188Z"
   },
   {
    "duration": 13899,
    "start_time": "2023-02-05T16:40:22.092Z"
   },
   {
    "duration": 323877,
    "start_time": "2023-02-05T16:40:37.745Z"
   },
   {
    "duration": 315731,
    "start_time": "2023-02-05T16:47:12.576Z"
   },
   {
    "duration": 0,
    "start_time": "2023-02-05T16:52:28.309Z"
   },
   {
    "duration": 234996,
    "start_time": "2023-02-05T16:52:44.593Z"
   },
   {
    "duration": 332295,
    "start_time": "2023-02-05T16:56:39.591Z"
   },
   {
    "duration": 56,
    "start_time": "2023-02-06T09:25:42.872Z"
   },
   {
    "duration": 1440,
    "start_time": "2023-02-06T09:25:46.340Z"
   },
   {
    "duration": 1059,
    "start_time": "2023-02-06T09:25:47.783Z"
   },
   {
    "duration": 539,
    "start_time": "2023-02-06T09:25:58.793Z"
   },
   {
    "duration": 3,
    "start_time": "2023-02-06T09:35:59.545Z"
   },
   {
    "duration": 78,
    "start_time": "2023-02-06T09:43:08.570Z"
   },
   {
    "duration": 4,
    "start_time": "2023-02-06T09:43:23.629Z"
   },
   {
    "duration": 67,
    "start_time": "2023-02-06T09:43:59.731Z"
   },
   {
    "duration": 1315,
    "start_time": "2023-02-06T09:44:09.136Z"
   },
   {
    "duration": 541,
    "start_time": "2023-02-06T09:44:10.453Z"
   },
   {
    "duration": 8,
    "start_time": "2023-02-06T09:44:10.996Z"
   },
   {
    "duration": 96,
    "start_time": "2023-02-06T09:44:11.006Z"
   },
   {
    "duration": 9,
    "start_time": "2023-02-06T09:44:11.104Z"
   },
   {
    "duration": 38,
    "start_time": "2023-02-06T09:44:11.114Z"
   },
   {
    "duration": 40,
    "start_time": "2023-02-06T09:44:11.154Z"
   },
   {
    "duration": 100,
    "start_time": "2023-02-06T09:44:11.196Z"
   },
   {
    "duration": 102,
    "start_time": "2023-02-06T09:44:11.298Z"
   },
   {
    "duration": 203,
    "start_time": "2023-02-06T09:44:11.402Z"
   },
   {
    "duration": 91,
    "start_time": "2023-02-06T09:44:11.607Z"
   },
   {
    "duration": 98,
    "start_time": "2023-02-06T09:44:11.701Z"
   },
   {
    "duration": 108,
    "start_time": "2023-02-06T09:44:11.801Z"
   },
   {
    "duration": 0,
    "start_time": "2023-02-06T09:44:11.911Z"
   },
   {
    "duration": 0,
    "start_time": "2023-02-06T09:44:11.912Z"
   },
   {
    "duration": 0,
    "start_time": "2023-02-06T09:44:11.913Z"
   },
   {
    "duration": 5,
    "start_time": "2023-02-06T09:45:19.355Z"
   },
   {
    "duration": 16,
    "start_time": "2023-02-06T09:45:21.158Z"
   },
   {
    "duration": 5,
    "start_time": "2023-02-06T09:45:26.778Z"
   },
   {
    "duration": 25,
    "start_time": "2023-02-06T09:45:28.045Z"
   },
   {
    "duration": 4,
    "start_time": "2023-02-06T09:45:46.327Z"
   },
   {
    "duration": 4,
    "start_time": "2023-02-06T09:45:56.834Z"
   },
   {
    "duration": 14,
    "start_time": "2023-02-06T09:45:57.435Z"
   },
   {
    "duration": 69,
    "start_time": "2023-02-06T09:46:01.632Z"
   },
   {
    "duration": 14,
    "start_time": "2023-02-06T09:46:01.740Z"
   },
   {
    "duration": 4,
    "start_time": "2023-02-06T09:46:04.753Z"
   },
   {
    "duration": 16,
    "start_time": "2023-02-06T09:46:04.897Z"
   },
   {
    "duration": 4,
    "start_time": "2023-02-06T09:46:13.399Z"
   },
   {
    "duration": 18,
    "start_time": "2023-02-06T09:46:14.281Z"
   },
   {
    "duration": 4,
    "start_time": "2023-02-06T09:47:19.757Z"
   },
   {
    "duration": 16,
    "start_time": "2023-02-06T09:47:20.402Z"
   },
   {
    "duration": 3,
    "start_time": "2023-02-06T09:47:24.993Z"
   },
   {
    "duration": 14,
    "start_time": "2023-02-06T09:47:25.627Z"
   },
   {
    "duration": 4,
    "start_time": "2023-02-06T09:47:37.043Z"
   },
   {
    "duration": 15,
    "start_time": "2023-02-06T09:47:37.435Z"
   },
   {
    "duration": 4,
    "start_time": "2023-02-06T09:48:23.749Z"
   },
   {
    "duration": 22,
    "start_time": "2023-02-06T09:48:24.192Z"
   },
   {
    "duration": 3,
    "start_time": "2023-02-06T09:48:37.431Z"
   },
   {
    "duration": 1407,
    "start_time": "2023-02-06T09:48:37.884Z"
   },
   {
    "duration": 4,
    "start_time": "2023-02-06T09:48:58.253Z"
   },
   {
    "duration": 876,
    "start_time": "2023-02-06T09:48:58.708Z"
   },
   {
    "duration": 4,
    "start_time": "2023-02-06T09:49:33.045Z"
   },
   {
    "duration": 15,
    "start_time": "2023-02-06T09:49:33.657Z"
   },
   {
    "duration": 4,
    "start_time": "2023-02-06T09:50:14.829Z"
   },
   {
    "duration": 19,
    "start_time": "2023-02-06T09:50:15.285Z"
   },
   {
    "duration": 4,
    "start_time": "2023-02-06T09:51:10.219Z"
   },
   {
    "duration": 19,
    "start_time": "2023-02-06T09:51:10.634Z"
   },
   {
    "duration": 4,
    "start_time": "2023-02-06T09:53:52.731Z"
   },
   {
    "duration": 19,
    "start_time": "2023-02-06T09:53:52.900Z"
   },
   {
    "duration": 5,
    "start_time": "2023-02-06T09:54:12.637Z"
   },
   {
    "duration": 14,
    "start_time": "2023-02-06T09:54:13.165Z"
   },
   {
    "duration": 4,
    "start_time": "2023-02-06T09:56:28.929Z"
   },
   {
    "duration": 12,
    "start_time": "2023-02-06T09:56:29.337Z"
   },
   {
    "duration": 4,
    "start_time": "2023-02-06T09:56:38.800Z"
   },
   {
    "duration": 16,
    "start_time": "2023-02-06T09:56:39.131Z"
   },
   {
    "duration": 4,
    "start_time": "2023-02-06T09:59:41.888Z"
   },
   {
    "duration": 57,
    "start_time": "2023-02-06T09:59:42.372Z"
   },
   {
    "duration": 4,
    "start_time": "2023-02-06T10:00:07.823Z"
   },
   {
    "duration": 60,
    "start_time": "2023-02-06T10:00:08.137Z"
   },
   {
    "duration": 4,
    "start_time": "2023-02-06T10:00:13.751Z"
   },
   {
    "duration": 72,
    "start_time": "2023-02-06T10:00:14.080Z"
   },
   {
    "duration": 4,
    "start_time": "2023-02-06T10:00:55.231Z"
   },
   {
    "duration": 57,
    "start_time": "2023-02-06T10:00:55.635Z"
   },
   {
    "duration": 4,
    "start_time": "2023-02-06T10:01:43.063Z"
   },
   {
    "duration": 63,
    "start_time": "2023-02-06T10:01:43.419Z"
   },
   {
    "duration": 5,
    "start_time": "2023-02-06T10:02:41.940Z"
   },
   {
    "duration": 61,
    "start_time": "2023-02-06T10:02:43.525Z"
   },
   {
    "duration": 4,
    "start_time": "2023-02-06T10:02:48.856Z"
   },
   {
    "duration": 58,
    "start_time": "2023-02-06T10:02:49.068Z"
   },
   {
    "duration": 1323,
    "start_time": "2023-02-06T10:03:14.851Z"
   },
   {
    "duration": 560,
    "start_time": "2023-02-06T10:03:16.176Z"
   },
   {
    "duration": 8,
    "start_time": "2023-02-06T10:03:16.738Z"
   },
   {
    "duration": 90,
    "start_time": "2023-02-06T10:03:16.748Z"
   },
   {
    "duration": 8,
    "start_time": "2023-02-06T10:03:16.839Z"
   },
   {
    "duration": 33,
    "start_time": "2023-02-06T10:03:16.849Z"
   },
   {
    "duration": 26,
    "start_time": "2023-02-06T10:03:16.894Z"
   },
   {
    "duration": 76,
    "start_time": "2023-02-06T10:03:16.922Z"
   },
   {
    "duration": 102,
    "start_time": "2023-02-06T10:03:17.000Z"
   },
   {
    "duration": 190,
    "start_time": "2023-02-06T10:03:17.107Z"
   },
   {
    "duration": 107,
    "start_time": "2023-02-06T10:03:17.299Z"
   },
   {
    "duration": 7,
    "start_time": "2023-02-06T10:03:17.409Z"
   },
   {
    "duration": 227,
    "start_time": "2023-02-06T10:03:17.418Z"
   },
   {
    "duration": 0,
    "start_time": "2023-02-06T10:03:17.647Z"
   },
   {
    "duration": 0,
    "start_time": "2023-02-06T10:03:17.648Z"
   },
   {
    "duration": 0,
    "start_time": "2023-02-06T10:03:17.649Z"
   },
   {
    "duration": 4,
    "start_time": "2023-02-06T10:04:35.300Z"
   },
   {
    "duration": 28,
    "start_time": "2023-02-06T10:04:35.727Z"
   },
   {
    "duration": 4,
    "start_time": "2023-02-06T10:04:53.686Z"
   },
   {
    "duration": 42,
    "start_time": "2023-02-06T10:04:53.987Z"
   },
   {
    "duration": 4,
    "start_time": "2023-02-06T10:05:15.163Z"
   },
   {
    "duration": 38,
    "start_time": "2023-02-06T10:05:15.777Z"
   },
   {
    "duration": 5,
    "start_time": "2023-02-06T10:05:59.630Z"
   },
   {
    "duration": 37,
    "start_time": "2023-02-06T10:06:00.127Z"
   },
   {
    "duration": 5,
    "start_time": "2023-02-06T10:06:24.102Z"
   },
   {
    "duration": 35,
    "start_time": "2023-02-06T10:06:25.301Z"
   },
   {
    "duration": 4,
    "start_time": "2023-02-06T10:06:44.419Z"
   },
   {
    "duration": 28,
    "start_time": "2023-02-06T10:06:44.650Z"
   },
   {
    "duration": 5,
    "start_time": "2023-02-06T10:06:54.166Z"
   },
   {
    "duration": 28,
    "start_time": "2023-02-06T10:06:54.555Z"
   },
   {
    "duration": 4,
    "start_time": "2023-02-06T10:07:05.479Z"
   },
   {
    "duration": 10,
    "start_time": "2023-02-06T10:07:05.735Z"
   },
   {
    "duration": 11,
    "start_time": "2023-02-06T10:07:13.631Z"
   },
   {
    "duration": 4,
    "start_time": "2023-02-06T10:07:26.393Z"
   },
   {
    "duration": 18,
    "start_time": "2023-02-06T10:07:27.301Z"
   },
   {
    "duration": 5,
    "start_time": "2023-02-06T10:08:00.270Z"
   },
   {
    "duration": 17,
    "start_time": "2023-02-06T10:08:00.566Z"
   },
   {
    "duration": 4,
    "start_time": "2023-02-06T10:09:30.231Z"
   },
   {
    "duration": 16,
    "start_time": "2023-02-06T10:09:30.459Z"
   },
   {
    "duration": 4,
    "start_time": "2023-02-06T10:09:41.679Z"
   },
   {
    "duration": 18,
    "start_time": "2023-02-06T10:09:42.424Z"
   },
   {
    "duration": 4,
    "start_time": "2023-02-06T10:09:50.640Z"
   },
   {
    "duration": 16,
    "start_time": "2023-02-06T10:09:50.947Z"
   },
   {
    "duration": 4,
    "start_time": "2023-02-06T10:12:01.241Z"
   },
   {
    "duration": 20,
    "start_time": "2023-02-06T10:12:01.578Z"
   },
   {
    "duration": 5,
    "start_time": "2023-02-06T10:12:24.566Z"
   },
   {
    "duration": 15,
    "start_time": "2023-02-06T10:12:24.945Z"
   },
   {
    "duration": 4,
    "start_time": "2023-02-06T10:13:10.586Z"
   },
   {
    "duration": 15,
    "start_time": "2023-02-06T10:13:10.859Z"
   },
   {
    "duration": 5,
    "start_time": "2023-02-06T10:13:24.939Z"
   },
   {
    "duration": 19,
    "start_time": "2023-02-06T10:13:25.188Z"
   },
   {
    "duration": 5,
    "start_time": "2023-02-06T10:13:28.047Z"
   },
   {
    "duration": 13,
    "start_time": "2023-02-06T10:13:28.527Z"
   },
   {
    "duration": 7872,
    "start_time": "2023-02-06T10:15:04.948Z"
   },
   {
    "duration": 6,
    "start_time": "2023-02-06T10:15:13.260Z"
   },
   {
    "duration": 17,
    "start_time": "2023-02-06T10:15:14.381Z"
   },
   {
    "duration": 4805,
    "start_time": "2023-02-06T10:15:19.135Z"
   },
   {
    "duration": 70448,
    "start_time": "2023-02-06T10:16:37.807Z"
   },
   {
    "duration": 58702,
    "start_time": "2023-02-06T10:21:24.932Z"
   },
   {
    "duration": 59676,
    "start_time": "2023-02-06T10:22:23.636Z"
   },
   {
    "duration": 57755,
    "start_time": "2023-02-06T10:30:59.481Z"
   },
   {
    "duration": 4,
    "start_time": "2023-02-06T10:32:46.644Z"
   },
   {
    "duration": 19,
    "start_time": "2023-02-06T10:32:47.056Z"
   },
   {
    "duration": 5,
    "start_time": "2023-02-06T10:33:05.627Z"
   },
   {
    "duration": 14,
    "start_time": "2023-02-06T10:33:05.984Z"
   },
   {
    "duration": 14,
    "start_time": "2023-02-06T10:33:27.436Z"
   },
   {
    "duration": 14,
    "start_time": "2023-02-06T10:33:30.401Z"
   },
   {
    "duration": 14,
    "start_time": "2023-02-06T10:33:32.971Z"
   },
   {
    "duration": 14,
    "start_time": "2023-02-06T10:33:34.360Z"
   },
   {
    "duration": 13,
    "start_time": "2023-02-06T10:33:36.839Z"
   },
   {
    "duration": 4,
    "start_time": "2023-02-06T10:36:00.179Z"
   },
   {
    "duration": 11,
    "start_time": "2023-02-06T10:36:00.628Z"
   },
   {
    "duration": 4,
    "start_time": "2023-02-06T10:36:03.749Z"
   },
   {
    "duration": 13,
    "start_time": "2023-02-06T10:36:04.096Z"
   },
   {
    "duration": 58513,
    "start_time": "2023-02-06T10:39:30.777Z"
   },
   {
    "duration": 58990,
    "start_time": "2023-02-06T10:40:38.327Z"
   },
   {
    "duration": 60820,
    "start_time": "2023-02-06T10:43:09.239Z"
   },
   {
    "duration": 1401,
    "start_time": "2023-02-06T10:48:11.369Z"
   },
   {
    "duration": 552,
    "start_time": "2023-02-06T10:48:12.773Z"
   },
   {
    "duration": 10,
    "start_time": "2023-02-06T10:48:13.327Z"
   },
   {
    "duration": 98,
    "start_time": "2023-02-06T10:48:13.339Z"
   },
   {
    "duration": 9,
    "start_time": "2023-02-06T10:48:13.439Z"
   },
   {
    "duration": 51,
    "start_time": "2023-02-06T10:48:13.449Z"
   },
   {
    "duration": 31,
    "start_time": "2023-02-06T10:48:13.502Z"
   },
   {
    "duration": 60,
    "start_time": "2023-02-06T10:48:13.535Z"
   },
   {
    "duration": 114,
    "start_time": "2023-02-06T10:48:13.598Z"
   },
   {
    "duration": 188,
    "start_time": "2023-02-06T10:48:13.718Z"
   },
   {
    "duration": 186,
    "start_time": "2023-02-06T10:48:13.910Z"
   },
   {
    "duration": 29,
    "start_time": "2023-02-06T10:48:14.099Z"
   },
   {
    "duration": 58351,
    "start_time": "2023-02-06T10:48:14.130Z"
   },
   {
    "duration": 59030,
    "start_time": "2023-02-06T10:49:12.483Z"
   },
   {
    "duration": 58057,
    "start_time": "2023-02-06T10:50:11.514Z"
   },
   {
    "duration": 1742,
    "start_time": "2023-02-06T12:37:30.483Z"
   },
   {
    "duration": 2548,
    "start_time": "2023-02-06T12:37:32.228Z"
   },
   {
    "duration": 13,
    "start_time": "2023-02-06T12:37:34.778Z"
   },
   {
    "duration": 102,
    "start_time": "2023-02-06T12:37:34.794Z"
   },
   {
    "duration": 9,
    "start_time": "2023-02-06T12:37:34.898Z"
   },
   {
    "duration": 42,
    "start_time": "2023-02-06T12:37:34.909Z"
   },
   {
    "duration": 45,
    "start_time": "2023-02-06T12:37:34.953Z"
   },
   {
    "duration": 97,
    "start_time": "2023-02-06T12:37:35.000Z"
   },
   {
    "duration": 15,
    "start_time": "2023-02-06T12:37:35.185Z"
   },
   {
    "duration": 185,
    "start_time": "2023-02-06T12:37:35.203Z"
   },
   {
    "duration": 94,
    "start_time": "2023-02-06T12:37:35.390Z"
   },
   {
    "duration": 104,
    "start_time": "2023-02-06T12:37:35.487Z"
   },
   {
    "duration": 64544,
    "start_time": "2023-02-06T12:37:35.593Z"
   },
   {
    "duration": 63893,
    "start_time": "2023-02-06T12:38:40.139Z"
   },
   {
    "duration": 65873,
    "start_time": "2023-02-06T12:39:44.034Z"
   },
   {
    "duration": 41824,
    "start_time": "2023-02-06T12:44:24.367Z"
   },
   {
    "duration": 0,
    "start_time": "2023-02-06T12:45:06.193Z"
   },
   {
    "duration": 6854,
    "start_time": "2023-02-06T12:45:08.378Z"
   },
   {
    "duration": 6710,
    "start_time": "2023-02-06T12:45:39.703Z"
   },
   {
    "duration": 6897,
    "start_time": "2023-02-06T12:45:46.414Z"
   },
   {
    "duration": 6831,
    "start_time": "2023-02-06T12:45:57.394Z"
   },
   {
    "duration": 4,
    "start_time": "2023-02-06T12:46:38.421Z"
   },
   {
    "duration": 7017,
    "start_time": "2023-02-06T12:46:41.619Z"
   },
   {
    "duration": 7124,
    "start_time": "2023-02-06T12:46:57.082Z"
   },
   {
    "duration": 78,
    "start_time": "2023-02-06T12:51:18.744Z"
   },
   {
    "duration": 117,
    "start_time": "2023-02-06T12:51:42.083Z"
   },
   {
    "duration": 6666,
    "start_time": "2023-02-06T12:52:16.670Z"
   },
   {
    "duration": 6826,
    "start_time": "2023-02-06T12:52:58.899Z"
   },
   {
    "duration": 12,
    "start_time": "2023-02-06T12:53:53.961Z"
   },
   {
    "duration": 11,
    "start_time": "2023-02-06T12:53:56.174Z"
   },
   {
    "duration": 13,
    "start_time": "2023-02-06T12:53:57.990Z"
   },
   {
    "duration": 11,
    "start_time": "2023-02-06T12:53:59.271Z"
   },
   {
    "duration": 12,
    "start_time": "2023-02-06T12:54:08.702Z"
   },
   {
    "duration": 13,
    "start_time": "2023-02-06T12:54:10.625Z"
   },
   {
    "duration": 12,
    "start_time": "2023-02-06T12:54:11.975Z"
   },
   {
    "duration": 5,
    "start_time": "2023-02-06T12:54:25.677Z"
   },
   {
    "duration": 11,
    "start_time": "2023-02-06T12:54:26.405Z"
   },
   {
    "duration": 13,
    "start_time": "2023-02-06T12:54:28.209Z"
   },
   {
    "duration": 6,
    "start_time": "2023-02-06T12:56:39.638Z"
   },
   {
    "duration": 13,
    "start_time": "2023-02-06T12:56:40.622Z"
   },
   {
    "duration": 11,
    "start_time": "2023-02-06T12:56:42.140Z"
   },
   {
    "duration": 12,
    "start_time": "2023-02-06T12:56:42.865Z"
   },
   {
    "duration": 15,
    "start_time": "2023-02-06T12:56:43.556Z"
   },
   {
    "duration": 5,
    "start_time": "2023-02-06T12:57:06.145Z"
   },
   {
    "duration": 15,
    "start_time": "2023-02-06T12:57:06.594Z"
   },
   {
    "duration": 14,
    "start_time": "2023-02-06T12:57:09.512Z"
   },
   {
    "duration": 15,
    "start_time": "2023-02-06T12:57:10.913Z"
   },
   {
    "duration": 15,
    "start_time": "2023-02-06T12:57:12.277Z"
   },
   {
    "duration": 14,
    "start_time": "2023-02-06T12:57:13.870Z"
   },
   {
    "duration": 14,
    "start_time": "2023-02-06T12:57:15.562Z"
   },
   {
    "duration": 5,
    "start_time": "2023-02-06T12:57:39.934Z"
   },
   {
    "duration": 12,
    "start_time": "2023-02-06T12:57:40.279Z"
   },
   {
    "duration": 13,
    "start_time": "2023-02-06T12:57:42.295Z"
   },
   {
    "duration": 12,
    "start_time": "2023-02-06T12:57:43.879Z"
   },
   {
    "duration": 11,
    "start_time": "2023-02-06T12:57:45.976Z"
   },
   {
    "duration": 4,
    "start_time": "2023-02-06T12:59:15.243Z"
   },
   {
    "duration": 10,
    "start_time": "2023-02-06T12:59:15.844Z"
   },
   {
    "duration": 11,
    "start_time": "2023-02-06T12:59:17.620Z"
   },
   {
    "duration": 11,
    "start_time": "2023-02-06T12:59:19.172Z"
   },
   {
    "duration": 5,
    "start_time": "2023-02-06T13:00:32.512Z"
   },
   {
    "duration": 10,
    "start_time": "2023-02-06T13:00:33.917Z"
   },
   {
    "duration": 11,
    "start_time": "2023-02-06T13:00:36.124Z"
   },
   {
    "duration": 9,
    "start_time": "2023-02-06T13:00:36.914Z"
   },
   {
    "duration": 3875,
    "start_time": "2023-02-06T13:00:39.428Z"
   },
   {
    "duration": 6,
    "start_time": "2023-02-06T13:01:17.801Z"
   },
   {
    "duration": 9,
    "start_time": "2023-02-06T13:01:18.096Z"
   },
   {
    "duration": 5,
    "start_time": "2023-02-06T13:07:38.273Z"
   },
   {
    "duration": 9,
    "start_time": "2023-02-06T13:07:38.694Z"
   },
   {
    "duration": 10,
    "start_time": "2023-02-06T13:07:40.406Z"
   },
   {
    "duration": 3729,
    "start_time": "2023-02-06T13:07:43.721Z"
   },
   {
    "duration": 3971,
    "start_time": "2023-02-06T13:07:56.816Z"
   },
   {
    "duration": 3946,
    "start_time": "2023-02-06T13:08:17.417Z"
   },
   {
    "duration": 3857,
    "start_time": "2023-02-06T13:08:49.865Z"
   },
   {
    "duration": 3975,
    "start_time": "2023-02-06T13:09:06.243Z"
   },
   {
    "duration": 3760,
    "start_time": "2023-02-06T13:09:22.619Z"
   },
   {
    "duration": 3860,
    "start_time": "2023-02-06T13:09:43.533Z"
   },
   {
    "duration": 3767,
    "start_time": "2023-02-06T13:09:50.407Z"
   },
   {
    "duration": 1478,
    "start_time": "2023-02-06T13:11:19.874Z"
   },
   {
    "duration": 603,
    "start_time": "2023-02-06T13:11:21.354Z"
   },
   {
    "duration": 27,
    "start_time": "2023-02-06T13:11:21.959Z"
   },
   {
    "duration": 112,
    "start_time": "2023-02-06T13:11:21.988Z"
   },
   {
    "duration": 14,
    "start_time": "2023-02-06T13:11:22.103Z"
   },
   {
    "duration": 44,
    "start_time": "2023-02-06T13:11:22.119Z"
   },
   {
    "duration": 41,
    "start_time": "2023-02-06T13:11:22.165Z"
   },
   {
    "duration": 84,
    "start_time": "2023-02-06T13:11:22.208Z"
   },
   {
    "duration": 18,
    "start_time": "2023-02-06T13:11:22.383Z"
   },
   {
    "duration": 183,
    "start_time": "2023-02-06T13:11:22.404Z"
   },
   {
    "duration": 5,
    "start_time": "2023-02-06T13:11:22.589Z"
   },
   {
    "duration": 189,
    "start_time": "2023-02-06T13:11:22.596Z"
   },
   {
    "duration": 24,
    "start_time": "2023-02-06T13:11:22.787Z"
   },
   {
    "duration": 3946,
    "start_time": "2023-02-06T13:11:22.814Z"
   },
   {
    "duration": 4095,
    "start_time": "2023-02-06T13:11:26.762Z"
   },
   {
    "duration": 3915,
    "start_time": "2023-02-06T13:11:30.859Z"
   },
   {
    "duration": 4001,
    "start_time": "2023-02-06T13:11:56.314Z"
   },
   {
    "duration": 3640,
    "start_time": "2023-02-06T13:12:20.647Z"
   },
   {
    "duration": 4060,
    "start_time": "2023-02-06T13:16:02.331Z"
   },
   {
    "duration": 4287,
    "start_time": "2023-02-06T13:16:55.849Z"
   },
   {
    "duration": 4531,
    "start_time": "2023-02-06T13:19:59.035Z"
   },
   {
    "duration": 4123,
    "start_time": "2023-02-06T13:20:33.275Z"
   },
   {
    "duration": 4366,
    "start_time": "2023-02-06T13:21:28.289Z"
   },
   {
    "duration": 1455,
    "start_time": "2023-02-06T13:25:30.025Z"
   },
   {
    "duration": 681,
    "start_time": "2023-02-06T13:25:31.484Z"
   },
   {
    "duration": 18,
    "start_time": "2023-02-06T13:25:32.169Z"
   },
   {
    "duration": 113,
    "start_time": "2023-02-06T13:25:32.189Z"
   },
   {
    "duration": 10,
    "start_time": "2023-02-06T13:25:32.304Z"
   },
   {
    "duration": 42,
    "start_time": "2023-02-06T13:25:32.316Z"
   },
   {
    "duration": 48,
    "start_time": "2023-02-06T13:25:32.360Z"
   },
   {
    "duration": 78,
    "start_time": "2023-02-06T13:25:32.409Z"
   },
   {
    "duration": 104,
    "start_time": "2023-02-06T13:25:32.491Z"
   },
   {
    "duration": 197,
    "start_time": "2023-02-06T13:25:32.598Z"
   },
   {
    "duration": 96,
    "start_time": "2023-02-06T13:25:32.798Z"
   },
   {
    "duration": 13,
    "start_time": "2023-02-06T13:25:32.985Z"
   },
   {
    "duration": 19,
    "start_time": "2023-02-06T13:25:33.000Z"
   },
   {
    "duration": 4151,
    "start_time": "2023-02-06T13:25:33.021Z"
   },
   {
    "duration": 4201,
    "start_time": "2023-02-06T13:25:37.174Z"
   },
   {
    "duration": 4338,
    "start_time": "2023-02-06T13:25:41.377Z"
   },
   {
    "duration": 1543,
    "start_time": "2023-02-06T13:38:19.494Z"
   },
   {
    "duration": 612,
    "start_time": "2023-02-06T13:38:21.039Z"
   },
   {
    "duration": 11,
    "start_time": "2023-02-06T13:38:21.652Z"
   },
   {
    "duration": 107,
    "start_time": "2023-02-06T13:38:21.665Z"
   },
   {
    "duration": 17,
    "start_time": "2023-02-06T13:38:21.774Z"
   },
   {
    "duration": 37,
    "start_time": "2023-02-06T13:38:21.793Z"
   },
   {
    "duration": 29,
    "start_time": "2023-02-06T13:38:21.832Z"
   },
   {
    "duration": 39,
    "start_time": "2023-02-06T13:38:21.863Z"
   },
   {
    "duration": 190,
    "start_time": "2023-02-06T13:38:21.903Z"
   },
   {
    "duration": 190,
    "start_time": "2023-02-06T13:38:22.096Z"
   },
   {
    "duration": 5,
    "start_time": "2023-02-06T13:38:22.288Z"
   },
   {
    "duration": 97,
    "start_time": "2023-02-06T13:38:22.295Z"
   },
   {
    "duration": 3866,
    "start_time": "2023-02-06T13:38:22.394Z"
   },
   {
    "duration": 3983,
    "start_time": "2023-02-06T13:38:26.262Z"
   },
   {
    "duration": 3887,
    "start_time": "2023-02-06T13:38:30.247Z"
   },
   {
    "duration": 57,
    "start_time": "2023-02-10T05:52:58.236Z"
   },
   {
    "duration": 748,
    "start_time": "2023-02-10T05:53:04.628Z"
   },
   {
    "duration": 1455,
    "start_time": "2023-02-10T05:53:13.124Z"
   },
   {
    "duration": 2247,
    "start_time": "2023-02-10T05:53:14.582Z"
   },
   {
    "duration": 10,
    "start_time": "2023-02-10T05:53:16.831Z"
   },
   {
    "duration": 101,
    "start_time": "2023-02-10T05:53:16.843Z"
   },
   {
    "duration": 9,
    "start_time": "2023-02-10T05:53:16.945Z"
   },
   {
    "duration": 42,
    "start_time": "2023-02-10T05:53:16.956Z"
   },
   {
    "duration": 28,
    "start_time": "2023-02-10T05:53:16.999Z"
   },
   {
    "duration": 83,
    "start_time": "2023-02-10T05:53:17.029Z"
   },
   {
    "duration": 13,
    "start_time": "2023-02-10T05:53:17.194Z"
   },
   {
    "duration": 10739,
    "start_time": "2023-02-10T05:53:17.210Z"
   },
   {
    "duration": 4,
    "start_time": "2023-02-10T05:53:27.951Z"
   },
   {
    "duration": 12,
    "start_time": "2023-02-10T05:53:27.956Z"
   },
   {
    "duration": 3514,
    "start_time": "2023-02-10T05:53:27.970Z"
   },
   {
    "duration": 3412,
    "start_time": "2023-02-10T05:53:31.491Z"
   },
   {
    "duration": 3505,
    "start_time": "2023-02-10T05:53:34.905Z"
   },
   {
    "duration": 5,
    "start_time": "2023-02-10T05:54:28.477Z"
   },
   {
    "duration": 13,
    "start_time": "2023-02-10T05:54:31.592Z"
   },
   {
    "duration": 9563,
    "start_time": "2023-02-10T05:54:44.308Z"
   }
  ],
  "kernelspec": {
   "display_name": "Python 3 (ipykernel)",
   "language": "python",
   "name": "python3"
  },
  "language_info": {
   "codemirror_mode": {
    "name": "ipython",
    "version": 3
   },
   "file_extension": ".py",
   "mimetype": "text/x-python",
   "name": "python",
   "nbconvert_exporter": "python",
   "pygments_lexer": "ipython3",
   "version": "3.9.13"
  },
  "toc": {
   "base_numbering": 1,
   "nav_menu": {},
   "number_sections": true,
   "sideBar": true,
   "skip_h1_title": true,
   "title_cell": "Table of Contents",
   "title_sidebar": "Contents",
   "toc_cell": false,
   "toc_position": {},
   "toc_section_display": true,
   "toc_window_display": false
  }
 },
 "nbformat": 4,
 "nbformat_minor": 2
}
